{
  "cells": [
    {
      "cell_type": "code",
      "execution_count": 2,
      "metadata": {
        "colab": {
          "base_uri": "https://localhost:8080/",
          "height": 693
        },
        "id": "kbO5gU_AY4P6",
        "outputId": "700e102b-4b8f-403f-9e43-6b85d700b44c"
      },
      "outputs": [
        {
          "name": "stdout",
          "output_type": "stream",
          "text": [
            "Requirement already satisfied: wfdb in c:\\users\\harini\\appdata\\local\\packages\\pythonsoftwarefoundation.python.3.10_qbz5n2kfra8p0\\localcache\\local-packages\\python310\\site-packages (4.1.0)\n",
            "Requirement already satisfied: pandas<2.0.0,>=1.0.0 in c:\\users\\harini\\appdata\\local\\packages\\pythonsoftwarefoundation.python.3.10_qbz5n2kfra8p0\\localcache\\local-packages\\python310\\site-packages (from wfdb) (1.4.2)\n",
            "Requirement already satisfied: scipy<2.0.0,>=1.0.0 in c:\\users\\harini\\appdata\\local\\packages\\pythonsoftwarefoundation.python.3.10_qbz5n2kfra8p0\\localcache\\local-packages\\python310\\site-packages (from wfdb) (1.10.1)\n",
            "Requirement already satisfied: numpy<2.0.0,>=1.10.1 in c:\\users\\harini\\appdata\\local\\packages\\pythonsoftwarefoundation.python.3.10_qbz5n2kfra8p0\\localcache\\local-packages\\python310\\site-packages (from wfdb) (1.22.3)\n",
            "Requirement already satisfied: matplotlib<4.0.0,>=3.2.2 in c:\\users\\harini\\appdata\\local\\packages\\pythonsoftwarefoundation.python.3.10_qbz5n2kfra8p0\\localcache\\local-packages\\python310\\site-packages (from wfdb) (3.7.1)\n",
            "Requirement already satisfied: SoundFile<0.12.0,>=0.10.0 in c:\\users\\harini\\appdata\\local\\packages\\pythonsoftwarefoundation.python.3.10_qbz5n2kfra8p0\\localcache\\local-packages\\python310\\site-packages (from wfdb) (0.11.0)\n",
            "Requirement already satisfied: requests<3.0.0,>=2.8.1 in c:\\users\\harini\\appdata\\local\\packages\\pythonsoftwarefoundation.python.3.10_qbz5n2kfra8p0\\localcache\\local-packages\\python310\\site-packages (from wfdb) (2.28.2)\n",
            "Requirement already satisfied: cycler>=0.10 in c:\\users\\harini\\appdata\\local\\packages\\pythonsoftwarefoundation.python.3.10_qbz5n2kfra8p0\\localcache\\local-packages\\python310\\site-packages (from matplotlib<4.0.0,>=3.2.2->wfdb) (0.11.0)\n",
            "Requirement already satisfied: python-dateutil>=2.7 in c:\\users\\harini\\appdata\\local\\packages\\pythonsoftwarefoundation.python.3.10_qbz5n2kfra8p0\\localcache\\local-packages\\python310\\site-packages (from matplotlib<4.0.0,>=3.2.2->wfdb) (2.8.2)\n",
            "Requirement already satisfied: contourpy>=1.0.1 in c:\\users\\harini\\appdata\\local\\packages\\pythonsoftwarefoundation.python.3.10_qbz5n2kfra8p0\\localcache\\local-packages\\python310\\site-packages (from matplotlib<4.0.0,>=3.2.2->wfdb) (1.0.7)\n",
            "Requirement already satisfied: pillow>=6.2.0 in c:\\users\\harini\\appdata\\local\\packages\\pythonsoftwarefoundation.python.3.10_qbz5n2kfra8p0\\localcache\\local-packages\\python310\\site-packages (from matplotlib<4.0.0,>=3.2.2->wfdb) (9.4.0)\n",
            "Requirement already satisfied: packaging>=20.0 in c:\\users\\harini\\appdata\\local\\packages\\pythonsoftwarefoundation.python.3.10_qbz5n2kfra8p0\\localcache\\local-packages\\python310\\site-packages (from matplotlib<4.0.0,>=3.2.2->wfdb) (23.0)\n",
            "Requirement already satisfied: pyparsing>=2.3.1 in c:\\users\\harini\\appdata\\local\\packages\\pythonsoftwarefoundation.python.3.10_qbz5n2kfra8p0\\localcache\\local-packages\\python310\\site-packages (from matplotlib<4.0.0,>=3.2.2->wfdb) (3.0.9)\n",
            "Requirement already satisfied: fonttools>=4.22.0 in c:\\users\\harini\\appdata\\local\\packages\\pythonsoftwarefoundation.python.3.10_qbz5n2kfra8p0\\localcache\\local-packages\\python310\\site-packages (from matplotlib<4.0.0,>=3.2.2->wfdb) (4.38.0)\n",
            "Requirement already satisfied: kiwisolver>=1.0.1 in c:\\users\\harini\\appdata\\local\\packages\\pythonsoftwarefoundation.python.3.10_qbz5n2kfra8p0\\localcache\\local-packages\\python310\\site-packages (from matplotlib<4.0.0,>=3.2.2->wfdb) (1.4.4)\n",
            "Requirement already satisfied: pytz>=2020.1 in c:\\users\\harini\\appdata\\local\\packages\\pythonsoftwarefoundation.python.3.10_qbz5n2kfra8p0\\localcache\\local-packages\\python310\\site-packages (from pandas<2.0.0,>=1.0.0->wfdb) (2022.1)\n",
            "Requirement already satisfied: certifi>=2017.4.17 in c:\\users\\harini\\appdata\\local\\packages\\pythonsoftwarefoundation.python.3.10_qbz5n2kfra8p0\\localcache\\local-packages\\python310\\site-packages (from requests<3.0.0,>=2.8.1->wfdb) (2022.12.7)\n",
            "Requirement already satisfied: urllib3<1.27,>=1.21.1 in c:\\users\\harini\\appdata\\local\\packages\\pythonsoftwarefoundation.python.3.10_qbz5n2kfra8p0\\localcache\\local-packages\\python310\\site-packages (from requests<3.0.0,>=2.8.1->wfdb) (1.26.14)\n",
            "Requirement already satisfied: idna<4,>=2.5 in c:\\users\\harini\\appdata\\local\\packages\\pythonsoftwarefoundation.python.3.10_qbz5n2kfra8p0\\localcache\\local-packages\\python310\\site-packages (from requests<3.0.0,>=2.8.1->wfdb) (3.4)\n",
            "Requirement already satisfied: charset-normalizer<4,>=2 in c:\\users\\harini\\appdata\\local\\packages\\pythonsoftwarefoundation.python.3.10_qbz5n2kfra8p0\\localcache\\local-packages\\python310\\site-packages (from requests<3.0.0,>=2.8.1->wfdb) (3.0.1)\n",
            "Requirement already satisfied: cffi>=1.0 in c:\\users\\harini\\appdata\\local\\packages\\pythonsoftwarefoundation.python.3.10_qbz5n2kfra8p0\\localcache\\local-packages\\python310\\site-packages (from SoundFile<0.12.0,>=0.10.0->wfdb) (1.15.1)\n",
            "Requirement already satisfied: pycparser in c:\\users\\harini\\appdata\\local\\packages\\pythonsoftwarefoundation.python.3.10_qbz5n2kfra8p0\\localcache\\local-packages\\python310\\site-packages (from cffi>=1.0->SoundFile<0.12.0,>=0.10.0->wfdb) (2.21)\n",
            "Requirement already satisfied: six>=1.5 in c:\\users\\harini\\appdata\\local\\packages\\pythonsoftwarefoundation.python.3.10_qbz5n2kfra8p0\\localcache\\local-packages\\python310\\site-packages (from python-dateutil>=2.7->matplotlib<4.0.0,>=3.2.2->wfdb) (1.16.0)\n"
          ]
        },
        {
          "name": "stderr",
          "output_type": "stream",
          "text": [
            "WARNING: Ignoring invalid distribution -atplotlib (c:\\users\\harini\\appdata\\local\\packages\\pythonsoftwarefoundation.python.3.10_qbz5n2kfra8p0\\localcache\\local-packages\\python310\\site-packages)\n",
            "WARNING: Ignoring invalid distribution -atplotlib (c:\\users\\harini\\appdata\\local\\packages\\pythonsoftwarefoundation.python.3.10_qbz5n2kfra8p0\\localcache\\local-packages\\python310\\site-packages)\n",
            "WARNING: Ignoring invalid distribution -atplotlib (c:\\users\\harini\\appdata\\local\\packages\\pythonsoftwarefoundation.python.3.10_qbz5n2kfra8p0\\localcache\\local-packages\\python310\\site-packages)\n",
            "WARNING: Ignoring invalid distribution -atplotlib (c:\\users\\harini\\appdata\\local\\packages\\pythonsoftwarefoundation.python.3.10_qbz5n2kfra8p0\\localcache\\local-packages\\python310\\site-packages)\n",
            "WARNING: Ignoring invalid distribution -atplotlib (c:\\users\\harini\\appdata\\local\\packages\\pythonsoftwarefoundation.python.3.10_qbz5n2kfra8p0\\localcache\\local-packages\\python310\\site-packages)\n",
            "WARNING: Ignoring invalid distribution -atplotlib (c:\\users\\harini\\appdata\\local\\packages\\pythonsoftwarefoundation.python.3.10_qbz5n2kfra8p0\\localcache\\local-packages\\python310\\site-packages)\n"
          ]
        }
      ],
      "source": [
        "!pip install wfdb"
      ]
    },
    {
      "cell_type": "code",
      "execution_count": 3,
      "metadata": {
        "colab": {
          "base_uri": "https://localhost:8080/"
        },
        "id": "O9eRI8XrY9BR",
        "outputId": "1509e16f-6ff5-4494-bd29-a2855944a41e"
      },
      "outputs": [
        {
          "name": "stdout",
          "output_type": "stream",
          "text": [
            "^C\n",
            "Note: you may need to restart the kernel to use updated packages.\n"
          ]
        },
        {
          "name": "stdout",
          "output_type": "stream",
          "text": [
            "Collecting matplotlib==3.1.3\n",
            "  Using cached matplotlib-3.1.3.tar.gz (40.9 MB)\n",
            "  Preparing metadata (setup.py): started\n",
            "  Preparing metadata (setup.py): finished with status 'done'\n",
            "Requirement already satisfied: cycler>=0.10 in c:\\users\\harini\\appdata\\local\\packages\\pythonsoftwarefoundation.python.3.10_qbz5n2kfra8p0\\localcache\\local-packages\\python310\\site-packages (from matplotlib==3.1.3) (0.11.0)\n",
            "Requirement already satisfied: kiwisolver>=1.0.1 in c:\\users\\harini\\appdata\\local\\packages\\pythonsoftwarefoundation.python.3.10_qbz5n2kfra8p0\\localcache\\local-packages\\python310\\site-packages (from matplotlib==3.1.3) (1.4.4)\n",
            "Requirement already satisfied: pyparsing!=2.0.4,!=2.1.2,!=2.1.6,>=2.0.1 in c:\\users\\harini\\appdata\\local\\packages\\pythonsoftwarefoundation.python.3.10_qbz5n2kfra8p0\\localcache\\local-packages\\python310\\site-packages (from matplotlib==3.1.3) (3.0.9)\n",
            "Requirement already satisfied: python-dateutil>=2.1 in c:\\users\\harini\\appdata\\local\\packages\\pythonsoftwarefoundation.python.3.10_qbz5n2kfra8p0\\localcache\\local-packages\\python310\\site-packages (from matplotlib==3.1.3) (2.8.2)\n",
            "Requirement already satisfied: numpy>=1.11 in c:\\users\\harini\\appdata\\local\\packages\\pythonsoftwarefoundation.python.3.10_qbz5n2kfra8p0\\localcache\\local-packages\\python310\\site-packages (from matplotlib==3.1.3) (1.22.3)\n",
            "Requirement already satisfied: six>=1.5 in c:\\users\\harini\\appdata\\local\\packages\\pythonsoftwarefoundation.python.3.10_qbz5n2kfra8p0\\localcache\\local-packages\\python310\\site-packages (from python-dateutil>=2.1->matplotlib==3.1.3) (1.16.0)\n",
            "Building wheels for collected packages: matplotlib\n",
            "  Building wheel for matplotlib (setup.py): started\n",
            "  Building wheel for matplotlib (setup.py): finished with status 'error'\n",
            "  Running setup.py clean for matplotlib\n",
            "Failed to build matplotlib\n",
            "Installing collected packages: matplotlib\n",
            "  Attempting uninstall: matplotlib\n",
            "    Found existing installation: matplotlib 3.7.1\n",
            "    Uninstalling matplotlib-3.7.1:\n",
            "      Successfully uninstalled matplotlib-3.7.1\n",
            "  Running setup.py install for matplotlib: started\n",
            "  Running setup.py install for matplotlib: finished with status 'error'\n",
            "  Rolling back uninstall of matplotlib\n",
            "  Moving to c:\\users\\harini\\appdata\\local\\packages\\pythonsoftwarefoundation.python.3.10_qbz5n2kfra8p0\\localcache\\local-packages\\python310\\site-packages\\__pycache__\\pylab.cpython-310.pyc\n",
            "   from C:\\Users\\harini\\AppData\\Local\\Temp\\pip-uninstall-dxtq7b3_\\pylab.cpython-310.pyc\n",
            "  Moving to c:\\users\\harini\\appdata\\local\\packages\\pythonsoftwarefoundation.python.3.10_qbz5n2kfra8p0\\localcache\\local-packages\\python310\\site-packages\\matplotlib-3.7.1-py3.10-nspkg.pth\n",
            "   from C:\\Users\\harini\\AppData\\Local\\Temp\\pip-uninstall-bbvs6rdw\\matplotlib-3.7.1-py3.10-nspkg.pth\n",
            "  Moving to c:\\users\\harini\\appdata\\local\\packages\\pythonsoftwarefoundation.python.3.10_qbz5n2kfra8p0\\localcache\\local-packages\\python310\\site-packages\\matplotlib-3.7.1.dist-info\\\n",
            "   from C:\\Users\\harini\\AppData\\Local\\Packages\\PythonSoftwareFoundation.Python.3.10_qbz5n2kfra8p0\\LocalCache\\local-packages\\Python310\\site-packages\\~atplotlib-3.7.1.dist-info\n",
            "  Moving to c:\\users\\harini\\appdata\\local\\packages\\pythonsoftwarefoundation.python.3.10_qbz5n2kfra8p0\\localcache\\local-packages\\python310\\site-packages\\matplotlib.libs\\\n",
            "   from C:\\Users\\harini\\AppData\\Local\\Packages\\PythonSoftwareFoundation.Python.3.10_qbz5n2kfra8p0\\LocalCache\\local-packages\\Python310\\site-packages\\~-tplotlib.libs\n",
            "  Moving to c:\\users\\harini\\appdata\\local\\packages\\pythonsoftwarefoundation.python.3.10_qbz5n2kfra8p0\\localcache\\local-packages\\python310\\site-packages\\matplotlib\\\n",
            "   from C:\\Users\\harini\\AppData\\Local\\Packages\\PythonSoftwareFoundation.Python.3.10_qbz5n2kfra8p0\\LocalCache\\local-packages\\Python310\\site-packages\\~-tplotlib\n",
            "  Moving to c:\\users\\harini\\appdata\\local\\packages\\pythonsoftwarefoundation.python.3.10_qbz5n2kfra8p0\\localcache\\local-packages\\python310\\site-packages\\mpl_toolkits\\\n",
            "   from C:\\Users\\harini\\AppData\\Local\\Packages\\PythonSoftwareFoundation.Python.3.10_qbz5n2kfra8p0\\LocalCache\\local-packages\\Python310\\site-packages\\~pl_toolkits\n",
            "  Moving to c:\\users\\harini\\appdata\\local\\packages\\pythonsoftwarefoundation.python.3.10_qbz5n2kfra8p0\\localcache\\local-packages\\python310\\site-packages\\pylab.py\n",
            "   from C:\\Users\\harini\\AppData\\Local\\Temp\\pip-uninstall-bbvs6rdw\\pylab.py\n"
          ]
        },
        {
          "name": "stderr",
          "output_type": "stream",
          "text": [
            "WARNING: Ignoring invalid distribution -atplotlib (c:\\users\\harini\\appdata\\local\\packages\\pythonsoftwarefoundation.python.3.10_qbz5n2kfra8p0\\localcache\\local-packages\\python310\\site-packages)\n",
            "WARNING: Ignoring invalid distribution -atplotlib (c:\\users\\harini\\appdata\\local\\packages\\pythonsoftwarefoundation.python.3.10_qbz5n2kfra8p0\\localcache\\local-packages\\python310\\site-packages)\n",
            "  error: subprocess-exited-with-error\n",
            "  \n",
            "  × python setup.py bdist_wheel did not run successfully.\n",
            "  │ exit code: 1\n",
            "  ╰─> [501 lines of output]\n",
            "      ================================================================================\n",
            "      Edit setup.cfg to change the build options\n",
            "      \n",
            "      BUILDING MATPLOTLIB\n",
            "        matplotlib: yes [3.1.3]\n",
            "            python: yes [3.10.10 (tags/v3.10.10:aad5f6a, Feb  7 2023, 17:20:36) [MSC\n",
            "                        v.1929 64 bit (AMD64)]]\n",
            "          platform: yes [win32]\n",
            "      \n",
            "      OPTIONAL SUBPACKAGES\n",
            "       sample_data: yes [installing]\n",
            "             tests: no  [skipping due to configuration]\n",
            "      \n",
            "      OPTIONAL BACKEND EXTENSIONS\n",
            "               agg: yes [installing]\n",
            "             tkagg: yes [installing; run-time loading from Python Tcl/Tk]\n",
            "            macosx: no  [Mac OS-X only]\n",
            "      \n",
            "      OPTIONAL PACKAGE DATA\n",
            "              dlls: no  [skipping due to configuration]\n",
            "      \n",
            "      C:\\Program Files\\WindowsApps\\PythonSoftwareFoundation.Python.3.10_3.10.2800.0_x64__qbz5n2kfra8p0\\lib\\site-packages\\setuptools\\dist.py:286: SetuptoolsDeprecationWarning: The namespace_packages parameter is deprecated, consider using implicit namespaces instead (PEP 420).\n",
            "        warnings.warn(msg, SetuptoolsDeprecationWarning)\n",
            "      running bdist_wheel\n",
            "      running build\n",
            "      running build_py\n",
            "      creating build\n",
            "      creating build\\lib.win-amd64-cpython-310\n",
            "      copying lib\\pylab.py -> build\\lib.win-amd64-cpython-310\n",
            "      creating build\\lib.win-amd64-cpython-310\\matplotlib\n",
            "      copying lib\\matplotlib\\afm.py -> build\\lib.win-amd64-cpython-310\\matplotlib\n",
            "      copying lib\\matplotlib\\animation.py -> build\\lib.win-amd64-cpython-310\\matplotlib\n",
            "      copying lib\\matplotlib\\artist.py -> build\\lib.win-amd64-cpython-310\\matplotlib\n",
            "      copying lib\\matplotlib\\axis.py -> build\\lib.win-amd64-cpython-310\\matplotlib\n",
            "      copying lib\\matplotlib\\backend_bases.py -> build\\lib.win-amd64-cpython-310\\matplotlib\n",
            "      copying lib\\matplotlib\\backend_managers.py -> build\\lib.win-amd64-cpython-310\\matplotlib\n",
            "      copying lib\\matplotlib\\backend_tools.py -> build\\lib.win-amd64-cpython-310\\matplotlib\n",
            "      copying lib\\matplotlib\\bezier.py -> build\\lib.win-amd64-cpython-310\\matplotlib\n",
            "      copying lib\\matplotlib\\blocking_input.py -> build\\lib.win-amd64-cpython-310\\matplotlib\n",
            "      copying lib\\matplotlib\\category.py -> build\\lib.win-amd64-cpython-310\\matplotlib\n",
            "      copying lib\\matplotlib\\cm.py -> build\\lib.win-amd64-cpython-310\\matplotlib\n",
            "      copying lib\\matplotlib\\collections.py -> build\\lib.win-amd64-cpython-310\\matplotlib\n",
            "      copying lib\\matplotlib\\colorbar.py -> build\\lib.win-amd64-cpython-310\\matplotlib\n",
            "      copying lib\\matplotlib\\colors.py -> build\\lib.win-amd64-cpython-310\\matplotlib\n",
            "      copying lib\\matplotlib\\container.py -> build\\lib.win-amd64-cpython-310\\matplotlib\n",
            "      copying lib\\matplotlib\\contour.py -> build\\lib.win-amd64-cpython-310\\matplotlib\n",
            "      copying lib\\matplotlib\\dates.py -> build\\lib.win-amd64-cpython-310\\matplotlib\n",
            "      copying lib\\matplotlib\\docstring.py -> build\\lib.win-amd64-cpython-310\\matplotlib\n",
            "      copying lib\\matplotlib\\dviread.py -> build\\lib.win-amd64-cpython-310\\matplotlib\n",
            "      copying lib\\matplotlib\\figure.py -> build\\lib.win-amd64-cpython-310\\matplotlib\n",
            "      copying lib\\matplotlib\\fontconfig_pattern.py -> build\\lib.win-amd64-cpython-310\\matplotlib\n",
            "      copying lib\\matplotlib\\font_manager.py -> build\\lib.win-amd64-cpython-310\\matplotlib\n",
            "      copying lib\\matplotlib\\gridspec.py -> build\\lib.win-amd64-cpython-310\\matplotlib\n",
            "      copying lib\\matplotlib\\hatch.py -> build\\lib.win-amd64-cpython-310\\matplotlib\n",
            "      copying lib\\matplotlib\\image.py -> build\\lib.win-amd64-cpython-310\\matplotlib\n",
            "      copying lib\\matplotlib\\legend.py -> build\\lib.win-amd64-cpython-310\\matplotlib\n",
            "      copying lib\\matplotlib\\legend_handler.py -> build\\lib.win-amd64-cpython-310\\matplotlib\n",
            "      copying lib\\matplotlib\\lines.py -> build\\lib.win-amd64-cpython-310\\matplotlib\n",
            "      copying lib\\matplotlib\\markers.py -> build\\lib.win-amd64-cpython-310\\matplotlib\n",
            "      copying lib\\matplotlib\\mathtext.py -> build\\lib.win-amd64-cpython-310\\matplotlib\n",
            "      copying lib\\matplotlib\\mlab.py -> build\\lib.win-amd64-cpython-310\\matplotlib\n",
            "      copying lib\\matplotlib\\offsetbox.py -> build\\lib.win-amd64-cpython-310\\matplotlib\n",
            "      copying lib\\matplotlib\\patches.py -> build\\lib.win-amd64-cpython-310\\matplotlib\n",
            "      copying lib\\matplotlib\\path.py -> build\\lib.win-amd64-cpython-310\\matplotlib\n",
            "      copying lib\\matplotlib\\patheffects.py -> build\\lib.win-amd64-cpython-310\\matplotlib\n",
            "      copying lib\\matplotlib\\pylab.py -> build\\lib.win-amd64-cpython-310\\matplotlib\n",
            "      copying lib\\matplotlib\\pyplot.py -> build\\lib.win-amd64-cpython-310\\matplotlib\n",
            "      copying lib\\matplotlib\\quiver.py -> build\\lib.win-amd64-cpython-310\\matplotlib\n",
            "      copying lib\\matplotlib\\rcsetup.py -> build\\lib.win-amd64-cpython-310\\matplotlib\n",
            "      copying lib\\matplotlib\\sankey.py -> build\\lib.win-amd64-cpython-310\\matplotlib\n",
            "      copying lib\\matplotlib\\scale.py -> build\\lib.win-amd64-cpython-310\\matplotlib\n",
            "      copying lib\\matplotlib\\spines.py -> build\\lib.win-amd64-cpython-310\\matplotlib\n",
            "      copying lib\\matplotlib\\stackplot.py -> build\\lib.win-amd64-cpython-310\\matplotlib\n",
            "      copying lib\\matplotlib\\streamplot.py -> build\\lib.win-amd64-cpython-310\\matplotlib\n",
            "      copying lib\\matplotlib\\table.py -> build\\lib.win-amd64-cpython-310\\matplotlib\n",
            "      copying lib\\matplotlib\\texmanager.py -> build\\lib.win-amd64-cpython-310\\matplotlib\n",
            "      copying lib\\matplotlib\\text.py -> build\\lib.win-amd64-cpython-310\\matplotlib\n",
            "      copying lib\\matplotlib\\textpath.py -> build\\lib.win-amd64-cpython-310\\matplotlib\n",
            "      copying lib\\matplotlib\\ticker.py -> build\\lib.win-amd64-cpython-310\\matplotlib\n",
            "      copying lib\\matplotlib\\tight_bbox.py -> build\\lib.win-amd64-cpython-310\\matplotlib\n",
            "      copying lib\\matplotlib\\tight_layout.py -> build\\lib.win-amd64-cpython-310\\matplotlib\n",
            "      copying lib\\matplotlib\\transforms.py -> build\\lib.win-amd64-cpython-310\\matplotlib\n",
            "      copying lib\\matplotlib\\type1font.py -> build\\lib.win-amd64-cpython-310\\matplotlib\n",
            "      copying lib\\matplotlib\\units.py -> build\\lib.win-amd64-cpython-310\\matplotlib\n",
            "      copying lib\\matplotlib\\widgets.py -> build\\lib.win-amd64-cpython-310\\matplotlib\n",
            "      copying lib\\matplotlib\\_animation_data.py -> build\\lib.win-amd64-cpython-310\\matplotlib\n",
            "      copying lib\\matplotlib\\_cm.py -> build\\lib.win-amd64-cpython-310\\matplotlib\n",
            "      copying lib\\matplotlib\\_cm_listed.py -> build\\lib.win-amd64-cpython-310\\matplotlib\n",
            "      copying lib\\matplotlib\\_color_data.py -> build\\lib.win-amd64-cpython-310\\matplotlib\n",
            "      copying lib\\matplotlib\\_constrained_layout.py -> build\\lib.win-amd64-cpython-310\\matplotlib\n",
            "      copying lib\\matplotlib\\_layoutbox.py -> build\\lib.win-amd64-cpython-310\\matplotlib\n",
            "      copying lib\\matplotlib\\_mathtext_data.py -> build\\lib.win-amd64-cpython-310\\matplotlib\n",
            "      copying lib\\matplotlib\\_pylab_helpers.py -> build\\lib.win-amd64-cpython-310\\matplotlib\n",
            "      copying lib\\matplotlib\\_version.py -> build\\lib.win-amd64-cpython-310\\matplotlib\n",
            "      copying lib\\matplotlib\\__init__.py -> build\\lib.win-amd64-cpython-310\\matplotlib\n",
            "      creating build\\lib.win-amd64-cpython-310\\mpl_toolkits\n",
            "      copying lib\\mpl_toolkits\\__init__.py -> build\\lib.win-amd64-cpython-310\\mpl_toolkits\n",
            "      creating build\\lib.win-amd64-cpython-310\\matplotlib\\axes\n",
            "      copying lib\\matplotlib\\axes\\_axes.py -> build\\lib.win-amd64-cpython-310\\matplotlib\\axes\n",
            "      copying lib\\matplotlib\\axes\\_base.py -> build\\lib.win-amd64-cpython-310\\matplotlib\\axes\n",
            "      copying lib\\matplotlib\\axes\\_secondary_axes.py -> build\\lib.win-amd64-cpython-310\\matplotlib\\axes\n",
            "      copying lib\\matplotlib\\axes\\_subplots.py -> build\\lib.win-amd64-cpython-310\\matplotlib\\axes\n",
            "      copying lib\\matplotlib\\axes\\__init__.py -> build\\lib.win-amd64-cpython-310\\matplotlib\\axes\n",
            "      creating build\\lib.win-amd64-cpython-310\\matplotlib\\backends\n",
            "      copying lib\\matplotlib\\backends\\backend_agg.py -> build\\lib.win-amd64-cpython-310\\matplotlib\\backends\n",
            "      copying lib\\matplotlib\\backends\\backend_cairo.py -> build\\lib.win-amd64-cpython-310\\matplotlib\\backends\n",
            "      copying lib\\matplotlib\\backends\\backend_gtk3.py -> build\\lib.win-amd64-cpython-310\\matplotlib\\backends\n",
            "      copying lib\\matplotlib\\backends\\backend_gtk3agg.py -> build\\lib.win-amd64-cpython-310\\matplotlib\\backends\n",
            "      copying lib\\matplotlib\\backends\\backend_gtk3cairo.py -> build\\lib.win-amd64-cpython-310\\matplotlib\\backends\n",
            "      copying lib\\matplotlib\\backends\\backend_macosx.py -> build\\lib.win-amd64-cpython-310\\matplotlib\\backends\n",
            "      copying lib\\matplotlib\\backends\\backend_mixed.py -> build\\lib.win-amd64-cpython-310\\matplotlib\\backends\n",
            "      copying lib\\matplotlib\\backends\\backend_nbagg.py -> build\\lib.win-amd64-cpython-310\\matplotlib\\backends\n",
            "      copying lib\\matplotlib\\backends\\backend_pdf.py -> build\\lib.win-amd64-cpython-310\\matplotlib\\backends\n",
            "      copying lib\\matplotlib\\backends\\backend_pgf.py -> build\\lib.win-amd64-cpython-310\\matplotlib\\backends\n",
            "      copying lib\\matplotlib\\backends\\backend_ps.py -> build\\lib.win-amd64-cpython-310\\matplotlib\\backends\n",
            "      copying lib\\matplotlib\\backends\\backend_qt4.py -> build\\lib.win-amd64-cpython-310\\matplotlib\\backends\n",
            "      copying lib\\matplotlib\\backends\\backend_qt4agg.py -> build\\lib.win-amd64-cpython-310\\matplotlib\\backends\n",
            "      copying lib\\matplotlib\\backends\\backend_qt4cairo.py -> build\\lib.win-amd64-cpython-310\\matplotlib\\backends\n",
            "      copying lib\\matplotlib\\backends\\backend_qt5.py -> build\\lib.win-amd64-cpython-310\\matplotlib\\backends\n",
            "      copying lib\\matplotlib\\backends\\backend_qt5agg.py -> build\\lib.win-amd64-cpython-310\\matplotlib\\backends\n",
            "      copying lib\\matplotlib\\backends\\backend_qt5cairo.py -> build\\lib.win-amd64-cpython-310\\matplotlib\\backends\n",
            "      copying lib\\matplotlib\\backends\\backend_svg.py -> build\\lib.win-amd64-cpython-310\\matplotlib\\backends\n",
            "      copying lib\\matplotlib\\backends\\backend_template.py -> build\\lib.win-amd64-cpython-310\\matplotlib\\backends\n",
            "      copying lib\\matplotlib\\backends\\backend_tkagg.py -> build\\lib.win-amd64-cpython-310\\matplotlib\\backends\n",
            "      copying lib\\matplotlib\\backends\\backend_tkcairo.py -> build\\lib.win-amd64-cpython-310\\matplotlib\\backends\n",
            "      copying lib\\matplotlib\\backends\\backend_webagg.py -> build\\lib.win-amd64-cpython-310\\matplotlib\\backends\n",
            "      copying lib\\matplotlib\\backends\\backend_webagg_core.py -> build\\lib.win-amd64-cpython-310\\matplotlib\\backends\n",
            "      copying lib\\matplotlib\\backends\\backend_wx.py -> build\\lib.win-amd64-cpython-310\\matplotlib\\backends\n",
            "      copying lib\\matplotlib\\backends\\backend_wxagg.py -> build\\lib.win-amd64-cpython-310\\matplotlib\\backends\n",
            "      copying lib\\matplotlib\\backends\\backend_wxcairo.py -> build\\lib.win-amd64-cpython-310\\matplotlib\\backends\n",
            "      copying lib\\matplotlib\\backends\\qt_compat.py -> build\\lib.win-amd64-cpython-310\\matplotlib\\backends\n",
            "      copying lib\\matplotlib\\backends\\tkagg.py -> build\\lib.win-amd64-cpython-310\\matplotlib\\backends\n",
            "      copying lib\\matplotlib\\backends\\windowing.py -> build\\lib.win-amd64-cpython-310\\matplotlib\\backends\n",
            "      copying lib\\matplotlib\\backends\\wx_compat.py -> build\\lib.win-amd64-cpython-310\\matplotlib\\backends\n",
            "      copying lib\\matplotlib\\backends\\_backend_pdf_ps.py -> build\\lib.win-amd64-cpython-310\\matplotlib\\backends\n",
            "      copying lib\\matplotlib\\backends\\_backend_tk.py -> build\\lib.win-amd64-cpython-310\\matplotlib\\backends\n",
            "      copying lib\\matplotlib\\backends\\__init__.py -> build\\lib.win-amd64-cpython-310\\matplotlib\\backends\n",
            "      creating build\\lib.win-amd64-cpython-310\\matplotlib\\cbook\n",
            "      copying lib\\matplotlib\\cbook\\deprecation.py -> build\\lib.win-amd64-cpython-310\\matplotlib\\cbook\n",
            "      copying lib\\matplotlib\\cbook\\__init__.py -> build\\lib.win-amd64-cpython-310\\matplotlib\\cbook\n",
            "      creating build\\lib.win-amd64-cpython-310\\matplotlib\\compat\n",
            "      copying lib\\matplotlib\\compat\\subprocess.py -> build\\lib.win-amd64-cpython-310\\matplotlib\\compat\n",
            "      copying lib\\matplotlib\\compat\\__init__.py -> build\\lib.win-amd64-cpython-310\\matplotlib\\compat\n",
            "      creating build\\lib.win-amd64-cpython-310\\matplotlib\\projections\n",
            "      copying lib\\matplotlib\\projections\\geo.py -> build\\lib.win-amd64-cpython-310\\matplotlib\\projections\n",
            "      copying lib\\matplotlib\\projections\\polar.py -> build\\lib.win-amd64-cpython-310\\matplotlib\\projections\n",
            "      copying lib\\matplotlib\\projections\\__init__.py -> build\\lib.win-amd64-cpython-310\\matplotlib\\projections\n",
            "      creating build\\lib.win-amd64-cpython-310\\matplotlib\\sphinxext\n",
            "      copying lib\\matplotlib\\sphinxext\\mathmpl.py -> build\\lib.win-amd64-cpython-310\\matplotlib\\sphinxext\n",
            "      copying lib\\matplotlib\\sphinxext\\plot_directive.py -> build\\lib.win-amd64-cpython-310\\matplotlib\\sphinxext\n",
            "      copying lib\\matplotlib\\sphinxext\\__init__.py -> build\\lib.win-amd64-cpython-310\\matplotlib\\sphinxext\n",
            "      creating build\\lib.win-amd64-cpython-310\\matplotlib\\style\n",
            "      copying lib\\matplotlib\\style\\core.py -> build\\lib.win-amd64-cpython-310\\matplotlib\\style\n",
            "      copying lib\\matplotlib\\style\\__init__.py -> build\\lib.win-amd64-cpython-310\\matplotlib\\style\n",
            "      creating build\\lib.win-amd64-cpython-310\\matplotlib\\testing\n",
            "      copying lib\\matplotlib\\testing\\compare.py -> build\\lib.win-amd64-cpython-310\\matplotlib\\testing\n",
            "      copying lib\\matplotlib\\testing\\conftest.py -> build\\lib.win-amd64-cpython-310\\matplotlib\\testing\n",
            "      copying lib\\matplotlib\\testing\\decorators.py -> build\\lib.win-amd64-cpython-310\\matplotlib\\testing\n",
            "      copying lib\\matplotlib\\testing\\determinism.py -> build\\lib.win-amd64-cpython-310\\matplotlib\\testing\n",
            "      copying lib\\matplotlib\\testing\\disable_internet.py -> build\\lib.win-amd64-cpython-310\\matplotlib\\testing\n",
            "      copying lib\\matplotlib\\testing\\exceptions.py -> build\\lib.win-amd64-cpython-310\\matplotlib\\testing\n",
            "      copying lib\\matplotlib\\testing\\__init__.py -> build\\lib.win-amd64-cpython-310\\matplotlib\\testing\n",
            "      creating build\\lib.win-amd64-cpython-310\\matplotlib\\tri\n",
            "      copying lib\\matplotlib\\tri\\triangulation.py -> build\\lib.win-amd64-cpython-310\\matplotlib\\tri\n",
            "      copying lib\\matplotlib\\tri\\tricontour.py -> build\\lib.win-amd64-cpython-310\\matplotlib\\tri\n",
            "      copying lib\\matplotlib\\tri\\trifinder.py -> build\\lib.win-amd64-cpython-310\\matplotlib\\tri\n",
            "      copying lib\\matplotlib\\tri\\triinterpolate.py -> build\\lib.win-amd64-cpython-310\\matplotlib\\tri\n",
            "      copying lib\\matplotlib\\tri\\tripcolor.py -> build\\lib.win-amd64-cpython-310\\matplotlib\\tri\n",
            "      copying lib\\matplotlib\\tri\\triplot.py -> build\\lib.win-amd64-cpython-310\\matplotlib\\tri\n",
            "      copying lib\\matplotlib\\tri\\trirefine.py -> build\\lib.win-amd64-cpython-310\\matplotlib\\tri\n",
            "      copying lib\\matplotlib\\tri\\tritools.py -> build\\lib.win-amd64-cpython-310\\matplotlib\\tri\n",
            "      copying lib\\matplotlib\\tri\\__init__.py -> build\\lib.win-amd64-cpython-310\\matplotlib\\tri\n",
            "      creating build\\lib.win-amd64-cpython-310\\matplotlib\\backends\\qt_editor\n",
            "      copying lib\\matplotlib\\backends\\qt_editor\\figureoptions.py -> build\\lib.win-amd64-cpython-310\\matplotlib\\backends\\qt_editor\n",
            "      copying lib\\matplotlib\\backends\\qt_editor\\formlayout.py -> build\\lib.win-amd64-cpython-310\\matplotlib\\backends\\qt_editor\n",
            "      copying lib\\matplotlib\\backends\\qt_editor\\formsubplottool.py -> build\\lib.win-amd64-cpython-310\\matplotlib\\backends\\qt_editor\n",
            "      copying lib\\matplotlib\\backends\\qt_editor\\_formlayout.py -> build\\lib.win-amd64-cpython-310\\matplotlib\\backends\\qt_editor\n",
            "      copying lib\\matplotlib\\backends\\qt_editor\\__init__.py -> build\\lib.win-amd64-cpython-310\\matplotlib\\backends\\qt_editor\n",
            "      creating build\\lib.win-amd64-cpython-310\\matplotlib\\testing\\jpl_units\n",
            "      copying lib\\matplotlib\\testing\\jpl_units\\Duration.py -> build\\lib.win-amd64-cpython-310\\matplotlib\\testing\\jpl_units\n",
            "      copying lib\\matplotlib\\testing\\jpl_units\\Epoch.py -> build\\lib.win-amd64-cpython-310\\matplotlib\\testing\\jpl_units\n",
            "      copying lib\\matplotlib\\testing\\jpl_units\\EpochConverter.py -> build\\lib.win-amd64-cpython-310\\matplotlib\\testing\\jpl_units\n",
            "      copying lib\\matplotlib\\testing\\jpl_units\\StrConverter.py -> build\\lib.win-amd64-cpython-310\\matplotlib\\testing\\jpl_units\n",
            "      copying lib\\matplotlib\\testing\\jpl_units\\UnitDbl.py -> build\\lib.win-amd64-cpython-310\\matplotlib\\testing\\jpl_units\n",
            "      copying lib\\matplotlib\\testing\\jpl_units\\UnitDblConverter.py -> build\\lib.win-amd64-cpython-310\\matplotlib\\testing\\jpl_units\n",
            "      copying lib\\matplotlib\\testing\\jpl_units\\UnitDblFormatter.py -> build\\lib.win-amd64-cpython-310\\matplotlib\\testing\\jpl_units\n",
            "      copying lib\\matplotlib\\testing\\jpl_units\\__init__.py -> build\\lib.win-amd64-cpython-310\\matplotlib\\testing\\jpl_units\n",
            "      creating build\\lib.win-amd64-cpython-310\\mpl_toolkits\\axes_grid\n",
            "      copying lib\\mpl_toolkits\\axes_grid\\anchored_artists.py -> build\\lib.win-amd64-cpython-310\\mpl_toolkits\\axes_grid\n",
            "      copying lib\\mpl_toolkits\\axes_grid\\angle_helper.py -> build\\lib.win-amd64-cpython-310\\mpl_toolkits\\axes_grid\n",
            "      copying lib\\mpl_toolkits\\axes_grid\\axes_divider.py -> build\\lib.win-amd64-cpython-310\\mpl_toolkits\\axes_grid\n",
            "      copying lib\\mpl_toolkits\\axes_grid\\axes_grid.py -> build\\lib.win-amd64-cpython-310\\mpl_toolkits\\axes_grid\n",
            "      copying lib\\mpl_toolkits\\axes_grid\\axes_rgb.py -> build\\lib.win-amd64-cpython-310\\mpl_toolkits\\axes_grid\n",
            "      copying lib\\mpl_toolkits\\axes_grid\\axes_size.py -> build\\lib.win-amd64-cpython-310\\mpl_toolkits\\axes_grid\n",
            "      copying lib\\mpl_toolkits\\axes_grid\\axislines.py -> build\\lib.win-amd64-cpython-310\\mpl_toolkits\\axes_grid\n",
            "      copying lib\\mpl_toolkits\\axes_grid\\axisline_style.py -> build\\lib.win-amd64-cpython-310\\mpl_toolkits\\axes_grid\n",
            "      copying lib\\mpl_toolkits\\axes_grid\\axis_artist.py -> build\\lib.win-amd64-cpython-310\\mpl_toolkits\\axes_grid\n",
            "      copying lib\\mpl_toolkits\\axes_grid\\clip_path.py -> build\\lib.win-amd64-cpython-310\\mpl_toolkits\\axes_grid\n",
            "      copying lib\\mpl_toolkits\\axes_grid\\colorbar.py -> build\\lib.win-amd64-cpython-310\\mpl_toolkits\\axes_grid\n",
            "      copying lib\\mpl_toolkits\\axes_grid\\floating_axes.py -> build\\lib.win-amd64-cpython-310\\mpl_toolkits\\axes_grid\n",
            "      copying lib\\mpl_toolkits\\axes_grid\\grid_finder.py -> build\\lib.win-amd64-cpython-310\\mpl_toolkits\\axes_grid\n",
            "      copying lib\\mpl_toolkits\\axes_grid\\grid_helper_curvelinear.py -> build\\lib.win-amd64-cpython-310\\mpl_toolkits\\axes_grid\n",
            "      copying lib\\mpl_toolkits\\axes_grid\\inset_locator.py -> build\\lib.win-amd64-cpython-310\\mpl_toolkits\\axes_grid\n",
            "      copying lib\\mpl_toolkits\\axes_grid\\parasite_axes.py -> build\\lib.win-amd64-cpython-310\\mpl_toolkits\\axes_grid\n",
            "      copying lib\\mpl_toolkits\\axes_grid\\__init__.py -> build\\lib.win-amd64-cpython-310\\mpl_toolkits\\axes_grid\n",
            "      creating build\\lib.win-amd64-cpython-310\\mpl_toolkits\\axes_grid1\n",
            "      copying lib\\mpl_toolkits\\axes_grid1\\anchored_artists.py -> build\\lib.win-amd64-cpython-310\\mpl_toolkits\\axes_grid1\n",
            "      copying lib\\mpl_toolkits\\axes_grid1\\axes_divider.py -> build\\lib.win-amd64-cpython-310\\mpl_toolkits\\axes_grid1\n",
            "      copying lib\\mpl_toolkits\\axes_grid1\\axes_grid.py -> build\\lib.win-amd64-cpython-310\\mpl_toolkits\\axes_grid1\n",
            "      copying lib\\mpl_toolkits\\axes_grid1\\axes_rgb.py -> build\\lib.win-amd64-cpython-310\\mpl_toolkits\\axes_grid1\n",
            "      copying lib\\mpl_toolkits\\axes_grid1\\axes_size.py -> build\\lib.win-amd64-cpython-310\\mpl_toolkits\\axes_grid1\n",
            "      copying lib\\mpl_toolkits\\axes_grid1\\colorbar.py -> build\\lib.win-amd64-cpython-310\\mpl_toolkits\\axes_grid1\n",
            "      copying lib\\mpl_toolkits\\axes_grid1\\inset_locator.py -> build\\lib.win-amd64-cpython-310\\mpl_toolkits\\axes_grid1\n",
            "      copying lib\\mpl_toolkits\\axes_grid1\\mpl_axes.py -> build\\lib.win-amd64-cpython-310\\mpl_toolkits\\axes_grid1\n",
            "      copying lib\\mpl_toolkits\\axes_grid1\\parasite_axes.py -> build\\lib.win-amd64-cpython-310\\mpl_toolkits\\axes_grid1\n",
            "      copying lib\\mpl_toolkits\\axes_grid1\\__init__.py -> build\\lib.win-amd64-cpython-310\\mpl_toolkits\\axes_grid1\n",
            "      creating build\\lib.win-amd64-cpython-310\\mpl_toolkits\\axisartist\n",
            "      copying lib\\mpl_toolkits\\axisartist\\angle_helper.py -> build\\lib.win-amd64-cpython-310\\mpl_toolkits\\axisartist\n",
            "      copying lib\\mpl_toolkits\\axisartist\\axes_divider.py -> build\\lib.win-amd64-cpython-310\\mpl_toolkits\\axisartist\n",
            "      copying lib\\mpl_toolkits\\axisartist\\axes_grid.py -> build\\lib.win-amd64-cpython-310\\mpl_toolkits\\axisartist\n",
            "      copying lib\\mpl_toolkits\\axisartist\\axes_rgb.py -> build\\lib.win-amd64-cpython-310\\mpl_toolkits\\axisartist\n",
            "      copying lib\\mpl_toolkits\\axisartist\\axislines.py -> build\\lib.win-amd64-cpython-310\\mpl_toolkits\\axisartist\n",
            "      copying lib\\mpl_toolkits\\axisartist\\axisline_style.py -> build\\lib.win-amd64-cpython-310\\mpl_toolkits\\axisartist\n",
            "      copying lib\\mpl_toolkits\\axisartist\\axis_artist.py -> build\\lib.win-amd64-cpython-310\\mpl_toolkits\\axisartist\n",
            "      copying lib\\mpl_toolkits\\axisartist\\clip_path.py -> build\\lib.win-amd64-cpython-310\\mpl_toolkits\\axisartist\n",
            "      copying lib\\mpl_toolkits\\axisartist\\floating_axes.py -> build\\lib.win-amd64-cpython-310\\mpl_toolkits\\axisartist\n",
            "      copying lib\\mpl_toolkits\\axisartist\\grid_finder.py -> build\\lib.win-amd64-cpython-310\\mpl_toolkits\\axisartist\n",
            "      copying lib\\mpl_toolkits\\axisartist\\grid_helper_curvelinear.py -> build\\lib.win-amd64-cpython-310\\mpl_toolkits\\axisartist\n",
            "      copying lib\\mpl_toolkits\\axisartist\\parasite_axes.py -> build\\lib.win-amd64-cpython-310\\mpl_toolkits\\axisartist\n",
            "      copying lib\\mpl_toolkits\\axisartist\\__init__.py -> build\\lib.win-amd64-cpython-310\\mpl_toolkits\\axisartist\n",
            "      creating build\\lib.win-amd64-cpython-310\\mpl_toolkits\\mplot3d\n",
            "      copying lib\\mpl_toolkits\\mplot3d\\art3d.py -> build\\lib.win-amd64-cpython-310\\mpl_toolkits\\mplot3d\n",
            "      copying lib\\mpl_toolkits\\mplot3d\\axes3d.py -> build\\lib.win-amd64-cpython-310\\mpl_toolkits\\mplot3d\n",
            "      copying lib\\mpl_toolkits\\mplot3d\\axis3d.py -> build\\lib.win-amd64-cpython-310\\mpl_toolkits\\mplot3d\n",
            "      copying lib\\mpl_toolkits\\mplot3d\\proj3d.py -> build\\lib.win-amd64-cpython-310\\mpl_toolkits\\mplot3d\n",
            "      copying lib\\mpl_toolkits\\mplot3d\\__init__.py -> build\\lib.win-amd64-cpython-310\\mpl_toolkits\\mplot3d\n",
            "      creating build\\lib.win-amd64-cpython-310\\matplotlib\\mpl-data\n",
            "      creating build\\lib.win-amd64-cpython-310\\matplotlib\\mpl-data\\images\n",
            "      copying lib\\matplotlib\\mpl-data\\images\\matplotlib.png -> build\\lib.win-amd64-cpython-310\\matplotlib\\mpl-data\\images\n",
            "      creating build\\lib.win-amd64-cpython-310\\matplotlib\\backends\\web_backend\n",
            "      creating build\\lib.win-amd64-cpython-310\\matplotlib\\backends\\web_backend\\jquery-ui-1.12.1\n",
            "      creating build\\lib.win-amd64-cpython-310\\matplotlib\\backends\\web_backend\\jquery-ui-1.12.1\\external\n",
            "      creating build\\lib.win-amd64-cpython-310\\matplotlib\\backends\\web_backend\\jquery-ui-1.12.1\\external\\jquery\n",
            "      copying lib\\matplotlib\\backends\\web_backend\\jquery-ui-1.12.1\\external\\jquery\\jquery.js -> build\\lib.win-amd64-cpython-310\\matplotlib\\backends\\web_backend\\jquery-ui-1.12.1\\external\\jquery\n",
            "      copying lib\\matplotlib\\mpl-data\\images\\subplots_large.png -> build\\lib.win-amd64-cpython-310\\matplotlib\\mpl-data\\images\n",
            "      creating build\\lib.win-amd64-cpython-310\\matplotlib\\mpl-data\\fonts\n",
            "      creating build\\lib.win-amd64-cpython-310\\matplotlib\\mpl-data\\fonts\\ttf\n",
            "      copying lib\\matplotlib\\mpl-data\\fonts\\ttf\\cmex10.ttf -> build\\lib.win-amd64-cpython-310\\matplotlib\\mpl-data\\fonts\\ttf\n",
            "      creating build\\lib.win-amd64-cpython-310\\matplotlib\\mpl-data\\fonts\\pdfcorefonts\n",
            "      copying lib\\matplotlib\\mpl-data\\fonts\\pdfcorefonts\\Helvetica-BoldOblique.afm -> build\\lib.win-amd64-cpython-310\\matplotlib\\mpl-data\\fonts\\pdfcorefonts\n",
            "      copying lib\\matplotlib\\mpl-data\\images\\back.svg -> build\\lib.win-amd64-cpython-310\\matplotlib\\mpl-data\\images\n",
            "      copying lib\\matplotlib\\mpl-data\\fonts\\pdfcorefonts\\Symbol.afm -> build\\lib.win-amd64-cpython-310\\matplotlib\\mpl-data\\fonts\\pdfcorefonts\n",
            "      creating build\\lib.win-amd64-cpython-310\\matplotlib\\mpl-data\\fonts\\afm\n",
            "      copying lib\\matplotlib\\mpl-data\\fonts\\afm\\phvl8a.afm -> build\\lib.win-amd64-cpython-310\\matplotlib\\mpl-data\\fonts\\afm\n",
            "      creating build\\lib.win-amd64-cpython-310\\matplotlib\\backends\\web_backend\\js\n",
            "      copying lib\\matplotlib\\backends\\web_backend\\js\\mpl_tornado.js -> build\\lib.win-amd64-cpython-310\\matplotlib\\backends\\web_backend\\js\n",
            "      copying lib\\matplotlib\\mpl-data\\images\\move_large.gif -> build\\lib.win-amd64-cpython-310\\matplotlib\\mpl-data\\images\n",
            "      creating build\\lib.win-amd64-cpython-310\\matplotlib\\mpl-data\\stylelib\n",
            "      copying lib\\matplotlib\\mpl-data\\stylelib\\seaborn-bright.mplstyle -> build\\lib.win-amd64-cpython-310\\matplotlib\\mpl-data\\stylelib\n",
            "      copying lib\\matplotlib\\mpl-data\\stylelib\\seaborn-muted.mplstyle -> build\\lib.win-amd64-cpython-310\\matplotlib\\mpl-data\\stylelib\n",
            "      creating build\\lib.win-amd64-cpython-310\\matplotlib\\mpl-data\\sample_data\n",
            "      copying lib\\matplotlib\\mpl-data\\sample_data\\grace_hopper.png -> build\\lib.win-amd64-cpython-310\\matplotlib\\mpl-data\\sample_data\n",
            "      creating build\\lib.win-amd64-cpython-310\\matplotlib\\backends\\web_backend\\jquery-ui-1.12.1\\images\n",
            "      copying lib\\matplotlib\\backends\\web_backend\\jquery-ui-1.12.1\\images\\ui-icons_cc0000_256x240.png -> build\\lib.win-amd64-cpython-310\\matplotlib\\backends\\web_backend\\jquery-ui-1.12.1\\images\n",
            "      copying lib\\matplotlib\\mpl-data\\sample_data\\README.txt -> build\\lib.win-amd64-cpython-310\\matplotlib\\mpl-data\\sample_data\n",
            "      copying lib\\matplotlib\\mpl-data\\stylelib\\seaborn-dark-palette.mplstyle -> build\\lib.win-amd64-cpython-310\\matplotlib\\mpl-data\\stylelib\n",
            "      copying lib\\matplotlib\\mpl-data\\fonts\\afm\\pncri8a.afm -> build\\lib.win-amd64-cpython-310\\matplotlib\\mpl-data\\fonts\\afm\n",
            "      copying lib\\matplotlib\\mpl-data\\fonts\\ttf\\cmtt10.ttf -> build\\lib.win-amd64-cpython-310\\matplotlib\\mpl-data\\fonts\\ttf\n",
            "      copying lib\\matplotlib\\mpl-data\\stylelib\\seaborn-deep.mplstyle -> build\\lib.win-amd64-cpython-310\\matplotlib\\mpl-data\\stylelib\n",
            "      creating build\\lib.win-amd64-cpython-310\\matplotlib\\backends\\web_backend\\css\n",
            "      copying lib\\matplotlib\\backends\\web_backend\\css\\boilerplate.css -> build\\lib.win-amd64-cpython-310\\matplotlib\\backends\\web_backend\\css\n",
            "      copying lib\\matplotlib\\mpl-data\\images\\qt4_editor_options.pdf -> build\\lib.win-amd64-cpython-310\\matplotlib\\mpl-data\\images\n",
            "      copying lib\\matplotlib\\mpl-data\\fonts\\afm\\pncbi8a.afm -> build\\lib.win-amd64-cpython-310\\matplotlib\\mpl-data\\fonts\\afm\n",
            "      copying lib\\matplotlib\\mpl-data\\fonts\\pdfcorefonts\\readme.txt -> build\\lib.win-amd64-cpython-310\\matplotlib\\mpl-data\\fonts\\pdfcorefonts\n",
            "      copying lib\\matplotlib\\mpl-data\\fonts\\afm\\pzcmi8a.afm -> build\\lib.win-amd64-cpython-310\\matplotlib\\mpl-data\\fonts\\afm\n",
            "      copying lib\\matplotlib\\mpl-data\\fonts\\ttf\\DejaVuSerif.ttf -> build\\lib.win-amd64-cpython-310\\matplotlib\\mpl-data\\fonts\\ttf\n",
            "      creating build\\lib.win-amd64-cpython-310\\matplotlib\\backends\\web_backend\\jquery\n",
            "      creating build\\lib.win-amd64-cpython-310\\matplotlib\\backends\\web_backend\\jquery\\js\n",
            "      copying lib\\matplotlib\\backends\\web_backend\\jquery\\js\\jquery.js -> build\\lib.win-amd64-cpython-310\\matplotlib\\backends\\web_backend\\jquery\\js\n",
            "      copying lib\\matplotlib\\mpl-data\\fonts\\afm\\pncb8a.afm -> build\\lib.win-amd64-cpython-310\\matplotlib\\mpl-data\\fonts\\afm\n",
            "      copying lib\\matplotlib\\backends\\web_backend\\jquery-ui-1.12.1\\images\\ui-icons_ffffff_256x240.png -> build\\lib.win-amd64-cpython-310\\matplotlib\\backends\\web_backend\\jquery-ui-1.12.1\\images\n",
            "      copying lib\\matplotlib\\mpl-data\\fonts\\ttf\\STIXSizFourSymReg.ttf -> build\\lib.win-amd64-cpython-310\\matplotlib\\mpl-data\\fonts\\ttf\n",
            "      copying lib\\matplotlib\\backends\\web_backend\\js\\mpl.js -> build\\lib.win-amd64-cpython-310\\matplotlib\\backends\\web_backend\\js\n",
            "      copying lib\\matplotlib\\mpl-data\\fonts\\afm\\pcrbo8a.afm -> build\\lib.win-amd64-cpython-310\\matplotlib\\mpl-data\\fonts\\afm\n",
            "      copying lib\\matplotlib\\mpl-data\\fonts\\ttf\\DejaVuSansMono-Bold.ttf -> build\\lib.win-amd64-cpython-310\\matplotlib\\mpl-data\\fonts\\ttf\n",
            "      copying lib\\matplotlib\\mpl-data\\images\\help_large.png -> build\\lib.win-amd64-cpython-310\\matplotlib\\mpl-data\\images\n",
            "      copying lib\\matplotlib\\mpl-data\\fonts\\ttf\\cmr10.ttf -> build\\lib.win-amd64-cpython-310\\matplotlib\\mpl-data\\fonts\\ttf\n",
            "      copying lib\\matplotlib\\mpl-data\\fonts\\afm\\ptmr8a.afm -> build\\lib.win-amd64-cpython-310\\matplotlib\\mpl-data\\fonts\\afm\n",
            "      copying lib\\matplotlib\\mpl-data\\images\\matplotlib.pdf -> build\\lib.win-amd64-cpython-310\\matplotlib\\mpl-data\\images\n",
            "      copying lib\\matplotlib\\mpl-data\\sample_data\\demodata.csv -> build\\lib.win-amd64-cpython-310\\matplotlib\\mpl-data\\sample_data\n",
            "      copying lib\\matplotlib\\mpl-data\\images\\zoom_to_rect.png -> build\\lib.win-amd64-cpython-310\\matplotlib\\mpl-data\\images\n",
            "      copying lib\\matplotlib\\mpl-data\\matplotlibrc -> build\\lib.win-amd64-cpython-310\\matplotlib\\mpl-data\n",
            "      copying lib\\matplotlib\\mpl-data\\stylelib\\tableau-colorblind10.mplstyle -> build\\lib.win-amd64-cpython-310\\matplotlib\\mpl-data\\stylelib\n",
            "      copying lib\\matplotlib\\mpl-data\\fonts\\afm\\putbi8a.afm -> build\\lib.win-amd64-cpython-310\\matplotlib\\mpl-data\\fonts\\afm\n",
            "      copying lib\\matplotlib\\mpl-data\\fonts\\pdfcorefonts\\Times-Bold.afm -> build\\lib.win-amd64-cpython-310\\matplotlib\\mpl-data\\fonts\\pdfcorefonts\n",
            "      copying lib\\matplotlib\\mpl-data\\fonts\\pdfcorefonts\\Times-Italic.afm -> build\\lib.win-amd64-cpython-310\\matplotlib\\mpl-data\\fonts\\pdfcorefonts\n",
            "      copying lib\\matplotlib\\mpl-data\\fonts\\ttf\\LICENSE_STIX -> build\\lib.win-amd64-cpython-310\\matplotlib\\mpl-data\\fonts\\ttf\n",
            "      copying lib\\matplotlib\\mpl-data\\fonts\\ttf\\STIXGeneralBol.ttf -> build\\lib.win-amd64-cpython-310\\matplotlib\\mpl-data\\fonts\\ttf\n",
            "      copying lib\\matplotlib\\backends\\web_backend\\single_figure.html -> build\\lib.win-amd64-cpython-310\\matplotlib\\backends\\web_backend\n",
            "      copying lib\\matplotlib\\mpl-data\\images\\qt4_editor_options_large.png -> build\\lib.win-amd64-cpython-310\\matplotlib\\mpl-data\\images\n",
            "      copying lib\\matplotlib\\mpl-data\\fonts\\afm\\pagk8a.afm -> build\\lib.win-amd64-cpython-310\\matplotlib\\mpl-data\\fonts\\afm\n",
            "      copying lib\\matplotlib\\mpl-data\\images\\back.gif -> build\\lib.win-amd64-cpython-310\\matplotlib\\mpl-data\\images\n",
            "      copying lib\\matplotlib\\mpl-data\\fonts\\ttf\\DejaVuSansMono.ttf -> build\\lib.win-amd64-cpython-310\\matplotlib\\mpl-data\\fonts\\ttf\n",
            "      copying lib\\matplotlib\\mpl-data\\images\\hand.gif -> build\\lib.win-amd64-cpython-310\\matplotlib\\mpl-data\\images\n",
            "      copying lib\\matplotlib\\mpl-data\\fonts\\afm\\ptmbi8a.afm -> build\\lib.win-amd64-cpython-310\\matplotlib\\mpl-data\\fonts\\afm\n",
            "      copying lib\\matplotlib\\mpl-data\\sample_data\\eeg.dat -> build\\lib.win-amd64-cpython-310\\matplotlib\\mpl-data\\sample_data\n",
            "      copying lib\\matplotlib\\mpl-data\\fonts\\afm\\pagd8a.afm -> build\\lib.win-amd64-cpython-310\\matplotlib\\mpl-data\\fonts\\afm\n",
            "      copying lib\\matplotlib\\mpl-data\\fonts\\ttf\\DejaVuSerif-Bold.ttf -> build\\lib.win-amd64-cpython-310\\matplotlib\\mpl-data\\fonts\\ttf\n",
            "      copying lib\\matplotlib\\mpl-data\\fonts\\ttf\\STIXSizOneSymReg.ttf -> build\\lib.win-amd64-cpython-310\\matplotlib\\mpl-data\\fonts\\ttf\n",
            "      copying lib\\matplotlib\\mpl-data\\fonts\\afm\\pplr8a.afm -> build\\lib.win-amd64-cpython-310\\matplotlib\\mpl-data\\fonts\\afm\n",
            "      copying lib\\matplotlib\\mpl-data\\stylelib\\classic.mplstyle -> build\\lib.win-amd64-cpython-310\\matplotlib\\mpl-data\\stylelib\n",
            "      copying lib\\matplotlib\\mpl-data\\sample_data\\grace_hopper.jpg -> build\\lib.win-amd64-cpython-310\\matplotlib\\mpl-data\\sample_data\n",
            "      copying lib\\matplotlib\\mpl-data\\images\\zoom_to_rect.svg -> build\\lib.win-amd64-cpython-310\\matplotlib\\mpl-data\\images\n",
            "      copying lib\\matplotlib\\mpl-data\\fonts\\ttf\\DejaVuSerifDisplay.ttf -> build\\lib.win-amd64-cpython-310\\matplotlib\\mpl-data\\fonts\\ttf\n",
            "      copying lib\\matplotlib\\mpl-data\\images\\qt4_editor_options.png -> build\\lib.win-amd64-cpython-310\\matplotlib\\mpl-data\\images\n",
            "      copying lib\\matplotlib\\mpl-data\\fonts\\afm\\phvbo8a.afm -> build\\lib.win-amd64-cpython-310\\matplotlib\\mpl-data\\fonts\\afm\n",
            "      copying lib\\matplotlib\\backends\\web_backend\\jquery-ui-1.12.1\\images\\ui-icons_555555_256x240.png -> build\\lib.win-amd64-cpython-310\\matplotlib\\backends\\web_backend\\jquery-ui-1.12.1\\images\n",
            "      copying lib\\matplotlib\\mpl-data\\fonts\\ttf\\STIXSizFourSymBol.ttf -> build\\lib.win-amd64-cpython-310\\matplotlib\\mpl-data\\fonts\\ttf\n",
            "      copying lib\\matplotlib\\mpl-data\\fonts\\ttf\\STIXNonUniIta.ttf -> build\\lib.win-amd64-cpython-310\\matplotlib\\mpl-data\\fonts\\ttf\n",
            "      copying lib\\matplotlib\\mpl-data\\fonts\\ttf\\STIXSizTwoSymBol.ttf -> build\\lib.win-amd64-cpython-310\\matplotlib\\mpl-data\\fonts\\ttf\n",
            "      copying lib\\matplotlib\\mpl-data\\fonts\\afm\\pcrro8a.afm -> build\\lib.win-amd64-cpython-310\\matplotlib\\mpl-data\\fonts\\afm\n",
            "      copying lib\\matplotlib\\mpl-data\\fonts\\ttf\\STIXSizFiveSymReg.ttf -> build\\lib.win-amd64-cpython-310\\matplotlib\\mpl-data\\fonts\\ttf\n",
            "      copying lib\\matplotlib\\mpl-data\\images\\move_large.png -> build\\lib.win-amd64-cpython-310\\matplotlib\\mpl-data\\images\n",
            "      copying lib\\matplotlib\\backends\\web_backend\\jquery-ui-1.12.1\\jquery-ui.min.css -> build\\lib.win-amd64-cpython-310\\matplotlib\\backends\\web_backend\\jquery-ui-1.12.1\n",
            "      copying lib\\matplotlib\\mpl-data\\fonts\\afm\\putri8a.afm -> build\\lib.win-amd64-cpython-310\\matplotlib\\mpl-data\\fonts\\afm\n",
            "      copying lib\\matplotlib\\backends\\web_backend\\jquery-ui-1.12.1\\jquery-ui.min.js -> build\\lib.win-amd64-cpython-310\\matplotlib\\backends\\web_backend\\jquery-ui-1.12.1\n",
            "      copying lib\\matplotlib\\mpl-data\\fonts\\afm\\pcrb8a.afm -> build\\lib.win-amd64-cpython-310\\matplotlib\\mpl-data\\fonts\\afm\n",
            "      copying lib\\matplotlib\\mpl-data\\images\\filesave.svg -> build\\lib.win-amd64-cpython-310\\matplotlib\\mpl-data\\images\n",
            "      copying lib\\matplotlib\\mpl-data\\images\\forward.gif -> build\\lib.win-amd64-cpython-310\\matplotlib\\mpl-data\\images\n",
            "      copying lib\\matplotlib\\backends\\web_backend\\jquery-ui-1.12.1\\jquery-ui.structure.css -> build\\lib.win-amd64-cpython-310\\matplotlib\\backends\\web_backend\\jquery-ui-1.12.1\n",
            "      copying lib\\matplotlib\\mpl-data\\images\\subplots.svg -> build\\lib.win-amd64-cpython-310\\matplotlib\\mpl-data\\images\n",
            "      copying lib\\matplotlib\\mpl-data\\fonts\\afm\\phvr8an.afm -> build\\lib.win-amd64-cpython-310\\matplotlib\\mpl-data\\fonts\\afm\n",
            "      copying lib\\matplotlib\\backends\\web_backend\\ipython_inline_figure.html -> build\\lib.win-amd64-cpython-310\\matplotlib\\backends\\web_backend\n",
            "      copying lib\\matplotlib\\mpl-data\\sample_data\\jacksboro_fault_dem.npz -> build\\lib.win-amd64-cpython-310\\matplotlib\\mpl-data\\sample_data\n",
            "      copying lib\\matplotlib\\mpl-data\\images\\forward.pdf -> build\\lib.win-amd64-cpython-310\\matplotlib\\mpl-data\\images\n",
            "      copying lib\\matplotlib\\mpl-data\\images\\hand_large.gif -> build\\lib.win-amd64-cpython-310\\matplotlib\\mpl-data\\images\n",
            "      copying lib\\matplotlib\\mpl-data\\sample_data\\None_vs_nearest-pdf.png -> build\\lib.win-amd64-cpython-310\\matplotlib\\mpl-data\\sample_data\n",
            "      copying lib\\matplotlib\\mpl-data\\sample_data\\Minduka_Present_Blue_Pack.png -> build\\lib.win-amd64-cpython-310\\matplotlib\\mpl-data\\sample_data\n",
            "      copying lib\\matplotlib\\mpl-data\\fonts\\ttf\\STIXSizTwoSymReg.ttf -> build\\lib.win-amd64-cpython-310\\matplotlib\\mpl-data\\fonts\\ttf\n",
            "      copying lib\\matplotlib\\mpl-data\\images\\matplotlib.ppm -> build\\lib.win-amd64-cpython-310\\matplotlib\\mpl-data\\images\n",
            "      copying lib\\matplotlib\\mpl-data\\fonts\\afm\\phvb8an.afm -> build\\lib.win-amd64-cpython-310\\matplotlib\\mpl-data\\fonts\\afm\n",
            "      copying lib\\matplotlib\\backends\\web_backend\\jquery-ui-1.12.1\\jquery-ui.theme.css -> build\\lib.win-amd64-cpython-310\\matplotlib\\backends\\web_backend\\jquery-ui-1.12.1\n",
            "      copying lib\\matplotlib\\mpl-data\\images\\matplotlib.svg -> build\\lib.win-amd64-cpython-310\\matplotlib\\mpl-data\\images\n",
            "      copying lib\\matplotlib\\mpl-data\\fonts\\ttf\\STIXNonUniBol.ttf -> build\\lib.win-amd64-cpython-310\\matplotlib\\mpl-data\\fonts\\ttf\n",
            "      copying lib\\matplotlib\\backends\\web_backend\\css\\fbm.css -> build\\lib.win-amd64-cpython-310\\matplotlib\\backends\\web_backend\\css\n",
            "      copying lib\\matplotlib\\mpl-data\\fonts\\afm\\pplri8a.afm -> build\\lib.win-amd64-cpython-310\\matplotlib\\mpl-data\\fonts\\afm\n",
            "      copying lib\\matplotlib\\mpl-data\\images\\home_large.gif -> build\\lib.win-amd64-cpython-310\\matplotlib\\mpl-data\\images\n",
            "      copying lib\\matplotlib\\mpl-data\\images\\zoom_to_rect_large.gif -> build\\lib.win-amd64-cpython-310\\matplotlib\\mpl-data\\images\n",
            "      copying lib\\matplotlib\\mpl-data\\fonts\\ttf\\STIXSizThreeSymReg.ttf -> build\\lib.win-amd64-cpython-310\\matplotlib\\mpl-data\\fonts\\ttf\n",
            "      copying lib\\matplotlib\\mpl-data\\stylelib\\seaborn-white.mplstyle -> build\\lib.win-amd64-cpython-310\\matplotlib\\mpl-data\\stylelib\n",
            "      copying lib\\matplotlib\\backends\\web_backend\\jquery-ui-1.12.1\\package.json -> build\\lib.win-amd64-cpython-310\\matplotlib\\backends\\web_backend\\jquery-ui-1.12.1\n",
            "      copying lib\\matplotlib\\mpl-data\\fonts\\ttf\\DejaVuSansMono-Oblique.ttf -> build\\lib.win-amd64-cpython-310\\matplotlib\\mpl-data\\fonts\\ttf\n",
            "      copying lib\\matplotlib\\mpl-data\\images\\help.svg -> build\\lib.win-amd64-cpython-310\\matplotlib\\mpl-data\\images\n",
            "      copying lib\\matplotlib\\mpl-data\\images\\filesave.gif -> build\\lib.win-amd64-cpython-310\\matplotlib\\mpl-data\\images\n",
            "      copying lib\\matplotlib\\mpl-data\\fonts\\afm\\putb8a.afm -> build\\lib.win-amd64-cpython-310\\matplotlib\\mpl-data\\fonts\\afm\n",
            "      copying lib\\matplotlib\\mpl-data\\sample_data\\aapl.npz -> build\\lib.win-amd64-cpython-310\\matplotlib\\mpl-data\\sample_data\n",
            "      copying lib\\matplotlib\\mpl-data\\images\\help.ppm -> build\\lib.win-amd64-cpython-310\\matplotlib\\mpl-data\\images\n",
            "      copying lib\\matplotlib\\mpl-data\\fonts\\afm\\pbkdi8a.afm -> build\\lib.win-amd64-cpython-310\\matplotlib\\mpl-data\\fonts\\afm\n",
            "      copying lib\\matplotlib\\backends\\web_backend\\jquery-ui-1.12.1\\jquery-ui.css -> build\\lib.win-amd64-cpython-310\\matplotlib\\backends\\web_backend\\jquery-ui-1.12.1\n",
            "      copying lib\\matplotlib\\mpl-data\\fonts\\afm\\cmmi10.afm -> build\\lib.win-amd64-cpython-310\\matplotlib\\mpl-data\\fonts\\afm\n",
            "      copying lib\\matplotlib\\mpl-data\\images\\home.svg -> build\\lib.win-amd64-cpython-310\\matplotlib\\mpl-data\\images\n",
            "      copying lib\\matplotlib\\mpl-data\\fonts\\ttf\\cmsy10.ttf -> build\\lib.win-amd64-cpython-310\\matplotlib\\mpl-data\\fonts\\ttf\n",
            "      copying lib\\matplotlib\\mpl-data\\images\\subplots.gif -> build\\lib.win-amd64-cpython-310\\matplotlib\\mpl-data\\images\n",
            "      copying lib\\matplotlib\\backends\\web_backend\\jquery\\js\\jquery.min.js -> build\\lib.win-amd64-cpython-310\\matplotlib\\backends\\web_backend\\jquery\\js\n",
            "      copying lib\\matplotlib\\mpl-data\\fonts\\afm\\phvlo8a.afm -> build\\lib.win-amd64-cpython-310\\matplotlib\\mpl-data\\fonts\\afm\n",
            "      copying lib\\matplotlib\\mpl-data\\sample_data\\msft.csv -> build\\lib.win-amd64-cpython-310\\matplotlib\\mpl-data\\sample_data\n",
            "      copying lib\\matplotlib\\mpl-data\\fonts\\afm\\pzdr.afm -> build\\lib.win-amd64-cpython-310\\matplotlib\\mpl-data\\fonts\\afm\n",
            "      copying lib\\matplotlib\\backends\\web_backend\\js\\nbagg_mpl.js -> build\\lib.win-amd64-cpython-310\\matplotlib\\backends\\web_backend\\js\n",
            "      copying lib\\matplotlib\\mpl-data\\images\\back.png -> build\\lib.win-amd64-cpython-310\\matplotlib\\mpl-data\\images\n",
            "      copying lib\\matplotlib\\mpl-data\\images\\help.png -> build\\lib.win-amd64-cpython-310\\matplotlib\\mpl-data\\images\n",
            "      copying lib\\matplotlib\\mpl-data\\images\\zoom_to_rect.pdf -> build\\lib.win-amd64-cpython-310\\matplotlib\\mpl-data\\images\n",
            "      copying lib\\matplotlib\\mpl-data\\stylelib\\fivethirtyeight.mplstyle -> build\\lib.win-amd64-cpython-310\\matplotlib\\mpl-data\\stylelib\n",
            "      copying lib\\matplotlib\\mpl-data\\fonts\\afm\\pplbi8a.afm -> build\\lib.win-amd64-cpython-310\\matplotlib\\mpl-data\\fonts\\afm\n",
            "      copying lib\\matplotlib\\mpl-data\\fonts\\ttf\\DejaVuSansMono-BoldOblique.ttf -> build\\lib.win-amd64-cpython-310\\matplotlib\\mpl-data\\fonts\\ttf\n",
            "      copying lib\\matplotlib\\mpl-data\\fonts\\ttf\\STIXGeneralItalic.ttf -> build\\lib.win-amd64-cpython-310\\matplotlib\\mpl-data\\fonts\\ttf\n",
            "      copying lib\\matplotlib\\mpl-data\\stylelib\\seaborn-talk.mplstyle -> build\\lib.win-amd64-cpython-310\\matplotlib\\mpl-data\\stylelib\n",
            "      copying lib\\matplotlib\\mpl-data\\fonts\\ttf\\DejaVuSans.ttf -> build\\lib.win-amd64-cpython-310\\matplotlib\\mpl-data\\fonts\\ttf\n",
            "      copying lib\\matplotlib\\mpl-data\\images\\subplots_large.gif -> build\\lib.win-amd64-cpython-310\\matplotlib\\mpl-data\\images\n",
            "      copying lib\\matplotlib\\mpl-data\\stylelib\\seaborn-whitegrid.mplstyle -> build\\lib.win-amd64-cpython-310\\matplotlib\\mpl-data\\stylelib\n",
            "      copying lib\\matplotlib\\mpl-data\\fonts\\afm\\pagko8a.afm -> build\\lib.win-amd64-cpython-310\\matplotlib\\mpl-data\\fonts\\afm\n",
            "      copying lib\\matplotlib\\mpl-data\\images\\filesave.png -> build\\lib.win-amd64-cpython-310\\matplotlib\\mpl-data\\images\n",
            "      copying lib\\matplotlib\\mpl-data\\images\\forward.svg -> build\\lib.win-amd64-cpython-310\\matplotlib\\mpl-data\\images\n",
            "      copying lib\\matplotlib\\mpl-data\\images\\move.svg -> build\\lib.win-amd64-cpython-310\\matplotlib\\mpl-data\\images\n",
            "      copying lib\\matplotlib\\mpl-data\\fonts\\afm\\pbkli8a.afm -> build\\lib.win-amd64-cpython-310\\matplotlib\\mpl-data\\fonts\\afm\n",
            "      copying lib\\matplotlib\\mpl-data\\images\\zoom_to_rect.gif -> build\\lib.win-amd64-cpython-310\\matplotlib\\mpl-data\\images\n",
            "      copying lib\\matplotlib\\mpl-data\\fonts\\ttf\\DejaVuSans-BoldOblique.ttf -> build\\lib.win-amd64-cpython-310\\matplotlib\\mpl-data\\fonts\\ttf\n",
            "      copying lib\\matplotlib\\mpl-data\\fonts\\ttf\\STIXGeneralBolIta.ttf -> build\\lib.win-amd64-cpython-310\\matplotlib\\mpl-data\\fonts\\ttf\n",
            "      copying lib\\matplotlib\\mpl-data\\images\\matplotlib_large.png -> build\\lib.win-amd64-cpython-310\\matplotlib\\mpl-data\\images\n",
            "      copying lib\\matplotlib\\mpl-data\\images\\qt4_editor_options.svg -> build\\lib.win-amd64-cpython-310\\matplotlib\\mpl-data\\images\n",
            "      copying lib\\matplotlib\\mpl-data\\fonts\\afm\\cmsy10.afm -> build\\lib.win-amd64-cpython-310\\matplotlib\\mpl-data\\fonts\\afm\n",
            "      copying lib\\matplotlib\\mpl-data\\stylelib\\grayscale.mplstyle -> build\\lib.win-amd64-cpython-310\\matplotlib\\mpl-data\\stylelib\n",
            "      copying lib\\matplotlib\\mpl-data\\stylelib\\Solarize_Light2.mplstyle -> build\\lib.win-amd64-cpython-310\\matplotlib\\mpl-data\\stylelib\n",
            "      copying lib\\matplotlib\\mpl-data\\images\\move.png -> build\\lib.win-amd64-cpython-310\\matplotlib\\mpl-data\\images\n",
            "      copying lib\\matplotlib\\mpl-data\\fonts\\afm\\ptmb8a.afm -> build\\lib.win-amd64-cpython-310\\matplotlib\\mpl-data\\fonts\\afm\n",
            "      creating build\\lib.win-amd64-cpython-310\\matplotlib\\mpl-data\\sample_data\\axes_grid\n",
            "      copying lib\\matplotlib\\mpl-data\\sample_data\\axes_grid\\bivariate_normal.npy -> build\\lib.win-amd64-cpython-310\\matplotlib\\mpl-data\\sample_data\\axes_grid\n",
            "      copying lib\\matplotlib\\mpl-data\\fonts\\ttf\\DejaVuSerif-Italic.ttf -> build\\lib.win-amd64-cpython-310\\matplotlib\\mpl-data\\fonts\\ttf\n",
            "      copying lib\\matplotlib\\mpl-data\\fonts\\ttf\\DejaVuSans-Oblique.ttf -> build\\lib.win-amd64-cpython-310\\matplotlib\\mpl-data\\fonts\\ttf\n",
            "      copying lib\\matplotlib\\mpl-data\\images\\filesave_large.gif -> build\\lib.win-amd64-cpython-310\\matplotlib\\mpl-data\\images\n",
            "      copying lib\\matplotlib\\mpl-data\\images\\filesave_large.png -> build\\lib.win-amd64-cpython-310\\matplotlib\\mpl-data\\images\n",
            "      copying lib\\matplotlib\\mpl-data\\images\\back_large.gif -> build\\lib.win-amd64-cpython-310\\matplotlib\\mpl-data\\images\n",
            "      copying lib\\matplotlib\\mpl-data\\stylelib\\seaborn.mplstyle -> build\\lib.win-amd64-cpython-310\\matplotlib\\mpl-data\\stylelib\n",
            "      copying lib\\matplotlib\\mpl-data\\images\\back.pdf -> build\\lib.win-amd64-cpython-310\\matplotlib\\mpl-data\\images\n",
            "      copying lib\\matplotlib\\backends\\web_backend\\jquery-ui-1.12.1\\images\\ui-icons_777620_256x240.png -> build\\lib.win-amd64-cpython-310\\matplotlib\\backends\\web_backend\\jquery-ui-1.12.1\\images\n",
            "      copying lib\\matplotlib\\mpl-data\\stylelib\\seaborn-paper.mplstyle -> build\\lib.win-amd64-cpython-310\\matplotlib\\mpl-data\\stylelib\n",
            "      copying lib\\matplotlib\\backends\\web_backend\\all_figures.html -> build\\lib.win-amd64-cpython-310\\matplotlib\\backends\\web_backend\n",
            "      copying lib\\matplotlib\\mpl-data\\images\\forward_large.png -> build\\lib.win-amd64-cpython-310\\matplotlib\\mpl-data\\images\n",
            "      copying lib\\matplotlib\\mpl-data\\fonts\\ttf\\STIXGeneral.ttf -> build\\lib.win-amd64-cpython-310\\matplotlib\\mpl-data\\fonts\\ttf\n",
            "      copying lib\\matplotlib\\backends\\web_backend\\jquery-ui-1.12.1\\images\\ui-icons_444444_256x240.png -> build\\lib.win-amd64-cpython-310\\matplotlib\\backends\\web_backend\\jquery-ui-1.12.1\\images\n",
            "      copying lib\\matplotlib\\mpl-data\\fonts\\pdfcorefonts\\Helvetica-Bold.afm -> build\\lib.win-amd64-cpython-310\\matplotlib\\mpl-data\\fonts\\pdfcorefonts\n",
            "      copying lib\\matplotlib\\mpl-data\\fonts\\afm\\ptmri8a.afm -> build\\lib.win-amd64-cpython-310\\matplotlib\\mpl-data\\fonts\\afm\n",
            "      copying lib\\matplotlib\\mpl-data\\fonts\\pdfcorefonts\\ZapfDingbats.afm -> build\\lib.win-amd64-cpython-310\\matplotlib\\mpl-data\\fonts\\pdfcorefonts\n",
            "      copying lib\\matplotlib\\mpl-data\\images\\hand.svg -> build\\lib.win-amd64-cpython-310\\matplotlib\\mpl-data\\images\n",
            "      copying lib\\matplotlib\\mpl-data\\images\\help_large.ppm -> build\\lib.win-amd64-cpython-310\\matplotlib\\mpl-data\\images\n",
            "      copying lib\\matplotlib\\mpl-data\\fonts\\pdfcorefonts\\Courier-BoldOblique.afm -> build\\lib.win-amd64-cpython-310\\matplotlib\\mpl-data\\fonts\\pdfcorefonts\n",
            "      copying lib\\matplotlib\\mpl-data\\sample_data\\goog.npz -> build\\lib.win-amd64-cpython-310\\matplotlib\\mpl-data\\sample_data\n",
            "      copying lib\\matplotlib\\mpl-data\\sample_data\\percent_bachelors_degrees_women_usa.csv -> build\\lib.win-amd64-cpython-310\\matplotlib\\mpl-data\\sample_data\n",
            "      copying lib\\matplotlib\\mpl-data\\fonts\\afm\\cmtt10.afm -> build\\lib.win-amd64-cpython-310\\matplotlib\\mpl-data\\fonts\\afm\n",
            "      copying lib\\matplotlib\\mpl-data\\fonts\\afm\\pbkd8a.afm -> build\\lib.win-amd64-cpython-310\\matplotlib\\mpl-data\\fonts\\afm\n",
            "      copying lib\\matplotlib\\mpl-data\\fonts\\pdfcorefonts\\Courier.afm -> build\\lib.win-amd64-cpython-310\\matplotlib\\mpl-data\\fonts\\pdfcorefonts\n",
            "      copying lib\\matplotlib\\mpl-data\\images\\hand.png -> build\\lib.win-amd64-cpython-310\\matplotlib\\mpl-data\\images\n",
            "      copying lib\\matplotlib\\mpl-data\\stylelib\\seaborn-dark.mplstyle -> build\\lib.win-amd64-cpython-310\\matplotlib\\mpl-data\\stylelib\n",
            "      copying lib\\matplotlib\\mpl-data\\fonts\\ttf\\cmss10.ttf -> build\\lib.win-amd64-cpython-310\\matplotlib\\mpl-data\\fonts\\ttf\n",
            "      copying lib\\matplotlib\\mpl-data\\fonts\\pdfcorefonts\\Courier-Bold.afm -> build\\lib.win-amd64-cpython-310\\matplotlib\\mpl-data\\fonts\\pdfcorefonts\n",
            "      copying lib\\matplotlib\\mpl-data\\fonts\\ttf\\cmb10.ttf -> build\\lib.win-amd64-cpython-310\\matplotlib\\mpl-data\\fonts\\ttf\n",
            "      copying lib\\matplotlib\\mpl-data\\stylelib\\seaborn-darkgrid.mplstyle -> build\\lib.win-amd64-cpython-310\\matplotlib\\mpl-data\\stylelib\n",
            "      copying lib\\matplotlib\\mpl-data\\images\\home.png -> build\\lib.win-amd64-cpython-310\\matplotlib\\mpl-data\\images\n",
            "      copying lib\\matplotlib\\backends\\web_backend\\jquery-ui-1.12.1\\jquery-ui.structure.min.css -> build\\lib.win-amd64-cpython-310\\matplotlib\\backends\\web_backend\\jquery-ui-1.12.1\n",
            "      copying lib\\matplotlib\\mpl-data\\sample_data\\s1045.ima.gz -> build\\lib.win-amd64-cpython-310\\matplotlib\\mpl-data\\sample_data\n",
            "      copying lib\\matplotlib\\mpl-data\\fonts\\pdfcorefonts\\Times-BoldItalic.afm -> build\\lib.win-amd64-cpython-310\\matplotlib\\mpl-data\\fonts\\pdfcorefonts\n",
            "      copying lib\\matplotlib\\mpl-data\\images\\filesave.pdf -> build\\lib.win-amd64-cpython-310\\matplotlib\\mpl-data\\images\n",
            "      copying lib\\matplotlib\\mpl-data\\fonts\\afm\\phvbo8an.afm -> build\\lib.win-amd64-cpython-310\\matplotlib\\mpl-data\\fonts\\afm\n",
            "      copying lib\\matplotlib\\backends\\web_backend\\jquery-ui-1.12.1\\LICENSE.txt -> build\\lib.win-amd64-cpython-310\\matplotlib\\backends\\web_backend\\jquery-ui-1.12.1\n",
            "      copying lib\\matplotlib\\mpl-data\\fonts\\afm\\phvr8a.afm -> build\\lib.win-amd64-cpython-310\\matplotlib\\mpl-data\\fonts\\afm\n",
            "      copying lib\\matplotlib\\mpl-data\\images\\subplots.png -> build\\lib.win-amd64-cpython-310\\matplotlib\\mpl-data\\images\n",
            "      copying lib\\matplotlib\\mpl-data\\stylelib\\dark_background.mplstyle -> build\\lib.win-amd64-cpython-310\\matplotlib\\mpl-data\\stylelib\n",
            "      copying lib\\matplotlib\\mpl-data\\fonts\\afm\\putr8a.afm -> build\\lib.win-amd64-cpython-310\\matplotlib\\mpl-data\\fonts\\afm\n",
            "      copying lib\\matplotlib\\mpl-data\\images\\hand.pdf -> build\\lib.win-amd64-cpython-310\\matplotlib\\mpl-data\\images\n",
            "      copying lib\\matplotlib\\mpl-data\\stylelib\\ggplot.mplstyle -> build\\lib.win-amd64-cpython-310\\matplotlib\\mpl-data\\stylelib\n",
            "      copying lib\\matplotlib\\mpl-data\\stylelib\\seaborn-notebook.mplstyle -> build\\lib.win-amd64-cpython-310\\matplotlib\\mpl-data\\stylelib\n",
            "      copying lib\\matplotlib\\mpl-data\\fonts\\ttf\\STIXNonUniBolIta.ttf -> build\\lib.win-amd64-cpython-310\\matplotlib\\mpl-data\\fonts\\ttf\n",
            "      copying lib\\matplotlib\\mpl-data\\images\\help.pdf -> build\\lib.win-amd64-cpython-310\\matplotlib\\mpl-data\\images\n",
            "      copying lib\\matplotlib\\backends\\web_backend\\jquery-ui-1.12.1\\index.html -> build\\lib.win-amd64-cpython-310\\matplotlib\\backends\\web_backend\\jquery-ui-1.12.1\n",
            "      copying lib\\matplotlib\\backends\\web_backend\\jquery-ui-1.12.1\\AUTHORS.txt -> build\\lib.win-amd64-cpython-310\\matplotlib\\backends\\web_backend\\jquery-ui-1.12.1\n",
            "      copying lib\\matplotlib\\mpl-data\\fonts\\afm\\phvro8a.afm -> build\\lib.win-amd64-cpython-310\\matplotlib\\mpl-data\\fonts\\afm\n",
            "      copying lib\\matplotlib\\mpl-data\\fonts\\afm\\pncr8a.afm -> build\\lib.win-amd64-cpython-310\\matplotlib\\mpl-data\\fonts\\afm\n",
            "      copying lib\\matplotlib\\mpl-data\\fonts\\pdfcorefonts\\Helvetica.afm -> build\\lib.win-amd64-cpython-310\\matplotlib\\mpl-data\\fonts\\pdfcorefonts\n",
            "      copying lib\\matplotlib\\mpl-data\\images\\subplots.pdf -> build\\lib.win-amd64-cpython-310\\matplotlib\\mpl-data\\images\n",
            "      copying lib\\matplotlib\\mpl-data\\fonts\\afm\\pagdo8a.afm -> build\\lib.win-amd64-cpython-310\\matplotlib\\mpl-data\\fonts\\afm\n",
            "      copying lib\\matplotlib\\mpl-data\\fonts\\pdfcorefonts\\Helvetica-Oblique.afm -> build\\lib.win-amd64-cpython-310\\matplotlib\\mpl-data\\fonts\\pdfcorefonts\n",
            "      copying lib\\matplotlib\\mpl-data\\images\\forward_large.gif -> build\\lib.win-amd64-cpython-310\\matplotlib\\mpl-data\\images\n",
            "      copying lib\\matplotlib\\mpl-data\\sample_data\\ct.raw.gz -> build\\lib.win-amd64-cpython-310\\matplotlib\\mpl-data\\sample_data\n",
            "      copying lib\\matplotlib\\mpl-data\\images\\home.pdf -> build\\lib.win-amd64-cpython-310\\matplotlib\\mpl-data\\images\n",
            "      copying lib\\matplotlib\\mpl-data\\stylelib\\seaborn-pastel.mplstyle -> build\\lib.win-amd64-cpython-310\\matplotlib\\mpl-data\\stylelib\n",
            "      copying lib\\matplotlib\\mpl-data\\stylelib\\seaborn-ticks.mplstyle -> build\\lib.win-amd64-cpython-310\\matplotlib\\mpl-data\\stylelib\n",
            "      copying lib\\matplotlib\\mpl-data\\fonts\\ttf\\STIXSizThreeSymBol.ttf -> build\\lib.win-amd64-cpython-310\\matplotlib\\mpl-data\\fonts\\ttf\n",
            "      copying lib\\matplotlib\\mpl-data\\stylelib\\seaborn-colorblind.mplstyle -> build\\lib.win-amd64-cpython-310\\matplotlib\\mpl-data\\stylelib\n",
            "      copying lib\\matplotlib\\backends\\web_backend\\nbagg_uat.ipynb -> build\\lib.win-amd64-cpython-310\\matplotlib\\backends\\web_backend\n",
            "      copying lib\\matplotlib\\mpl-data\\fonts\\pdfcorefonts\\Times-Roman.afm -> build\\lib.win-amd64-cpython-310\\matplotlib\\mpl-data\\fonts\\pdfcorefonts\n",
            "      copying lib\\matplotlib\\mpl-data\\fonts\\ttf\\cmmi10.ttf -> build\\lib.win-amd64-cpython-310\\matplotlib\\mpl-data\\fonts\\ttf\n",
            "      copying lib\\matplotlib\\mpl-data\\sample_data\\membrane.dat -> build\\lib.win-amd64-cpython-310\\matplotlib\\mpl-data\\sample_data\n",
            "      copying lib\\matplotlib\\mpl-data\\images\\zoom_to_rect_large.png -> build\\lib.win-amd64-cpython-310\\matplotlib\\mpl-data\\images\n",
            "      copying lib\\matplotlib\\mpl-data\\fonts\\ttf\\STIXNonUni.ttf -> build\\lib.win-amd64-cpython-310\\matplotlib\\mpl-data\\fonts\\ttf\n",
            "      copying lib\\matplotlib\\mpl-data\\images\\back_large.png -> build\\lib.win-amd64-cpython-310\\matplotlib\\mpl-data\\images\n",
            "      copying lib\\matplotlib\\mpl-data\\fonts\\ttf\\DejaVuSerif-BoldItalic.ttf -> build\\lib.win-amd64-cpython-310\\matplotlib\\mpl-data\\fonts\\ttf\n",
            "      copying lib\\matplotlib\\backends\\web_backend\\css\\page.css -> build\\lib.win-amd64-cpython-310\\matplotlib\\backends\\web_backend\\css\n",
            "      copying lib\\matplotlib\\mpl-data\\sample_data\\logo2.png -> build\\lib.win-amd64-cpython-310\\matplotlib\\mpl-data\\sample_data\n",
            "      copying lib\\matplotlib\\mpl-data\\images\\home.gif -> build\\lib.win-amd64-cpython-310\\matplotlib\\mpl-data\\images\n",
            "      copying lib\\matplotlib\\backends\\web_backend\\jquery-ui-1.12.1\\jquery-ui.js -> build\\lib.win-amd64-cpython-310\\matplotlib\\backends\\web_backend\\jquery-ui-1.12.1\n",
            "      copying lib\\matplotlib\\mpl-data\\stylelib\\bmh.mplstyle -> build\\lib.win-amd64-cpython-310\\matplotlib\\mpl-data\\stylelib\n",
            "      copying lib\\matplotlib\\mpl-data\\fonts\\pdfcorefonts\\Courier-Oblique.afm -> build\\lib.win-amd64-cpython-310\\matplotlib\\mpl-data\\fonts\\pdfcorefonts\n",
            "      copying lib\\matplotlib\\mpl-data\\fonts\\ttf\\LICENSE_DEJAVU -> build\\lib.win-amd64-cpython-310\\matplotlib\\mpl-data\\fonts\\ttf\n",
            "      copying lib\\matplotlib\\mpl-data\\fonts\\afm\\cmex10.afm -> build\\lib.win-amd64-cpython-310\\matplotlib\\mpl-data\\fonts\\afm\n",
            "      copying lib\\matplotlib\\mpl-data\\images\\forward.png -> build\\lib.win-amd64-cpython-310\\matplotlib\\mpl-data\\images\n",
            "      copying lib\\matplotlib\\mpl-data\\fonts\\afm\\phvb8a.afm -> build\\lib.win-amd64-cpython-310\\matplotlib\\mpl-data\\fonts\\afm\n",
            "      copying lib\\matplotlib\\mpl-data\\fonts\\afm\\psyr.afm -> build\\lib.win-amd64-cpython-310\\matplotlib\\mpl-data\\fonts\\afm\n",
            "      copying lib\\matplotlib\\mpl-data\\images\\home_large.png -> build\\lib.win-amd64-cpython-310\\matplotlib\\mpl-data\\images\n",
            "      copying lib\\matplotlib\\mpl-data\\sample_data\\ada.png -> build\\lib.win-amd64-cpython-310\\matplotlib\\mpl-data\\sample_data\n",
            "      copying lib\\matplotlib\\mpl-data\\sample_data\\topobathy.npz -> build\\lib.win-amd64-cpython-310\\matplotlib\\mpl-data\\sample_data\n",
            "      copying lib\\matplotlib\\mpl-data\\fonts\\afm\\phvro8an.afm -> build\\lib.win-amd64-cpython-310\\matplotlib\\mpl-data\\fonts\\afm\n",
            "      copying lib\\matplotlib\\mpl-data\\images\\move.pdf -> build\\lib.win-amd64-cpython-310\\matplotlib\\mpl-data\\images\n",
            "      copying lib\\matplotlib\\mpl-data\\stylelib\\_classic_test.mplstyle -> build\\lib.win-amd64-cpython-310\\matplotlib\\mpl-data\\stylelib\n",
            "      copying lib\\matplotlib\\mpl-data\\fonts\\ttf\\STIXSizOneSymBol.ttf -> build\\lib.win-amd64-cpython-310\\matplotlib\\mpl-data\\fonts\\ttf\n",
            "      copying lib\\matplotlib\\mpl-data\\fonts\\ttf\\DejaVuSansDisplay.ttf -> build\\lib.win-amd64-cpython-310\\matplotlib\\mpl-data\\fonts\\ttf\n",
            "      copying lib\\matplotlib\\mpl-data\\fonts\\afm\\pplb8a.afm -> build\\lib.win-amd64-cpython-310\\matplotlib\\mpl-data\\fonts\\afm\n",
            "      copying lib\\matplotlib\\mpl-data\\fonts\\afm\\cmr10.afm -> build\\lib.win-amd64-cpython-310\\matplotlib\\mpl-data\\fonts\\afm\n",
            "      copying lib\\matplotlib\\mpl-data\\fonts\\afm\\pbkl8a.afm -> build\\lib.win-amd64-cpython-310\\matplotlib\\mpl-data\\fonts\\afm\n",
            "      copying lib\\matplotlib\\mpl-data\\fonts\\afm\\pcrr8a.afm -> build\\lib.win-amd64-cpython-310\\matplotlib\\mpl-data\\fonts\\afm\n",
            "      copying lib\\matplotlib\\mpl-data\\fonts\\ttf\\DejaVuSans-Bold.ttf -> build\\lib.win-amd64-cpython-310\\matplotlib\\mpl-data\\fonts\\ttf\n",
            "      copying lib\\matplotlib\\backends\\web_backend\\jquery-ui-1.12.1\\images\\ui-icons_777777_256x240.png -> build\\lib.win-amd64-cpython-310\\matplotlib\\backends\\web_backend\\jquery-ui-1.12.1\\images\n",
            "      copying lib\\matplotlib\\mpl-data\\stylelib\\seaborn-poster.mplstyle -> build\\lib.win-amd64-cpython-310\\matplotlib\\mpl-data\\stylelib\n",
            "      copying lib\\matplotlib\\mpl-data\\sample_data\\embedding_in_wx3.xrc -> build\\lib.win-amd64-cpython-310\\matplotlib\\mpl-data\\sample_data\n",
            "      copying lib\\matplotlib\\mpl-data\\images\\move.gif -> build\\lib.win-amd64-cpython-310\\matplotlib\\mpl-data\\images\n",
            "      copying lib\\matplotlib\\mpl-data\\stylelib\\fast.mplstyle -> build\\lib.win-amd64-cpython-310\\matplotlib\\mpl-data\\stylelib\n",
            "      copying lib\\matplotlib\\backends\\web_backend\\jquery-ui-1.12.1\\jquery-ui.theme.min.css -> build\\lib.win-amd64-cpython-310\\matplotlib\\backends\\web_backend\\jquery-ui-1.12.1\n",
            "      copying lib\\matplotlib\\mpl-data\\sample_data\\data_x_x2_x3.csv -> build\\lib.win-amd64-cpython-310\\matplotlib\\mpl-data\\sample_data\n",
            "      UPDATING build\\lib.win-amd64-cpython-310\\matplotlib\\_version.py\n",
            "      set build\\lib.win-amd64-cpython-310\\matplotlib\\_version.py to '3.1.3'\n",
            "      running build_ext\n",
            "      building 'matplotlib.ft2font' extension\n",
            "      error: Microsoft Visual C++ 14.0 or greater is required. Get it with \"Microsoft C++ Build Tools\": https://visualstudio.microsoft.com/visual-cpp-build-tools/\n",
            "      [end of output]\n",
            "  \n",
            "  note: This error originates from a subprocess, and is likely not a problem with pip.\n",
            "  ERROR: Failed building wheel for matplotlib\n",
            "WARNING: Ignoring invalid distribution -atplotlib (c:\\users\\harini\\appdata\\local\\packages\\pythonsoftwarefoundation.python.3.10_qbz5n2kfra8p0\\localcache\\local-packages\\python310\\site-packages)\n",
            "    WARNING: Ignoring invalid distribution -atplotlib (c:\\users\\harini\\appdata\\local\\packages\\pythonsoftwarefoundation.python.3.10_qbz5n2kfra8p0\\localcache\\local-packages\\python310\\site-packages)\n",
            "  error: subprocess-exited-with-error\n",
            "  \n",
            "  × Running setup.py install for matplotlib did not run successfully.\n",
            "  │ exit code: 1\n",
            "  ╰─> [503 lines of output]\n",
            "      ================================================================================\n",
            "      Edit setup.cfg to change the build options\n",
            "      \n",
            "      BUILDING MATPLOTLIB\n",
            "        matplotlib: yes [3.1.3]\n",
            "            python: yes [3.10.10 (tags/v3.10.10:aad5f6a, Feb  7 2023, 17:20:36) [MSC\n",
            "                        v.1929 64 bit (AMD64)]]\n",
            "          platform: yes [win32]\n",
            "      \n",
            "      OPTIONAL SUBPACKAGES\n",
            "       sample_data: yes [installing]\n",
            "             tests: no  [skipping due to configuration]\n",
            "      \n",
            "      OPTIONAL BACKEND EXTENSIONS\n",
            "               agg: yes [installing]\n",
            "             tkagg: yes [installing; run-time loading from Python Tcl/Tk]\n",
            "            macosx: no  [Mac OS-X only]\n",
            "      \n",
            "      OPTIONAL PACKAGE DATA\n",
            "              dlls: no  [skipping due to configuration]\n",
            "      \n",
            "      C:\\Program Files\\WindowsApps\\PythonSoftwareFoundation.Python.3.10_3.10.2800.0_x64__qbz5n2kfra8p0\\lib\\site-packages\\setuptools\\dist.py:286: SetuptoolsDeprecationWarning: The namespace_packages parameter is deprecated, consider using implicit namespaces instead (PEP 420).\n",
            "        warnings.warn(msg, SetuptoolsDeprecationWarning)\n",
            "      running install\n",
            "      C:\\Program Files\\WindowsApps\\PythonSoftwareFoundation.Python.3.10_3.10.2800.0_x64__qbz5n2kfra8p0\\lib\\site-packages\\setuptools\\command\\install.py:34: SetuptoolsDeprecationWarning: setup.py install is deprecated. Use build and pip and other standards-based tools.\n",
            "        warnings.warn(\n",
            "      running build\n",
            "      running build_py\n",
            "      creating build\n",
            "      creating build\\lib.win-amd64-cpython-310\n",
            "      copying lib\\pylab.py -> build\\lib.win-amd64-cpython-310\n",
            "      creating build\\lib.win-amd64-cpython-310\\matplotlib\n",
            "      copying lib\\matplotlib\\afm.py -> build\\lib.win-amd64-cpython-310\\matplotlib\n",
            "      copying lib\\matplotlib\\animation.py -> build\\lib.win-amd64-cpython-310\\matplotlib\n",
            "      copying lib\\matplotlib\\artist.py -> build\\lib.win-amd64-cpython-310\\matplotlib\n",
            "      copying lib\\matplotlib\\axis.py -> build\\lib.win-amd64-cpython-310\\matplotlib\n",
            "      copying lib\\matplotlib\\backend_bases.py -> build\\lib.win-amd64-cpython-310\\matplotlib\n",
            "      copying lib\\matplotlib\\backend_managers.py -> build\\lib.win-amd64-cpython-310\\matplotlib\n",
            "      copying lib\\matplotlib\\backend_tools.py -> build\\lib.win-amd64-cpython-310\\matplotlib\n",
            "      copying lib\\matplotlib\\bezier.py -> build\\lib.win-amd64-cpython-310\\matplotlib\n",
            "      copying lib\\matplotlib\\blocking_input.py -> build\\lib.win-amd64-cpython-310\\matplotlib\n",
            "      copying lib\\matplotlib\\category.py -> build\\lib.win-amd64-cpython-310\\matplotlib\n",
            "      copying lib\\matplotlib\\cm.py -> build\\lib.win-amd64-cpython-310\\matplotlib\n",
            "      copying lib\\matplotlib\\collections.py -> build\\lib.win-amd64-cpython-310\\matplotlib\n",
            "      copying lib\\matplotlib\\colorbar.py -> build\\lib.win-amd64-cpython-310\\matplotlib\n",
            "      copying lib\\matplotlib\\colors.py -> build\\lib.win-amd64-cpython-310\\matplotlib\n",
            "      copying lib\\matplotlib\\container.py -> build\\lib.win-amd64-cpython-310\\matplotlib\n",
            "      copying lib\\matplotlib\\contour.py -> build\\lib.win-amd64-cpython-310\\matplotlib\n",
            "      copying lib\\matplotlib\\dates.py -> build\\lib.win-amd64-cpython-310\\matplotlib\n",
            "      copying lib\\matplotlib\\docstring.py -> build\\lib.win-amd64-cpython-310\\matplotlib\n",
            "      copying lib\\matplotlib\\dviread.py -> build\\lib.win-amd64-cpython-310\\matplotlib\n",
            "      copying lib\\matplotlib\\figure.py -> build\\lib.win-amd64-cpython-310\\matplotlib\n",
            "      copying lib\\matplotlib\\fontconfig_pattern.py -> build\\lib.win-amd64-cpython-310\\matplotlib\n",
            "      copying lib\\matplotlib\\font_manager.py -> build\\lib.win-amd64-cpython-310\\matplotlib\n",
            "      copying lib\\matplotlib\\gridspec.py -> build\\lib.win-amd64-cpython-310\\matplotlib\n",
            "      copying lib\\matplotlib\\hatch.py -> build\\lib.win-amd64-cpython-310\\matplotlib\n",
            "      copying lib\\matplotlib\\image.py -> build\\lib.win-amd64-cpython-310\\matplotlib\n",
            "      copying lib\\matplotlib\\legend.py -> build\\lib.win-amd64-cpython-310\\matplotlib\n",
            "      copying lib\\matplotlib\\legend_handler.py -> build\\lib.win-amd64-cpython-310\\matplotlib\n",
            "      copying lib\\matplotlib\\lines.py -> build\\lib.win-amd64-cpython-310\\matplotlib\n",
            "      copying lib\\matplotlib\\markers.py -> build\\lib.win-amd64-cpython-310\\matplotlib\n",
            "      copying lib\\matplotlib\\mathtext.py -> build\\lib.win-amd64-cpython-310\\matplotlib\n",
            "      copying lib\\matplotlib\\mlab.py -> build\\lib.win-amd64-cpython-310\\matplotlib\n",
            "      copying lib\\matplotlib\\offsetbox.py -> build\\lib.win-amd64-cpython-310\\matplotlib\n",
            "      copying lib\\matplotlib\\patches.py -> build\\lib.win-amd64-cpython-310\\matplotlib\n",
            "      copying lib\\matplotlib\\path.py -> build\\lib.win-amd64-cpython-310\\matplotlib\n",
            "      copying lib\\matplotlib\\patheffects.py -> build\\lib.win-amd64-cpython-310\\matplotlib\n",
            "      copying lib\\matplotlib\\pylab.py -> build\\lib.win-amd64-cpython-310\\matplotlib\n",
            "      copying lib\\matplotlib\\pyplot.py -> build\\lib.win-amd64-cpython-310\\matplotlib\n",
            "      copying lib\\matplotlib\\quiver.py -> build\\lib.win-amd64-cpython-310\\matplotlib\n",
            "      copying lib\\matplotlib\\rcsetup.py -> build\\lib.win-amd64-cpython-310\\matplotlib\n",
            "      copying lib\\matplotlib\\sankey.py -> build\\lib.win-amd64-cpython-310\\matplotlib\n",
            "      copying lib\\matplotlib\\scale.py -> build\\lib.win-amd64-cpython-310\\matplotlib\n",
            "      copying lib\\matplotlib\\spines.py -> build\\lib.win-amd64-cpython-310\\matplotlib\n",
            "      copying lib\\matplotlib\\stackplot.py -> build\\lib.win-amd64-cpython-310\\matplotlib\n",
            "      copying lib\\matplotlib\\streamplot.py -> build\\lib.win-amd64-cpython-310\\matplotlib\n",
            "      copying lib\\matplotlib\\table.py -> build\\lib.win-amd64-cpython-310\\matplotlib\n",
            "      copying lib\\matplotlib\\texmanager.py -> build\\lib.win-amd64-cpython-310\\matplotlib\n",
            "      copying lib\\matplotlib\\text.py -> build\\lib.win-amd64-cpython-310\\matplotlib\n",
            "      copying lib\\matplotlib\\textpath.py -> build\\lib.win-amd64-cpython-310\\matplotlib\n",
            "      copying lib\\matplotlib\\ticker.py -> build\\lib.win-amd64-cpython-310\\matplotlib\n",
            "      copying lib\\matplotlib\\tight_bbox.py -> build\\lib.win-amd64-cpython-310\\matplotlib\n",
            "      copying lib\\matplotlib\\tight_layout.py -> build\\lib.win-amd64-cpython-310\\matplotlib\n",
            "      copying lib\\matplotlib\\transforms.py -> build\\lib.win-amd64-cpython-310\\matplotlib\n",
            "      copying lib\\matplotlib\\type1font.py -> build\\lib.win-amd64-cpython-310\\matplotlib\n",
            "      copying lib\\matplotlib\\units.py -> build\\lib.win-amd64-cpython-310\\matplotlib\n",
            "      copying lib\\matplotlib\\widgets.py -> build\\lib.win-amd64-cpython-310\\matplotlib\n",
            "      copying lib\\matplotlib\\_animation_data.py -> build\\lib.win-amd64-cpython-310\\matplotlib\n",
            "      copying lib\\matplotlib\\_cm.py -> build\\lib.win-amd64-cpython-310\\matplotlib\n",
            "      copying lib\\matplotlib\\_cm_listed.py -> build\\lib.win-amd64-cpython-310\\matplotlib\n",
            "      copying lib\\matplotlib\\_color_data.py -> build\\lib.win-amd64-cpython-310\\matplotlib\n",
            "      copying lib\\matplotlib\\_constrained_layout.py -> build\\lib.win-amd64-cpython-310\\matplotlib\n",
            "      copying lib\\matplotlib\\_layoutbox.py -> build\\lib.win-amd64-cpython-310\\matplotlib\n",
            "      copying lib\\matplotlib\\_mathtext_data.py -> build\\lib.win-amd64-cpython-310\\matplotlib\n",
            "      copying lib\\matplotlib\\_pylab_helpers.py -> build\\lib.win-amd64-cpython-310\\matplotlib\n",
            "      copying lib\\matplotlib\\_version.py -> build\\lib.win-amd64-cpython-310\\matplotlib\n",
            "      copying lib\\matplotlib\\__init__.py -> build\\lib.win-amd64-cpython-310\\matplotlib\n",
            "      creating build\\lib.win-amd64-cpython-310\\mpl_toolkits\n",
            "      copying lib\\mpl_toolkits\\__init__.py -> build\\lib.win-amd64-cpython-310\\mpl_toolkits\n",
            "      creating build\\lib.win-amd64-cpython-310\\matplotlib\\axes\n",
            "      copying lib\\matplotlib\\axes\\_axes.py -> build\\lib.win-amd64-cpython-310\\matplotlib\\axes\n",
            "      copying lib\\matplotlib\\axes\\_base.py -> build\\lib.win-amd64-cpython-310\\matplotlib\\axes\n",
            "      copying lib\\matplotlib\\axes\\_secondary_axes.py -> build\\lib.win-amd64-cpython-310\\matplotlib\\axes\n",
            "      copying lib\\matplotlib\\axes\\_subplots.py -> build\\lib.win-amd64-cpython-310\\matplotlib\\axes\n",
            "      copying lib\\matplotlib\\axes\\__init__.py -> build\\lib.win-amd64-cpython-310\\matplotlib\\axes\n",
            "      creating build\\lib.win-amd64-cpython-310\\matplotlib\\backends\n",
            "      copying lib\\matplotlib\\backends\\backend_agg.py -> build\\lib.win-amd64-cpython-310\\matplotlib\\backends\n",
            "      copying lib\\matplotlib\\backends\\backend_cairo.py -> build\\lib.win-amd64-cpython-310\\matplotlib\\backends\n",
            "      copying lib\\matplotlib\\backends\\backend_gtk3.py -> build\\lib.win-amd64-cpython-310\\matplotlib\\backends\n",
            "      copying lib\\matplotlib\\backends\\backend_gtk3agg.py -> build\\lib.win-amd64-cpython-310\\matplotlib\\backends\n",
            "      copying lib\\matplotlib\\backends\\backend_gtk3cairo.py -> build\\lib.win-amd64-cpython-310\\matplotlib\\backends\n",
            "      copying lib\\matplotlib\\backends\\backend_macosx.py -> build\\lib.win-amd64-cpython-310\\matplotlib\\backends\n",
            "      copying lib\\matplotlib\\backends\\backend_mixed.py -> build\\lib.win-amd64-cpython-310\\matplotlib\\backends\n",
            "      copying lib\\matplotlib\\backends\\backend_nbagg.py -> build\\lib.win-amd64-cpython-310\\matplotlib\\backends\n",
            "      copying lib\\matplotlib\\backends\\backend_pdf.py -> build\\lib.win-amd64-cpython-310\\matplotlib\\backends\n",
            "      copying lib\\matplotlib\\backends\\backend_pgf.py -> build\\lib.win-amd64-cpython-310\\matplotlib\\backends\n",
            "      copying lib\\matplotlib\\backends\\backend_ps.py -> build\\lib.win-amd64-cpython-310\\matplotlib\\backends\n",
            "      copying lib\\matplotlib\\backends\\backend_qt4.py -> build\\lib.win-amd64-cpython-310\\matplotlib\\backends\n",
            "      copying lib\\matplotlib\\backends\\backend_qt4agg.py -> build\\lib.win-amd64-cpython-310\\matplotlib\\backends\n",
            "      copying lib\\matplotlib\\backends\\backend_qt4cairo.py -> build\\lib.win-amd64-cpython-310\\matplotlib\\backends\n",
            "      copying lib\\matplotlib\\backends\\backend_qt5.py -> build\\lib.win-amd64-cpython-310\\matplotlib\\backends\n",
            "      copying lib\\matplotlib\\backends\\backend_qt5agg.py -> build\\lib.win-amd64-cpython-310\\matplotlib\\backends\n",
            "      copying lib\\matplotlib\\backends\\backend_qt5cairo.py -> build\\lib.win-amd64-cpython-310\\matplotlib\\backends\n",
            "      copying lib\\matplotlib\\backends\\backend_svg.py -> build\\lib.win-amd64-cpython-310\\matplotlib\\backends\n",
            "      copying lib\\matplotlib\\backends\\backend_template.py -> build\\lib.win-amd64-cpython-310\\matplotlib\\backends\n",
            "      copying lib\\matplotlib\\backends\\backend_tkagg.py -> build\\lib.win-amd64-cpython-310\\matplotlib\\backends\n",
            "      copying lib\\matplotlib\\backends\\backend_tkcairo.py -> build\\lib.win-amd64-cpython-310\\matplotlib\\backends\n",
            "      copying lib\\matplotlib\\backends\\backend_webagg.py -> build\\lib.win-amd64-cpython-310\\matplotlib\\backends\n",
            "      copying lib\\matplotlib\\backends\\backend_webagg_core.py -> build\\lib.win-amd64-cpython-310\\matplotlib\\backends\n",
            "      copying lib\\matplotlib\\backends\\backend_wx.py -> build\\lib.win-amd64-cpython-310\\matplotlib\\backends\n",
            "      copying lib\\matplotlib\\backends\\backend_wxagg.py -> build\\lib.win-amd64-cpython-310\\matplotlib\\backends\n",
            "      copying lib\\matplotlib\\backends\\backend_wxcairo.py -> build\\lib.win-amd64-cpython-310\\matplotlib\\backends\n",
            "      copying lib\\matplotlib\\backends\\qt_compat.py -> build\\lib.win-amd64-cpython-310\\matplotlib\\backends\n",
            "      copying lib\\matplotlib\\backends\\tkagg.py -> build\\lib.win-amd64-cpython-310\\matplotlib\\backends\n",
            "      copying lib\\matplotlib\\backends\\windowing.py -> build\\lib.win-amd64-cpython-310\\matplotlib\\backends\n",
            "      copying lib\\matplotlib\\backends\\wx_compat.py -> build\\lib.win-amd64-cpython-310\\matplotlib\\backends\n",
            "      copying lib\\matplotlib\\backends\\_backend_pdf_ps.py -> build\\lib.win-amd64-cpython-310\\matplotlib\\backends\n",
            "      copying lib\\matplotlib\\backends\\_backend_tk.py -> build\\lib.win-amd64-cpython-310\\matplotlib\\backends\n",
            "      copying lib\\matplotlib\\backends\\__init__.py -> build\\lib.win-amd64-cpython-310\\matplotlib\\backends\n",
            "      creating build\\lib.win-amd64-cpython-310\\matplotlib\\cbook\n",
            "      copying lib\\matplotlib\\cbook\\deprecation.py -> build\\lib.win-amd64-cpython-310\\matplotlib\\cbook\n",
            "      copying lib\\matplotlib\\cbook\\__init__.py -> build\\lib.win-amd64-cpython-310\\matplotlib\\cbook\n",
            "      creating build\\lib.win-amd64-cpython-310\\matplotlib\\compat\n",
            "      copying lib\\matplotlib\\compat\\subprocess.py -> build\\lib.win-amd64-cpython-310\\matplotlib\\compat\n",
            "      copying lib\\matplotlib\\compat\\__init__.py -> build\\lib.win-amd64-cpython-310\\matplotlib\\compat\n",
            "      creating build\\lib.win-amd64-cpython-310\\matplotlib\\projections\n",
            "      copying lib\\matplotlib\\projections\\geo.py -> build\\lib.win-amd64-cpython-310\\matplotlib\\projections\n",
            "      copying lib\\matplotlib\\projections\\polar.py -> build\\lib.win-amd64-cpython-310\\matplotlib\\projections\n",
            "      copying lib\\matplotlib\\projections\\__init__.py -> build\\lib.win-amd64-cpython-310\\matplotlib\\projections\n",
            "      creating build\\lib.win-amd64-cpython-310\\matplotlib\\sphinxext\n",
            "      copying lib\\matplotlib\\sphinxext\\mathmpl.py -> build\\lib.win-amd64-cpython-310\\matplotlib\\sphinxext\n",
            "      copying lib\\matplotlib\\sphinxext\\plot_directive.py -> build\\lib.win-amd64-cpython-310\\matplotlib\\sphinxext\n",
            "      copying lib\\matplotlib\\sphinxext\\__init__.py -> build\\lib.win-amd64-cpython-310\\matplotlib\\sphinxext\n",
            "      creating build\\lib.win-amd64-cpython-310\\matplotlib\\style\n",
            "      copying lib\\matplotlib\\style\\core.py -> build\\lib.win-amd64-cpython-310\\matplotlib\\style\n",
            "      copying lib\\matplotlib\\style\\__init__.py -> build\\lib.win-amd64-cpython-310\\matplotlib\\style\n",
            "      creating build\\lib.win-amd64-cpython-310\\matplotlib\\testing\n",
            "      copying lib\\matplotlib\\testing\\compare.py -> build\\lib.win-amd64-cpython-310\\matplotlib\\testing\n",
            "      copying lib\\matplotlib\\testing\\conftest.py -> build\\lib.win-amd64-cpython-310\\matplotlib\\testing\n",
            "      copying lib\\matplotlib\\testing\\decorators.py -> build\\lib.win-amd64-cpython-310\\matplotlib\\testing\n",
            "      copying lib\\matplotlib\\testing\\determinism.py -> build\\lib.win-amd64-cpython-310\\matplotlib\\testing\n",
            "      copying lib\\matplotlib\\testing\\disable_internet.py -> build\\lib.win-amd64-cpython-310\\matplotlib\\testing\n",
            "      copying lib\\matplotlib\\testing\\exceptions.py -> build\\lib.win-amd64-cpython-310\\matplotlib\\testing\n",
            "      copying lib\\matplotlib\\testing\\__init__.py -> build\\lib.win-amd64-cpython-310\\matplotlib\\testing\n",
            "      creating build\\lib.win-amd64-cpython-310\\matplotlib\\tri\n",
            "      copying lib\\matplotlib\\tri\\triangulation.py -> build\\lib.win-amd64-cpython-310\\matplotlib\\tri\n",
            "      copying lib\\matplotlib\\tri\\tricontour.py -> build\\lib.win-amd64-cpython-310\\matplotlib\\tri\n",
            "      copying lib\\matplotlib\\tri\\trifinder.py -> build\\lib.win-amd64-cpython-310\\matplotlib\\tri\n",
            "      copying lib\\matplotlib\\tri\\triinterpolate.py -> build\\lib.win-amd64-cpython-310\\matplotlib\\tri\n",
            "      copying lib\\matplotlib\\tri\\tripcolor.py -> build\\lib.win-amd64-cpython-310\\matplotlib\\tri\n",
            "      copying lib\\matplotlib\\tri\\triplot.py -> build\\lib.win-amd64-cpython-310\\matplotlib\\tri\n",
            "      copying lib\\matplotlib\\tri\\trirefine.py -> build\\lib.win-amd64-cpython-310\\matplotlib\\tri\n",
            "      copying lib\\matplotlib\\tri\\tritools.py -> build\\lib.win-amd64-cpython-310\\matplotlib\\tri\n",
            "      copying lib\\matplotlib\\tri\\__init__.py -> build\\lib.win-amd64-cpython-310\\matplotlib\\tri\n",
            "      creating build\\lib.win-amd64-cpython-310\\matplotlib\\backends\\qt_editor\n",
            "      copying lib\\matplotlib\\backends\\qt_editor\\figureoptions.py -> build\\lib.win-amd64-cpython-310\\matplotlib\\backends\\qt_editor\n",
            "      copying lib\\matplotlib\\backends\\qt_editor\\formlayout.py -> build\\lib.win-amd64-cpython-310\\matplotlib\\backends\\qt_editor\n",
            "      copying lib\\matplotlib\\backends\\qt_editor\\formsubplottool.py -> build\\lib.win-amd64-cpython-310\\matplotlib\\backends\\qt_editor\n",
            "      copying lib\\matplotlib\\backends\\qt_editor\\_formlayout.py -> build\\lib.win-amd64-cpython-310\\matplotlib\\backends\\qt_editor\n",
            "      copying lib\\matplotlib\\backends\\qt_editor\\__init__.py -> build\\lib.win-amd64-cpython-310\\matplotlib\\backends\\qt_editor\n",
            "      creating build\\lib.win-amd64-cpython-310\\matplotlib\\testing\\jpl_units\n",
            "      copying lib\\matplotlib\\testing\\jpl_units\\Duration.py -> build\\lib.win-amd64-cpython-310\\matplotlib\\testing\\jpl_units\n",
            "      copying lib\\matplotlib\\testing\\jpl_units\\Epoch.py -> build\\lib.win-amd64-cpython-310\\matplotlib\\testing\\jpl_units\n",
            "      copying lib\\matplotlib\\testing\\jpl_units\\EpochConverter.py -> build\\lib.win-amd64-cpython-310\\matplotlib\\testing\\jpl_units\n",
            "      copying lib\\matplotlib\\testing\\jpl_units\\StrConverter.py -> build\\lib.win-amd64-cpython-310\\matplotlib\\testing\\jpl_units\n",
            "      copying lib\\matplotlib\\testing\\jpl_units\\UnitDbl.py -> build\\lib.win-amd64-cpython-310\\matplotlib\\testing\\jpl_units\n",
            "      copying lib\\matplotlib\\testing\\jpl_units\\UnitDblConverter.py -> build\\lib.win-amd64-cpython-310\\matplotlib\\testing\\jpl_units\n",
            "      copying lib\\matplotlib\\testing\\jpl_units\\UnitDblFormatter.py -> build\\lib.win-amd64-cpython-310\\matplotlib\\testing\\jpl_units\n",
            "      copying lib\\matplotlib\\testing\\jpl_units\\__init__.py -> build\\lib.win-amd64-cpython-310\\matplotlib\\testing\\jpl_units\n",
            "      creating build\\lib.win-amd64-cpython-310\\mpl_toolkits\\axes_grid\n",
            "      copying lib\\mpl_toolkits\\axes_grid\\anchored_artists.py -> build\\lib.win-amd64-cpython-310\\mpl_toolkits\\axes_grid\n",
            "      copying lib\\mpl_toolkits\\axes_grid\\angle_helper.py -> build\\lib.win-amd64-cpython-310\\mpl_toolkits\\axes_grid\n",
            "      copying lib\\mpl_toolkits\\axes_grid\\axes_divider.py -> build\\lib.win-amd64-cpython-310\\mpl_toolkits\\axes_grid\n",
            "      copying lib\\mpl_toolkits\\axes_grid\\axes_grid.py -> build\\lib.win-amd64-cpython-310\\mpl_toolkits\\axes_grid\n",
            "      copying lib\\mpl_toolkits\\axes_grid\\axes_rgb.py -> build\\lib.win-amd64-cpython-310\\mpl_toolkits\\axes_grid\n",
            "      copying lib\\mpl_toolkits\\axes_grid\\axes_size.py -> build\\lib.win-amd64-cpython-310\\mpl_toolkits\\axes_grid\n",
            "      copying lib\\mpl_toolkits\\axes_grid\\axislines.py -> build\\lib.win-amd64-cpython-310\\mpl_toolkits\\axes_grid\n",
            "      copying lib\\mpl_toolkits\\axes_grid\\axisline_style.py -> build\\lib.win-amd64-cpython-310\\mpl_toolkits\\axes_grid\n",
            "      copying lib\\mpl_toolkits\\axes_grid\\axis_artist.py -> build\\lib.win-amd64-cpython-310\\mpl_toolkits\\axes_grid\n",
            "      copying lib\\mpl_toolkits\\axes_grid\\clip_path.py -> build\\lib.win-amd64-cpython-310\\mpl_toolkits\\axes_grid\n",
            "      copying lib\\mpl_toolkits\\axes_grid\\colorbar.py -> build\\lib.win-amd64-cpython-310\\mpl_toolkits\\axes_grid\n",
            "      copying lib\\mpl_toolkits\\axes_grid\\floating_axes.py -> build\\lib.win-amd64-cpython-310\\mpl_toolkits\\axes_grid\n",
            "      copying lib\\mpl_toolkits\\axes_grid\\grid_finder.py -> build\\lib.win-amd64-cpython-310\\mpl_toolkits\\axes_grid\n",
            "      copying lib\\mpl_toolkits\\axes_grid\\grid_helper_curvelinear.py -> build\\lib.win-amd64-cpython-310\\mpl_toolkits\\axes_grid\n",
            "      copying lib\\mpl_toolkits\\axes_grid\\inset_locator.py -> build\\lib.win-amd64-cpython-310\\mpl_toolkits\\axes_grid\n",
            "      copying lib\\mpl_toolkits\\axes_grid\\parasite_axes.py -> build\\lib.win-amd64-cpython-310\\mpl_toolkits\\axes_grid\n",
            "      copying lib\\mpl_toolkits\\axes_grid\\__init__.py -> build\\lib.win-amd64-cpython-310\\mpl_toolkits\\axes_grid\n",
            "      creating build\\lib.win-amd64-cpython-310\\mpl_toolkits\\axes_grid1\n",
            "      copying lib\\mpl_toolkits\\axes_grid1\\anchored_artists.py -> build\\lib.win-amd64-cpython-310\\mpl_toolkits\\axes_grid1\n",
            "      copying lib\\mpl_toolkits\\axes_grid1\\axes_divider.py -> build\\lib.win-amd64-cpython-310\\mpl_toolkits\\axes_grid1\n",
            "      copying lib\\mpl_toolkits\\axes_grid1\\axes_grid.py -> build\\lib.win-amd64-cpython-310\\mpl_toolkits\\axes_grid1\n",
            "      copying lib\\mpl_toolkits\\axes_grid1\\axes_rgb.py -> build\\lib.win-amd64-cpython-310\\mpl_toolkits\\axes_grid1\n",
            "      copying lib\\mpl_toolkits\\axes_grid1\\axes_size.py -> build\\lib.win-amd64-cpython-310\\mpl_toolkits\\axes_grid1\n",
            "      copying lib\\mpl_toolkits\\axes_grid1\\colorbar.py -> build\\lib.win-amd64-cpython-310\\mpl_toolkits\\axes_grid1\n",
            "      copying lib\\mpl_toolkits\\axes_grid1\\inset_locator.py -> build\\lib.win-amd64-cpython-310\\mpl_toolkits\\axes_grid1\n",
            "      copying lib\\mpl_toolkits\\axes_grid1\\mpl_axes.py -> build\\lib.win-amd64-cpython-310\\mpl_toolkits\\axes_grid1\n",
            "      copying lib\\mpl_toolkits\\axes_grid1\\parasite_axes.py -> build\\lib.win-amd64-cpython-310\\mpl_toolkits\\axes_grid1\n",
            "      copying lib\\mpl_toolkits\\axes_grid1\\__init__.py -> build\\lib.win-amd64-cpython-310\\mpl_toolkits\\axes_grid1\n",
            "      creating build\\lib.win-amd64-cpython-310\\mpl_toolkits\\axisartist\n",
            "      copying lib\\mpl_toolkits\\axisartist\\angle_helper.py -> build\\lib.win-amd64-cpython-310\\mpl_toolkits\\axisartist\n",
            "      copying lib\\mpl_toolkits\\axisartist\\axes_divider.py -> build\\lib.win-amd64-cpython-310\\mpl_toolkits\\axisartist\n",
            "      copying lib\\mpl_toolkits\\axisartist\\axes_grid.py -> build\\lib.win-amd64-cpython-310\\mpl_toolkits\\axisartist\n",
            "      copying lib\\mpl_toolkits\\axisartist\\axes_rgb.py -> build\\lib.win-amd64-cpython-310\\mpl_toolkits\\axisartist\n",
            "      copying lib\\mpl_toolkits\\axisartist\\axislines.py -> build\\lib.win-amd64-cpython-310\\mpl_toolkits\\axisartist\n",
            "      copying lib\\mpl_toolkits\\axisartist\\axisline_style.py -> build\\lib.win-amd64-cpython-310\\mpl_toolkits\\axisartist\n",
            "      copying lib\\mpl_toolkits\\axisartist\\axis_artist.py -> build\\lib.win-amd64-cpython-310\\mpl_toolkits\\axisartist\n",
            "      copying lib\\mpl_toolkits\\axisartist\\clip_path.py -> build\\lib.win-amd64-cpython-310\\mpl_toolkits\\axisartist\n",
            "      copying lib\\mpl_toolkits\\axisartist\\floating_axes.py -> build\\lib.win-amd64-cpython-310\\mpl_toolkits\\axisartist\n",
            "      copying lib\\mpl_toolkits\\axisartist\\grid_finder.py -> build\\lib.win-amd64-cpython-310\\mpl_toolkits\\axisartist\n",
            "      copying lib\\mpl_toolkits\\axisartist\\grid_helper_curvelinear.py -> build\\lib.win-amd64-cpython-310\\mpl_toolkits\\axisartist\n",
            "      copying lib\\mpl_toolkits\\axisartist\\parasite_axes.py -> build\\lib.win-amd64-cpython-310\\mpl_toolkits\\axisartist\n",
            "      copying lib\\mpl_toolkits\\axisartist\\__init__.py -> build\\lib.win-amd64-cpython-310\\mpl_toolkits\\axisartist\n",
            "      creating build\\lib.win-amd64-cpython-310\\mpl_toolkits\\mplot3d\n",
            "      copying lib\\mpl_toolkits\\mplot3d\\art3d.py -> build\\lib.win-amd64-cpython-310\\mpl_toolkits\\mplot3d\n",
            "      copying lib\\mpl_toolkits\\mplot3d\\axes3d.py -> build\\lib.win-amd64-cpython-310\\mpl_toolkits\\mplot3d\n",
            "      copying lib\\mpl_toolkits\\mplot3d\\axis3d.py -> build\\lib.win-amd64-cpython-310\\mpl_toolkits\\mplot3d\n",
            "      copying lib\\mpl_toolkits\\mplot3d\\proj3d.py -> build\\lib.win-amd64-cpython-310\\mpl_toolkits\\mplot3d\n",
            "      copying lib\\mpl_toolkits\\mplot3d\\__init__.py -> build\\lib.win-amd64-cpython-310\\mpl_toolkits\\mplot3d\n",
            "      creating build\\lib.win-amd64-cpython-310\\matplotlib\\mpl-data\n",
            "      creating build\\lib.win-amd64-cpython-310\\matplotlib\\mpl-data\\fonts\n",
            "      creating build\\lib.win-amd64-cpython-310\\matplotlib\\mpl-data\\fonts\\pdfcorefonts\n",
            "      copying lib\\matplotlib\\mpl-data\\fonts\\pdfcorefonts\\Helvetica-BoldOblique.afm -> build\\lib.win-amd64-cpython-310\\matplotlib\\mpl-data\\fonts\\pdfcorefonts\n",
            "      creating build\\lib.win-amd64-cpython-310\\matplotlib\\mpl-data\\stylelib\n",
            "      copying lib\\matplotlib\\mpl-data\\stylelib\\seaborn-dark-palette.mplstyle -> build\\lib.win-amd64-cpython-310\\matplotlib\\mpl-data\\stylelib\n",
            "      creating build\\lib.win-amd64-cpython-310\\matplotlib\\mpl-data\\fonts\\afm\n",
            "      copying lib\\matplotlib\\mpl-data\\fonts\\afm\\pbkdi8a.afm -> build\\lib.win-amd64-cpython-310\\matplotlib\\mpl-data\\fonts\\afm\n",
            "      creating build\\lib.win-amd64-cpython-310\\matplotlib\\mpl-data\\images\n",
            "      copying lib\\matplotlib\\mpl-data\\images\\matplotlib.svg -> build\\lib.win-amd64-cpython-310\\matplotlib\\mpl-data\\images\n",
            "      copying lib\\matplotlib\\mpl-data\\fonts\\afm\\psyr.afm -> build\\lib.win-amd64-cpython-310\\matplotlib\\mpl-data\\fonts\\afm\n",
            "      copying lib\\matplotlib\\mpl-data\\images\\forward.svg -> build\\lib.win-amd64-cpython-310\\matplotlib\\mpl-data\\images\n",
            "      creating build\\lib.win-amd64-cpython-310\\matplotlib\\mpl-data\\fonts\\ttf\n",
            "      copying lib\\matplotlib\\mpl-data\\fonts\\ttf\\STIXGeneralItalic.ttf -> build\\lib.win-amd64-cpython-310\\matplotlib\\mpl-data\\fonts\\ttf\n",
            "      copying lib\\matplotlib\\mpl-data\\fonts\\afm\\pplbi8a.afm -> build\\lib.win-amd64-cpython-310\\matplotlib\\mpl-data\\fonts\\afm\n",
            "      creating build\\lib.win-amd64-cpython-310\\matplotlib\\backends\\web_backend\n",
            "      creating build\\lib.win-amd64-cpython-310\\matplotlib\\backends\\web_backend\\js\n",
            "      copying lib\\matplotlib\\backends\\web_backend\\js\\nbagg_mpl.js -> build\\lib.win-amd64-cpython-310\\matplotlib\\backends\\web_backend\\js\n",
            "      copying lib\\matplotlib\\mpl-data\\fonts\\afm\\phvbo8a.afm -> build\\lib.win-amd64-cpython-310\\matplotlib\\mpl-data\\fonts\\afm\n",
            "      copying lib\\matplotlib\\mpl-data\\images\\home_large.gif -> build\\lib.win-amd64-cpython-310\\matplotlib\\mpl-data\\images\n",
            "      copying lib\\matplotlib\\mpl-data\\images\\filesave.gif -> build\\lib.win-amd64-cpython-310\\matplotlib\\mpl-data\\images\n",
            "      copying lib\\matplotlib\\mpl-data\\fonts\\afm\\pplb8a.afm -> build\\lib.win-amd64-cpython-310\\matplotlib\\mpl-data\\fonts\\afm\n",
            "      copying lib\\matplotlib\\mpl-data\\fonts\\pdfcorefonts\\Helvetica-Oblique.afm -> build\\lib.win-amd64-cpython-310\\matplotlib\\mpl-data\\fonts\\pdfcorefonts\n",
            "      copying lib\\matplotlib\\mpl-data\\images\\qt4_editor_options.pdf -> build\\lib.win-amd64-cpython-310\\matplotlib\\mpl-data\\images\n",
            "      copying lib\\matplotlib\\mpl-data\\images\\zoom_to_rect.svg -> build\\lib.win-amd64-cpython-310\\matplotlib\\mpl-data\\images\n",
            "      copying lib\\matplotlib\\mpl-data\\stylelib\\seaborn-deep.mplstyle -> build\\lib.win-amd64-cpython-310\\matplotlib\\mpl-data\\stylelib\n",
            "      copying lib\\matplotlib\\mpl-data\\images\\help.png -> build\\lib.win-amd64-cpython-310\\matplotlib\\mpl-data\\images\n",
            "      copying lib\\matplotlib\\mpl-data\\stylelib\\seaborn-pastel.mplstyle -> build\\lib.win-amd64-cpython-310\\matplotlib\\mpl-data\\stylelib\n",
            "      copying lib\\matplotlib\\mpl-data\\fonts\\afm\\phvb8a.afm -> build\\lib.win-amd64-cpython-310\\matplotlib\\mpl-data\\fonts\\afm\n",
            "      creating build\\lib.win-amd64-cpython-310\\matplotlib\\mpl-data\\sample_data\n",
            "      copying lib\\matplotlib\\mpl-data\\sample_data\\logo2.png -> build\\lib.win-amd64-cpython-310\\matplotlib\\mpl-data\\sample_data\n",
            "      creating build\\lib.win-amd64-cpython-310\\matplotlib\\backends\\web_backend\\jquery-ui-1.12.1\n",
            "      copying lib\\matplotlib\\backends\\web_backend\\jquery-ui-1.12.1\\jquery-ui.css -> build\\lib.win-amd64-cpython-310\\matplotlib\\backends\\web_backend\\jquery-ui-1.12.1\n",
            "      copying lib\\matplotlib\\mpl-data\\images\\back_large.gif -> build\\lib.win-amd64-cpython-310\\matplotlib\\mpl-data\\images\n",
            "      copying lib\\matplotlib\\mpl-data\\images\\subplots.png -> build\\lib.win-amd64-cpython-310\\matplotlib\\mpl-data\\images\n",
            "      copying lib\\matplotlib\\mpl-data\\images\\home.png -> build\\lib.win-amd64-cpython-310\\matplotlib\\mpl-data\\images\n",
            "      copying lib\\matplotlib\\mpl-data\\images\\subplots_large.gif -> build\\lib.win-amd64-cpython-310\\matplotlib\\mpl-data\\images\n",
            "      copying lib\\matplotlib\\mpl-data\\images\\zoom_to_rect.gif -> build\\lib.win-amd64-cpython-310\\matplotlib\\mpl-data\\images\n",
            "      copying lib\\matplotlib\\mpl-data\\images\\help_large.ppm -> build\\lib.win-amd64-cpython-310\\matplotlib\\mpl-data\\images\n",
            "      copying lib\\matplotlib\\mpl-data\\fonts\\pdfcorefonts\\Courier-Bold.afm -> build\\lib.win-amd64-cpython-310\\matplotlib\\mpl-data\\fonts\\pdfcorefonts\n",
            "      copying lib\\matplotlib\\mpl-data\\fonts\\ttf\\STIXSizFourSymReg.ttf -> build\\lib.win-amd64-cpython-310\\matplotlib\\mpl-data\\fonts\\ttf\n",
            "      copying lib\\matplotlib\\backends\\web_backend\\jquery-ui-1.12.1\\index.html -> build\\lib.win-amd64-cpython-310\\matplotlib\\backends\\web_backend\\jquery-ui-1.12.1\n",
            "      copying lib\\matplotlib\\mpl-data\\fonts\\afm\\pplri8a.afm -> build\\lib.win-amd64-cpython-310\\matplotlib\\mpl-data\\fonts\\afm\n",
            "      copying lib\\matplotlib\\mpl-data\\images\\home_large.png -> build\\lib.win-amd64-cpython-310\\matplotlib\\mpl-data\\images\n",
            "      copying lib\\matplotlib\\mpl-data\\stylelib\\seaborn-paper.mplstyle -> build\\lib.win-amd64-cpython-310\\matplotlib\\mpl-data\\stylelib\n",
            "      copying lib\\matplotlib\\mpl-data\\fonts\\afm\\putr8a.afm -> build\\lib.win-amd64-cpython-310\\matplotlib\\mpl-data\\fonts\\afm\n",
            "      copying lib\\matplotlib\\mpl-data\\stylelib\\_classic_test.mplstyle -> build\\lib.win-amd64-cpython-310\\matplotlib\\mpl-data\\stylelib\n",
            "      copying lib\\matplotlib\\backends\\web_backend\\jquery-ui-1.12.1\\AUTHORS.txt -> build\\lib.win-amd64-cpython-310\\matplotlib\\backends\\web_backend\\jquery-ui-1.12.1\n",
            "      copying lib\\matplotlib\\mpl-data\\images\\qt4_editor_options.svg -> build\\lib.win-amd64-cpython-310\\matplotlib\\mpl-data\\images\n",
            "      creating build\\lib.win-amd64-cpython-310\\matplotlib\\backends\\web_backend\\css\n",
            "      copying lib\\matplotlib\\backends\\web_backend\\css\\boilerplate.css -> build\\lib.win-amd64-cpython-310\\matplotlib\\backends\\web_backend\\css\n",
            "      copying lib\\matplotlib\\mpl-data\\sample_data\\ct.raw.gz -> build\\lib.win-amd64-cpython-310\\matplotlib\\mpl-data\\sample_data\n",
            "      creating build\\lib.win-amd64-cpython-310\\matplotlib\\backends\\web_backend\\jquery-ui-1.12.1\\images\n",
            "      copying lib\\matplotlib\\backends\\web_backend\\jquery-ui-1.12.1\\images\\ui-icons_777777_256x240.png -> build\\lib.win-amd64-cpython-310\\matplotlib\\backends\\web_backend\\jquery-ui-1.12.1\\images\n",
            "      copying lib\\matplotlib\\mpl-data\\fonts\\pdfcorefonts\\Times-Roman.afm -> build\\lib.win-amd64-cpython-310\\matplotlib\\mpl-data\\fonts\\pdfcorefonts\n",
            "      copying lib\\matplotlib\\mpl-data\\images\\matplotlib_large.png -> build\\lib.win-amd64-cpython-310\\matplotlib\\mpl-data\\images\n",
            "      copying lib\\matplotlib\\mpl-data\\fonts\\pdfcorefonts\\readme.txt -> build\\lib.win-amd64-cpython-310\\matplotlib\\mpl-data\\fonts\\pdfcorefonts\n",
            "      copying lib\\matplotlib\\mpl-data\\stylelib\\seaborn-notebook.mplstyle -> build\\lib.win-amd64-cpython-310\\matplotlib\\mpl-data\\stylelib\n",
            "      copying lib\\matplotlib\\mpl-data\\fonts\\afm\\cmtt10.afm -> build\\lib.win-amd64-cpython-310\\matplotlib\\mpl-data\\fonts\\afm\n",
            "      copying lib\\matplotlib\\mpl-data\\fonts\\afm\\pplr8a.afm -> build\\lib.win-amd64-cpython-310\\matplotlib\\mpl-data\\fonts\\afm\n",
            "      copying lib\\matplotlib\\mpl-data\\fonts\\ttf\\DejaVuSerif-Bold.ttf -> build\\lib.win-amd64-cpython-310\\matplotlib\\mpl-data\\fonts\\ttf\n",
            "      copying lib\\matplotlib\\mpl-data\\fonts\\pdfcorefonts\\Times-BoldItalic.afm -> build\\lib.win-amd64-cpython-310\\matplotlib\\mpl-data\\fonts\\pdfcorefonts\n",
            "      copying lib\\matplotlib\\mpl-data\\fonts\\pdfcorefonts\\Courier.afm -> build\\lib.win-amd64-cpython-310\\matplotlib\\mpl-data\\fonts\\pdfcorefonts\n",
            "      copying lib\\matplotlib\\mpl-data\\fonts\\ttf\\STIXSizOneSymBol.ttf -> build\\lib.win-amd64-cpython-310\\matplotlib\\mpl-data\\fonts\\ttf\n",
            "      copying lib\\matplotlib\\mpl-data\\fonts\\ttf\\STIXNonUniBolIta.ttf -> build\\lib.win-amd64-cpython-310\\matplotlib\\mpl-data\\fonts\\ttf\n",
            "      copying lib\\matplotlib\\backends\\web_backend\\jquery-ui-1.12.1\\jquery-ui.structure.min.css -> build\\lib.win-amd64-cpython-310\\matplotlib\\backends\\web_backend\\jquery-ui-1.12.1\n",
            "      copying lib\\matplotlib\\mpl-data\\images\\filesave_large.gif -> build\\lib.win-amd64-cpython-310\\matplotlib\\mpl-data\\images\n",
            "      copying lib\\matplotlib\\mpl-data\\stylelib\\seaborn-white.mplstyle -> build\\lib.win-amd64-cpython-310\\matplotlib\\mpl-data\\stylelib\n",
            "      copying lib\\matplotlib\\mpl-data\\stylelib\\seaborn.mplstyle -> build\\lib.win-amd64-cpython-310\\matplotlib\\mpl-data\\stylelib\n",
            "      copying lib\\matplotlib\\mpl-data\\fonts\\afm\\pbkd8a.afm -> build\\lib.win-amd64-cpython-310\\matplotlib\\mpl-data\\fonts\\afm\n",
            "      copying lib\\matplotlib\\backends\\web_backend\\jquery-ui-1.12.1\\package.json -> build\\lib.win-amd64-cpython-310\\matplotlib\\backends\\web_backend\\jquery-ui-1.12.1\n",
            "      copying lib\\matplotlib\\mpl-data\\stylelib\\fivethirtyeight.mplstyle -> build\\lib.win-amd64-cpython-310\\matplotlib\\mpl-data\\stylelib\n",
            "      copying lib\\matplotlib\\mpl-data\\fonts\\afm\\pcrbo8a.afm -> build\\lib.win-amd64-cpython-310\\matplotlib\\mpl-data\\fonts\\afm\n",
            "      copying lib\\matplotlib\\backends\\web_backend\\js\\mpl_tornado.js -> build\\lib.win-amd64-cpython-310\\matplotlib\\backends\\web_backend\\js\n",
            "      copying lib\\matplotlib\\mpl-data\\fonts\\ttf\\STIXNonUni.ttf -> build\\lib.win-amd64-cpython-310\\matplotlib\\mpl-data\\fonts\\ttf\n",
            "      copying lib\\matplotlib\\mpl-data\\fonts\\ttf\\cmsy10.ttf -> build\\lib.win-amd64-cpython-310\\matplotlib\\mpl-data\\fonts\\ttf\n",
            "      copying lib\\matplotlib\\backends\\web_backend\\jquery-ui-1.12.1\\jquery-ui.js -> build\\lib.win-amd64-cpython-310\\matplotlib\\backends\\web_backend\\jquery-ui-1.12.1\n",
            "      copying lib\\matplotlib\\mpl-data\\images\\help.ppm -> build\\lib.win-amd64-cpython-310\\matplotlib\\mpl-data\\images\n",
            "      copying lib\\matplotlib\\backends\\web_backend\\js\\mpl.js -> build\\lib.win-amd64-cpython-310\\matplotlib\\backends\\web_backend\\js\n",
            "      copying lib\\matplotlib\\mpl-data\\sample_data\\grace_hopper.jpg -> build\\lib.win-amd64-cpython-310\\matplotlib\\mpl-data\\sample_data\n",
            "      copying lib\\matplotlib\\mpl-data\\fonts\\afm\\pagd8a.afm -> build\\lib.win-amd64-cpython-310\\matplotlib\\mpl-data\\fonts\\afm\n",
            "      copying lib\\matplotlib\\mpl-data\\images\\move.svg -> build\\lib.win-amd64-cpython-310\\matplotlib\\mpl-data\\images\n",
            "      copying lib\\matplotlib\\mpl-data\\images\\move.png -> build\\lib.win-amd64-cpython-310\\matplotlib\\mpl-data\\images\n",
            "      copying lib\\matplotlib\\mpl-data\\fonts\\afm\\cmex10.afm -> build\\lib.win-amd64-cpython-310\\matplotlib\\mpl-data\\fonts\\afm\n",
            "      copying lib\\matplotlib\\mpl-data\\images\\hand.gif -> build\\lib.win-amd64-cpython-310\\matplotlib\\mpl-data\\images\n",
            "      copying lib\\matplotlib\\mpl-data\\fonts\\afm\\pbkli8a.afm -> build\\lib.win-amd64-cpython-310\\matplotlib\\mpl-data\\fonts\\afm\n",
            "      copying lib\\matplotlib\\mpl-data\\sample_data\\demodata.csv -> build\\lib.win-amd64-cpython-310\\matplotlib\\mpl-data\\sample_data\n",
            "      copying lib\\matplotlib\\mpl-data\\fonts\\afm\\putbi8a.afm -> build\\lib.win-amd64-cpython-310\\matplotlib\\mpl-data\\fonts\\afm\n",
            "      copying lib\\matplotlib\\mpl-data\\fonts\\afm\\pcrb8a.afm -> build\\lib.win-amd64-cpython-310\\matplotlib\\mpl-data\\fonts\\afm\n",
            "      copying lib\\matplotlib\\mpl-data\\fonts\\afm\\pzcmi8a.afm -> build\\lib.win-amd64-cpython-310\\matplotlib\\mpl-data\\fonts\\afm\n",
            "      copying lib\\matplotlib\\mpl-data\\fonts\\afm\\phvl8a.afm -> build\\lib.win-amd64-cpython-310\\matplotlib\\mpl-data\\fonts\\afm\n",
            "      copying lib\\matplotlib\\mpl-data\\images\\back.pdf -> build\\lib.win-amd64-cpython-310\\matplotlib\\mpl-data\\images\n",
            "      copying lib\\matplotlib\\mpl-data\\images\\home.pdf -> build\\lib.win-amd64-cpython-310\\matplotlib\\mpl-data\\images\n",
            "      copying lib\\matplotlib\\mpl-data\\sample_data\\grace_hopper.png -> build\\lib.win-amd64-cpython-310\\matplotlib\\mpl-data\\sample_data\n",
            "      copying lib\\matplotlib\\mpl-data\\sample_data\\s1045.ima.gz -> build\\lib.win-amd64-cpython-310\\matplotlib\\mpl-data\\sample_data\n",
            "      copying lib\\matplotlib\\mpl-data\\fonts\\afm\\ptmbi8a.afm -> build\\lib.win-amd64-cpython-310\\matplotlib\\mpl-data\\fonts\\afm\n",
            "      copying lib\\matplotlib\\mpl-data\\fonts\\ttf\\DejaVuSansMono-BoldOblique.ttf -> build\\lib.win-amd64-cpython-310\\matplotlib\\mpl-data\\fonts\\ttf\n",
            "      copying lib\\matplotlib\\mpl-data\\fonts\\ttf\\DejaVuSans-Oblique.ttf -> build\\lib.win-amd64-cpython-310\\matplotlib\\mpl-data\\fonts\\ttf\n",
            "      copying lib\\matplotlib\\mpl-data\\stylelib\\seaborn-dark.mplstyle -> build\\lib.win-amd64-cpython-310\\matplotlib\\mpl-data\\stylelib\n",
            "      copying lib\\matplotlib\\mpl-data\\sample_data\\jacksboro_fault_dem.npz -> build\\lib.win-amd64-cpython-310\\matplotlib\\mpl-data\\sample_data\n",
            "      creating build\\lib.win-amd64-cpython-310\\matplotlib\\backends\\web_backend\\jquery\n",
            "      creating build\\lib.win-amd64-cpython-310\\matplotlib\\backends\\web_backend\\jquery\\js\n",
            "      copying lib\\matplotlib\\backends\\web_backend\\jquery\\js\\jquery.min.js -> build\\lib.win-amd64-cpython-310\\matplotlib\\backends\\web_backend\\jquery\\js\n",
            "      copying lib\\matplotlib\\backends\\web_backend\\jquery-ui-1.12.1\\images\\ui-icons_ffffff_256x240.png -> build\\lib.win-amd64-cpython-310\\matplotlib\\backends\\web_backend\\jquery-ui-1.12.1\\images\n",
            "      copying lib\\matplotlib\\mpl-data\\fonts\\ttf\\DejaVuSerif-BoldItalic.ttf -> build\\lib.win-amd64-cpython-310\\matplotlib\\mpl-data\\fonts\\ttf\n",
            "      copying lib\\matplotlib\\mpl-data\\fonts\\ttf\\cmmi10.ttf -> build\\lib.win-amd64-cpython-310\\matplotlib\\mpl-data\\fonts\\ttf\n",
            "      copying lib\\matplotlib\\mpl-data\\images\\subplots.gif -> build\\lib.win-amd64-cpython-310\\matplotlib\\mpl-data\\images\n",
            "      copying lib\\matplotlib\\mpl-data\\fonts\\ttf\\STIXSizOneSymReg.ttf -> build\\lib.win-amd64-cpython-310\\matplotlib\\mpl-data\\fonts\\ttf\n",
            "      copying lib\\matplotlib\\mpl-data\\images\\forward.gif -> build\\lib.win-amd64-cpython-310\\matplotlib\\mpl-data\\images\n",
            "      copying lib\\matplotlib\\mpl-data\\fonts\\ttf\\LICENSE_DEJAVU -> build\\lib.win-amd64-cpython-310\\matplotlib\\mpl-data\\fonts\\ttf\n",
            "      copying lib\\matplotlib\\mpl-data\\fonts\\afm\\pbkl8a.afm -> build\\lib.win-amd64-cpython-310\\matplotlib\\mpl-data\\fonts\\afm\n",
            "      copying lib\\matplotlib\\mpl-data\\images\\back.gif -> build\\lib.win-amd64-cpython-310\\matplotlib\\mpl-data\\images\n",
            "      copying lib\\matplotlib\\mpl-data\\sample_data\\aapl.npz -> build\\lib.win-amd64-cpython-310\\matplotlib\\mpl-data\\sample_data\n",
            "      copying lib\\matplotlib\\mpl-data\\fonts\\afm\\putb8a.afm -> build\\lib.win-amd64-cpython-310\\matplotlib\\mpl-data\\fonts\\afm\n",
            "      copying lib\\matplotlib\\mpl-data\\fonts\\afm\\pagk8a.afm -> build\\lib.win-amd64-cpython-310\\matplotlib\\mpl-data\\fonts\\afm\n",
            "      copying lib\\matplotlib\\mpl-data\\images\\matplotlib.png -> build\\lib.win-amd64-cpython-310\\matplotlib\\mpl-data\\images\n",
            "      copying lib\\matplotlib\\mpl-data\\stylelib\\seaborn-whitegrid.mplstyle -> build\\lib.win-amd64-cpython-310\\matplotlib\\mpl-data\\stylelib\n",
            "      copying lib\\matplotlib\\mpl-data\\images\\move_large.gif -> build\\lib.win-amd64-cpython-310\\matplotlib\\mpl-data\\images\n",
            "      copying lib\\matplotlib\\mpl-data\\fonts\\pdfcorefonts\\Courier-Oblique.afm -> build\\lib.win-amd64-cpython-310\\matplotlib\\mpl-data\\fonts\\pdfcorefonts\n",
            "      copying lib\\matplotlib\\mpl-data\\fonts\\ttf\\cmr10.ttf -> build\\lib.win-amd64-cpython-310\\matplotlib\\mpl-data\\fonts\\ttf\n",
            "      copying lib\\matplotlib\\mpl-data\\fonts\\afm\\phvlo8a.afm -> build\\lib.win-amd64-cpython-310\\matplotlib\\mpl-data\\fonts\\afm\n",
            "      copying lib\\matplotlib\\mpl-data\\fonts\\afm\\pncri8a.afm -> build\\lib.win-amd64-cpython-310\\matplotlib\\mpl-data\\fonts\\afm\n",
            "      copying lib\\matplotlib\\mpl-data\\fonts\\ttf\\cmss10.ttf -> build\\lib.win-amd64-cpython-310\\matplotlib\\mpl-data\\fonts\\ttf\n",
            "      copying lib\\matplotlib\\mpl-data\\images\\matplotlib.ppm -> build\\lib.win-amd64-cpython-310\\matplotlib\\mpl-data\\images\n",
            "      copying lib\\matplotlib\\backends\\web_backend\\css\\fbm.css -> build\\lib.win-amd64-cpython-310\\matplotlib\\backends\\web_backend\\css\n",
            "      copying lib\\matplotlib\\mpl-data\\images\\hand.png -> build\\lib.win-amd64-cpython-310\\matplotlib\\mpl-data\\images\n",
            "      copying lib\\matplotlib\\mpl-data\\images\\home.svg -> build\\lib.win-amd64-cpython-310\\matplotlib\\mpl-data\\images\n",
            "      copying lib\\matplotlib\\backends\\web_backend\\jquery-ui-1.12.1\\images\\ui-icons_444444_256x240.png -> build\\lib.win-amd64-cpython-310\\matplotlib\\backends\\web_backend\\jquery-ui-1.12.1\\images\n",
            "      copying lib\\matplotlib\\backends\\web_backend\\jquery-ui-1.12.1\\images\\ui-icons_cc0000_256x240.png -> build\\lib.win-amd64-cpython-310\\matplotlib\\backends\\web_backend\\jquery-ui-1.12.1\\images\n",
            "      copying lib\\matplotlib\\backends\\web_backend\\jquery-ui-1.12.1\\jquery-ui.min.css -> build\\lib.win-amd64-cpython-310\\matplotlib\\backends\\web_backend\\jquery-ui-1.12.1\n",
            "      copying lib\\matplotlib\\mpl-data\\fonts\\ttf\\cmex10.ttf -> build\\lib.win-amd64-cpython-310\\matplotlib\\mpl-data\\fonts\\ttf\n",
            "      copying lib\\matplotlib\\mpl-data\\stylelib\\seaborn-talk.mplstyle -> build\\lib.win-amd64-cpython-310\\matplotlib\\mpl-data\\stylelib\n",
            "      copying lib\\matplotlib\\mpl-data\\images\\subplots_large.png -> build\\lib.win-amd64-cpython-310\\matplotlib\\mpl-data\\images\n",
            "      copying lib\\matplotlib\\mpl-data\\stylelib\\seaborn-poster.mplstyle -> build\\lib.win-amd64-cpython-310\\matplotlib\\mpl-data\\stylelib\n",
            "      copying lib\\matplotlib\\mpl-data\\sample_data\\percent_bachelors_degrees_women_usa.csv -> build\\lib.win-amd64-cpython-310\\matplotlib\\mpl-data\\sample_data\n",
            "      copying lib\\matplotlib\\mpl-data\\fonts\\afm\\pcrr8a.afm -> build\\lib.win-amd64-cpython-310\\matplotlib\\mpl-data\\fonts\\afm\n",
            "      copying lib\\matplotlib\\backends\\web_backend\\jquery-ui-1.12.1\\jquery-ui.min.js -> build\\lib.win-amd64-cpython-310\\matplotlib\\backends\\web_backend\\jquery-ui-1.12.1\n",
            "      copying lib\\matplotlib\\backends\\web_backend\\jquery-ui-1.12.1\\jquery-ui.structure.css -> build\\lib.win-amd64-cpython-310\\matplotlib\\backends\\web_backend\\jquery-ui-1.12.1\n",
            "      copying lib\\matplotlib\\mpl-data\\fonts\\afm\\cmr10.afm -> build\\lib.win-amd64-cpython-310\\matplotlib\\mpl-data\\fonts\\afm\n",
            "      copying lib\\matplotlib\\mpl-data\\images\\help.svg -> build\\lib.win-amd64-cpython-310\\matplotlib\\mpl-data\\images\n",
            "      copying lib\\matplotlib\\mpl-data\\stylelib\\tableau-colorblind10.mplstyle -> build\\lib.win-amd64-cpython-310\\matplotlib\\mpl-data\\stylelib\n",
            "      copying lib\\matplotlib\\backends\\web_backend\\jquery-ui-1.12.1\\jquery-ui.theme.min.css -> build\\lib.win-amd64-cpython-310\\matplotlib\\backends\\web_backend\\jquery-ui-1.12.1\n",
            "      copying lib\\matplotlib\\mpl-data\\images\\subplots.pdf -> build\\lib.win-amd64-cpython-310\\matplotlib\\mpl-data\\images\n",
            "      copying lib\\matplotlib\\mpl-data\\fonts\\pdfcorefonts\\Helvetica.afm -> build\\lib.win-amd64-cpython-310\\matplotlib\\mpl-data\\fonts\\pdfcorefonts\n",
            "      copying lib\\matplotlib\\mpl-data\\sample_data\\msft.csv -> build\\lib.win-amd64-cpython-310\\matplotlib\\mpl-data\\sample_data\n",
            "      copying lib\\matplotlib\\mpl-data\\fonts\\ttf\\STIXSizTwoSymBol.ttf -> build\\lib.win-amd64-cpython-310\\matplotlib\\mpl-data\\fonts\\ttf\n",
            "      copying lib\\matplotlib\\mpl-data\\fonts\\pdfcorefonts\\Symbol.afm -> build\\lib.win-amd64-cpython-310\\matplotlib\\mpl-data\\fonts\\pdfcorefonts\n",
            "      copying lib\\matplotlib\\mpl-data\\images\\zoom_to_rect_large.png -> build\\lib.win-amd64-cpython-310\\matplotlib\\mpl-data\\images\n",
            "      copying lib\\matplotlib\\mpl-data\\stylelib\\seaborn-darkgrid.mplstyle -> build\\lib.win-amd64-cpython-310\\matplotlib\\mpl-data\\stylelib\n",
            "      copying lib\\matplotlib\\mpl-data\\stylelib\\Solarize_Light2.mplstyle -> build\\lib.win-amd64-cpython-310\\matplotlib\\mpl-data\\stylelib\n",
            "      copying lib\\matplotlib\\backends\\web_backend\\nbagg_uat.ipynb -> build\\lib.win-amd64-cpython-310\\matplotlib\\backends\\web_backend\n",
            "      copying lib\\matplotlib\\mpl-data\\fonts\\ttf\\cmb10.ttf -> build\\lib.win-amd64-cpython-310\\matplotlib\\mpl-data\\fonts\\ttf\n",
            "      copying lib\\matplotlib\\mpl-data\\images\\hand.pdf -> build\\lib.win-amd64-cpython-310\\matplotlib\\mpl-data\\images\n",
            "      copying lib\\matplotlib\\mpl-data\\images\\help_large.png -> build\\lib.win-amd64-cpython-310\\matplotlib\\mpl-data\\images\n",
            "      copying lib\\matplotlib\\mpl-data\\images\\filesave.png -> build\\lib.win-amd64-cpython-310\\matplotlib\\mpl-data\\images\n",
            "      copying lib\\matplotlib\\mpl-data\\images\\move.pdf -> build\\lib.win-amd64-cpython-310\\matplotlib\\mpl-data\\images\n",
            "      copying lib\\matplotlib\\mpl-data\\fonts\\ttf\\STIXSizTwoSymReg.ttf -> build\\lib.win-amd64-cpython-310\\matplotlib\\mpl-data\\fonts\\ttf\n",
            "      copying lib\\matplotlib\\mpl-data\\fonts\\ttf\\STIXNonUniIta.ttf -> build\\lib.win-amd64-cpython-310\\matplotlib\\mpl-data\\fonts\\ttf\n",
            "      copying lib\\matplotlib\\mpl-data\\sample_data\\membrane.dat -> build\\lib.win-amd64-cpython-310\\matplotlib\\mpl-data\\sample_data\n",
            "      copying lib\\matplotlib\\mpl-data\\sample_data\\goog.npz -> build\\lib.win-amd64-cpython-310\\matplotlib\\mpl-data\\sample_data\n",
            "      copying lib\\matplotlib\\mpl-data\\matplotlibrc -> build\\lib.win-amd64-cpython-310\\matplotlib\\mpl-data\n",
            "      copying lib\\matplotlib\\mpl-data\\fonts\\ttf\\DejaVuSansMono-Bold.ttf -> build\\lib.win-amd64-cpython-310\\matplotlib\\mpl-data\\fonts\\ttf\n",
            "      copying lib\\matplotlib\\mpl-data\\stylelib\\seaborn-bright.mplstyle -> build\\lib.win-amd64-cpython-310\\matplotlib\\mpl-data\\stylelib\n",
            "      copying lib\\matplotlib\\mpl-data\\fonts\\ttf\\DejaVuSansMono-Oblique.ttf -> build\\lib.win-amd64-cpython-310\\matplotlib\\mpl-data\\fonts\\ttf\n",
            "      copying lib\\matplotlib\\mpl-data\\sample_data\\topobathy.npz -> build\\lib.win-amd64-cpython-310\\matplotlib\\mpl-data\\sample_data\n",
            "      copying lib\\matplotlib\\mpl-data\\images\\zoom_to_rect.pdf -> build\\lib.win-amd64-cpython-310\\matplotlib\\mpl-data\\images\n",
            "      copying lib\\matplotlib\\mpl-data\\fonts\\afm\\pagdo8a.afm -> build\\lib.win-amd64-cpython-310\\matplotlib\\mpl-data\\fonts\\afm\n",
            "      copying lib\\matplotlib\\mpl-data\\fonts\\afm\\pzdr.afm -> build\\lib.win-amd64-cpython-310\\matplotlib\\mpl-data\\fonts\\afm\n",
            "      copying lib\\matplotlib\\mpl-data\\images\\zoom_to_rect_large.gif -> build\\lib.win-amd64-cpython-310\\matplotlib\\mpl-data\\images\n",
            "      copying lib\\matplotlib\\mpl-data\\fonts\\ttf\\DejaVuSerifDisplay.ttf -> build\\lib.win-amd64-cpython-310\\matplotlib\\mpl-data\\fonts\\ttf\n",
            "      copying lib\\matplotlib\\mpl-data\\images\\back_large.png -> build\\lib.win-amd64-cpython-310\\matplotlib\\mpl-data\\images\n",
            "      copying lib\\matplotlib\\mpl-data\\fonts\\afm\\cmmi10.afm -> build\\lib.win-amd64-cpython-310\\matplotlib\\mpl-data\\fonts\\afm\n",
            "      copying lib\\matplotlib\\mpl-data\\fonts\\afm\\ptmb8a.afm -> build\\lib.win-amd64-cpython-310\\matplotlib\\mpl-data\\fonts\\afm\n",
            "      copying lib\\matplotlib\\mpl-data\\fonts\\ttf\\DejaVuSansMono.ttf -> build\\lib.win-amd64-cpython-310\\matplotlib\\mpl-data\\fonts\\ttf\n",
            "      copying lib\\matplotlib\\mpl-data\\images\\move.gif -> build\\lib.win-amd64-cpython-310\\matplotlib\\mpl-data\\images\n",
            "      copying lib\\matplotlib\\mpl-data\\fonts\\afm\\putri8a.afm -> build\\lib.win-amd64-cpython-310\\matplotlib\\mpl-data\\fonts\\afm\n",
            "      copying lib\\matplotlib\\mpl-data\\fonts\\afm\\ptmri8a.afm -> build\\lib.win-amd64-cpython-310\\matplotlib\\mpl-data\\fonts\\afm\n",
            "      copying lib\\matplotlib\\mpl-data\\fonts\\ttf\\STIXSizThreeSymReg.ttf -> build\\lib.win-amd64-cpython-310\\matplotlib\\mpl-data\\fonts\\ttf\n",
            "      copying lib\\matplotlib\\mpl-data\\sample_data\\Minduka_Present_Blue_Pack.png -> build\\lib.win-amd64-cpython-310\\matplotlib\\mpl-data\\sample_data\n",
            "      copying lib\\matplotlib\\mpl-data\\images\\subplots.svg -> build\\lib.win-amd64-cpython-310\\matplotlib\\mpl-data\\images\n",
            "      copying lib\\matplotlib\\mpl-data\\fonts\\afm\\pagko8a.afm -> build\\lib.win-amd64-cpython-310\\matplotlib\\mpl-data\\fonts\\afm\n",
            "      copying lib\\matplotlib\\mpl-data\\fonts\\afm\\pncbi8a.afm -> build\\lib.win-amd64-cpython-310\\matplotlib\\mpl-data\\fonts\\afm\n",
            "      copying lib\\matplotlib\\mpl-data\\images\\move_large.png -> build\\lib.win-amd64-cpython-310\\matplotlib\\mpl-data\\images\n",
            "      copying lib\\matplotlib\\mpl-data\\images\\forward.png -> build\\lib.win-amd64-cpython-310\\matplotlib\\mpl-data\\images\n",
            "      copying lib\\matplotlib\\mpl-data\\stylelib\\bmh.mplstyle -> build\\lib.win-amd64-cpython-310\\matplotlib\\mpl-data\\stylelib\n",
            "      copying lib\\matplotlib\\mpl-data\\images\\home.gif -> build\\lib.win-amd64-cpython-310\\matplotlib\\mpl-data\\images\n",
            "      copying lib\\matplotlib\\backends\\web_backend\\jquery-ui-1.12.1\\images\\ui-icons_555555_256x240.png -> build\\lib.win-amd64-cpython-310\\matplotlib\\backends\\web_backend\\jquery-ui-1.12.1\\images\n",
            "      copying lib\\matplotlib\\mpl-data\\fonts\\pdfcorefonts\\Times-Italic.afm -> build\\lib.win-amd64-cpython-310\\matplotlib\\mpl-data\\fonts\\pdfcorefonts\n",
            "      copying lib\\matplotlib\\backends\\web_backend\\jquery-ui-1.12.1\\jquery-ui.theme.css -> build\\lib.win-amd64-cpython-310\\matplotlib\\backends\\web_backend\\jquery-ui-1.12.1\n",
            "      copying lib\\matplotlib\\mpl-data\\fonts\\ttf\\LICENSE_STIX -> build\\lib.win-amd64-cpython-310\\matplotlib\\mpl-data\\fonts\\ttf\n",
            "      copying lib\\matplotlib\\mpl-data\\fonts\\afm\\phvr8an.afm -> build\\lib.win-amd64-cpython-310\\matplotlib\\mpl-data\\fonts\\afm\n",
            "      copying lib\\matplotlib\\mpl-data\\fonts\\afm\\phvro8an.afm -> build\\lib.win-amd64-cpython-310\\matplotlib\\mpl-data\\fonts\\afm\n",
            "      copying lib\\matplotlib\\mpl-data\\fonts\\ttf\\DejaVuSans.ttf -> build\\lib.win-amd64-cpython-310\\matplotlib\\mpl-data\\fonts\\ttf\n",
            "      copying lib\\matplotlib\\mpl-data\\fonts\\pdfcorefonts\\ZapfDingbats.afm -> build\\lib.win-amd64-cpython-310\\matplotlib\\mpl-data\\fonts\\pdfcorefonts\n",
            "      copying lib\\matplotlib\\mpl-data\\stylelib\\seaborn-muted.mplstyle -> build\\lib.win-amd64-cpython-310\\matplotlib\\mpl-data\\stylelib\n",
            "      copying lib\\matplotlib\\mpl-data\\fonts\\ttf\\cmtt10.ttf -> build\\lib.win-amd64-cpython-310\\matplotlib\\mpl-data\\fonts\\ttf\n",
            "      copying lib\\matplotlib\\mpl-data\\fonts\\pdfcorefonts\\Courier-BoldOblique.afm -> build\\lib.win-amd64-cpython-310\\matplotlib\\mpl-data\\fonts\\pdfcorefonts\n",
            "      copying lib\\matplotlib\\mpl-data\\images\\qt4_editor_options_large.png -> build\\lib.win-amd64-cpython-310\\matplotlib\\mpl-data\\images\n",
            "      copying lib\\matplotlib\\mpl-data\\fonts\\ttf\\STIXGeneral.ttf -> build\\lib.win-amd64-cpython-310\\matplotlib\\mpl-data\\fonts\\ttf\n",
            "      copying lib\\matplotlib\\mpl-data\\stylelib\\seaborn-ticks.mplstyle -> build\\lib.win-amd64-cpython-310\\matplotlib\\mpl-data\\stylelib\n",
            "      copying lib\\matplotlib\\mpl-data\\fonts\\afm\\pncb8a.afm -> build\\lib.win-amd64-cpython-310\\matplotlib\\mpl-data\\fonts\\afm\n",
            "      copying lib\\matplotlib\\backends\\web_backend\\all_figures.html -> build\\lib.win-amd64-cpython-310\\matplotlib\\backends\\web_backend\n",
            "      copying lib\\matplotlib\\mpl-data\\fonts\\ttf\\DejaVuSerif-Italic.ttf -> build\\lib.win-amd64-cpython-310\\matplotlib\\mpl-data\\fonts\\ttf\n",
            "      copying lib\\matplotlib\\mpl-data\\images\\back.svg -> build\\lib.win-amd64-cpython-310\\matplotlib\\mpl-data\\images\n",
            "      copying lib\\matplotlib\\mpl-data\\fonts\\afm\\pcrro8a.afm -> build\\lib.win-amd64-cpython-310\\matplotlib\\mpl-data\\fonts\\afm\n",
            "      copying lib\\matplotlib\\mpl-data\\fonts\\afm\\phvbo8an.afm -> build\\lib.win-amd64-cpython-310\\matplotlib\\mpl-data\\fonts\\afm\n",
            "      copying lib\\matplotlib\\mpl-data\\fonts\\pdfcorefonts\\Helvetica-Bold.afm -> build\\lib.win-amd64-cpython-310\\matplotlib\\mpl-data\\fonts\\pdfcorefonts\n",
            "      copying lib\\matplotlib\\mpl-data\\images\\filesave.svg -> build\\lib.win-amd64-cpython-310\\matplotlib\\mpl-data\\images\n",
            "      copying lib\\matplotlib\\mpl-data\\fonts\\afm\\phvro8a.afm -> build\\lib.win-amd64-cpython-310\\matplotlib\\mpl-data\\fonts\\afm\n",
            "      copying lib\\matplotlib\\mpl-data\\fonts\\ttf\\STIXNonUniBol.ttf -> build\\lib.win-amd64-cpython-310\\matplotlib\\mpl-data\\fonts\\ttf\n",
            "      copying lib\\matplotlib\\backends\\web_backend\\single_figure.html -> build\\lib.win-amd64-cpython-310\\matplotlib\\backends\\web_backend\n",
            "      copying lib\\matplotlib\\mpl-data\\images\\matplotlib.pdf -> build\\lib.win-amd64-cpython-310\\matplotlib\\mpl-data\\images\n",
            "      copying lib\\matplotlib\\mpl-data\\images\\forward_large.png -> build\\lib.win-amd64-cpython-310\\matplotlib\\mpl-data\\images\n",
            "      copying lib\\matplotlib\\mpl-data\\fonts\\ttf\\STIXSizThreeSymBol.ttf -> build\\lib.win-amd64-cpython-310\\matplotlib\\mpl-data\\fonts\\ttf\n",
            "      copying lib\\matplotlib\\mpl-data\\fonts\\ttf\\DejaVuSans-BoldOblique.ttf -> build\\lib.win-amd64-cpython-310\\matplotlib\\mpl-data\\fonts\\ttf\n",
            "      copying lib\\matplotlib\\mpl-data\\sample_data\\data_x_x2_x3.csv -> build\\lib.win-amd64-cpython-310\\matplotlib\\mpl-data\\sample_data\n",
            "      copying lib\\matplotlib\\mpl-data\\sample_data\\ada.png -> build\\lib.win-amd64-cpython-310\\matplotlib\\mpl-data\\sample_data\n",
            "      copying lib\\matplotlib\\mpl-data\\stylelib\\classic.mplstyle -> build\\lib.win-amd64-cpython-310\\matplotlib\\mpl-data\\stylelib\n",
            "      copying lib\\matplotlib\\mpl-data\\sample_data\\eeg.dat -> build\\lib.win-amd64-cpython-310\\matplotlib\\mpl-data\\sample_data\n",
            "      copying lib\\matplotlib\\mpl-data\\images\\zoom_to_rect.png -> build\\lib.win-amd64-cpython-310\\matplotlib\\mpl-data\\images\n",
            "      creating build\\lib.win-amd64-cpython-310\\matplotlib\\mpl-data\\sample_data\\axes_grid\n",
            "      copying lib\\matplotlib\\mpl-data\\sample_data\\axes_grid\\bivariate_normal.npy -> build\\lib.win-amd64-cpython-310\\matplotlib\\mpl-data\\sample_data\\axes_grid\n",
            "      copying lib\\matplotlib\\mpl-data\\images\\hand_large.gif -> build\\lib.win-amd64-cpython-310\\matplotlib\\mpl-data\\images\n",
            "      copying lib\\matplotlib\\mpl-data\\fonts\\pdfcorefonts\\Times-Bold.afm -> build\\lib.win-amd64-cpython-310\\matplotlib\\mpl-data\\fonts\\pdfcorefonts\n",
            "      copying lib\\matplotlib\\mpl-data\\fonts\\ttf\\STIXGeneralBolIta.ttf -> build\\lib.win-amd64-cpython-310\\matplotlib\\mpl-data\\fonts\\ttf\n",
            "      copying lib\\matplotlib\\backends\\web_backend\\jquery-ui-1.12.1\\images\\ui-icons_777620_256x240.png -> build\\lib.win-amd64-cpython-310\\matplotlib\\backends\\web_backend\\jquery-ui-1.12.1\\images\n",
            "      copying lib\\matplotlib\\mpl-data\\fonts\\afm\\phvb8an.afm -> build\\lib.win-amd64-cpython-310\\matplotlib\\mpl-data\\fonts\\afm\n",
            "      copying lib\\matplotlib\\mpl-data\\fonts\\ttf\\DejaVuSansDisplay.ttf -> build\\lib.win-amd64-cpython-310\\matplotlib\\mpl-data\\fonts\\ttf\n",
            "      copying lib\\matplotlib\\mpl-data\\images\\hand.svg -> build\\lib.win-amd64-cpython-310\\matplotlib\\mpl-data\\images\n",
            "      creating build\\lib.win-amd64-cpython-310\\matplotlib\\backends\\web_backend\\jquery-ui-1.12.1\\external\n",
            "      creating build\\lib.win-amd64-cpython-310\\matplotlib\\backends\\web_backend\\jquery-ui-1.12.1\\external\\jquery\n",
            "      copying lib\\matplotlib\\backends\\web_backend\\jquery-ui-1.12.1\\external\\jquery\\jquery.js -> build\\lib.win-amd64-cpython-310\\matplotlib\\backends\\web_backend\\jquery-ui-1.12.1\\external\\jquery\n",
            "      copying lib\\matplotlib\\mpl-data\\images\\qt4_editor_options.png -> build\\lib.win-amd64-cpython-310\\matplotlib\\mpl-data\\images\n",
            "      copying lib\\matplotlib\\mpl-data\\fonts\\afm\\ptmr8a.afm -> build\\lib.win-amd64-cpython-310\\matplotlib\\mpl-data\\fonts\\afm\n",
            "      copying lib\\matplotlib\\mpl-data\\fonts\\ttf\\STIXGeneralBol.ttf -> build\\lib.win-amd64-cpython-310\\matplotlib\\mpl-data\\fonts\\ttf\n",
            "      copying lib\\matplotlib\\mpl-data\\sample_data\\README.txt -> build\\lib.win-amd64-cpython-310\\matplotlib\\mpl-data\\sample_data\n",
            "      copying lib\\matplotlib\\mpl-data\\stylelib\\dark_background.mplstyle -> build\\lib.win-amd64-cpython-310\\matplotlib\\mpl-data\\stylelib\n",
            "      copying lib\\matplotlib\\mpl-data\\stylelib\\fast.mplstyle -> build\\lib.win-amd64-cpython-310\\matplotlib\\mpl-data\\stylelib\n",
            "      copying lib\\matplotlib\\mpl-data\\fonts\\afm\\phvr8a.afm -> build\\lib.win-amd64-cpython-310\\matplotlib\\mpl-data\\fonts\\afm\n",
            "      copying lib\\matplotlib\\mpl-data\\fonts\\afm\\cmsy10.afm -> build\\lib.win-amd64-cpython-310\\matplotlib\\mpl-data\\fonts\\afm\n",
            "      copying lib\\matplotlib\\mpl-data\\images\\back.png -> build\\lib.win-amd64-cpython-310\\matplotlib\\mpl-data\\images\n",
            "      copying lib\\matplotlib\\mpl-data\\images\\forward.pdf -> build\\lib.win-amd64-cpython-310\\matplotlib\\mpl-data\\images\n",
            "      copying lib\\matplotlib\\mpl-data\\fonts\\afm\\pncr8a.afm -> build\\lib.win-amd64-cpython-310\\matplotlib\\mpl-data\\fonts\\afm\n",
            "      copying lib\\matplotlib\\mpl-data\\images\\help.pdf -> build\\lib.win-amd64-cpython-310\\matplotlib\\mpl-data\\images\n",
            "      copying lib\\matplotlib\\mpl-data\\sample_data\\None_vs_nearest-pdf.png -> build\\lib.win-amd64-cpython-310\\matplotlib\\mpl-data\\sample_data\n",
            "      copying lib\\matplotlib\\mpl-data\\sample_data\\embedding_in_wx3.xrc -> build\\lib.win-amd64-cpython-310\\matplotlib\\mpl-data\\sample_data\n",
            "      copying lib\\matplotlib\\mpl-data\\images\\filesave.pdf -> build\\lib.win-amd64-cpython-310\\matplotlib\\mpl-data\\images\n",
            "      copying lib\\matplotlib\\backends\\web_backend\\jquery-ui-1.12.1\\LICENSE.txt -> build\\lib.win-amd64-cpython-310\\matplotlib\\backends\\web_backend\\jquery-ui-1.12.1\n",
            "      copying lib\\matplotlib\\mpl-data\\fonts\\ttf\\STIXSizFiveSymReg.ttf -> build\\lib.win-amd64-cpython-310\\matplotlib\\mpl-data\\fonts\\ttf\n",
            "      copying lib\\matplotlib\\backends\\web_backend\\ipython_inline_figure.html -> build\\lib.win-amd64-cpython-310\\matplotlib\\backends\\web_backend\n",
            "      copying lib\\matplotlib\\mpl-data\\fonts\\ttf\\DejaVuSans-Bold.ttf -> build\\lib.win-amd64-cpython-310\\matplotlib\\mpl-data\\fonts\\ttf\n",
            "      copying lib\\matplotlib\\mpl-data\\fonts\\ttf\\DejaVuSerif.ttf -> build\\lib.win-amd64-cpython-310\\matplotlib\\mpl-data\\fonts\\ttf\n",
            "      copying lib\\matplotlib\\mpl-data\\stylelib\\grayscale.mplstyle -> build\\lib.win-amd64-cpython-310\\matplotlib\\mpl-data\\stylelib\n",
            "      copying lib\\matplotlib\\mpl-data\\fonts\\ttf\\STIXSizFourSymBol.ttf -> build\\lib.win-amd64-cpython-310\\matplotlib\\mpl-data\\fonts\\ttf\n",
            "      copying lib\\matplotlib\\backends\\web_backend\\css\\page.css -> build\\lib.win-amd64-cpython-310\\matplotlib\\backends\\web_backend\\css\n",
            "      copying lib\\matplotlib\\mpl-data\\stylelib\\ggplot.mplstyle -> build\\lib.win-amd64-cpython-310\\matplotlib\\mpl-data\\stylelib\n",
            "      copying lib\\matplotlib\\mpl-data\\images\\filesave_large.png -> build\\lib.win-amd64-cpython-310\\matplotlib\\mpl-data\\images\n",
            "      copying lib\\matplotlib\\mpl-data\\images\\forward_large.gif -> build\\lib.win-amd64-cpython-310\\matplotlib\\mpl-data\\images\n",
            "      copying lib\\matplotlib\\backends\\web_backend\\jquery\\js\\jquery.js -> build\\lib.win-amd64-cpython-310\\matplotlib\\backends\\web_backend\\jquery\\js\n",
            "      copying lib\\matplotlib\\mpl-data\\stylelib\\seaborn-colorblind.mplstyle -> build\\lib.win-amd64-cpython-310\\matplotlib\\mpl-data\\stylelib\n",
            "      UPDATING build\\lib.win-amd64-cpython-310\\matplotlib\\_version.py\n",
            "      set build\\lib.win-amd64-cpython-310\\matplotlib\\_version.py to '3.1.3'\n",
            "      running build_ext\n",
            "      building 'matplotlib.ft2font' extension\n",
            "      error: Microsoft Visual C++ 14.0 or greater is required. Get it with \"Microsoft C++ Build Tools\": https://visualstudio.microsoft.com/visual-cpp-build-tools/\n",
            "      [end of output]\n",
            "  \n",
            "  note: This error originates from a subprocess, and is likely not a problem with pip.\n",
            "error: legacy-install-failure\n",
            "\n",
            "× Encountered error while trying to install package.\n",
            "╰─> matplotlib\n",
            "\n",
            "note: This is an issue with the package mentioned above, not pip.\n",
            "hint: See above for output from the failure.\n",
            "WARNING: Ignoring invalid distribution -atplotlib (c:\\users\\harini\\appdata\\local\\packages\\pythonsoftwarefoundation.python.3.10_qbz5n2kfra8p0\\localcache\\local-packages\\python310\\site-packages)\n",
            "WARNING: Ignoring invalid distribution -atplotlib (c:\\users\\harini\\appdata\\local\\packages\\pythonsoftwarefoundation.python.3.10_qbz5n2kfra8p0\\localcache\\local-packages\\python310\\site-packages)\n",
            "WARNING: Ignoring invalid distribution -atplotlib (c:\\users\\harini\\appdata\\local\\packages\\pythonsoftwarefoundation.python.3.10_qbz5n2kfra8p0\\localcache\\local-packages\\python310\\site-packages)\n"
          ]
        }
      ],
      "source": [
        "pip install matplotlib==3.1.3"
      ]
    },
    {
      "cell_type": "code",
      "execution_count": null,
      "metadata": {
        "id": "C_41eyoRVQHP"
      },
      "outputs": [
        {
          "name": "stderr",
          "output_type": "stream",
          "text": [
            "C:\\Users\\harini\\AppData\\Local\\Temp\\ipykernel_21440\\1273848778.py:10: UserWarning: Failed to initialize NumPy: module compiled against API version 0x10 but this version of numpy is 0xf . Check the section C-API incompatibility at the Troubleshooting ImportError section at https://numpy.org/devdocs/user/troubleshooting-importerror.html#c-api-incompatibility for indications on how to solve this problem . (Triggered internally at ..\\torch\\csrc\\utils\\tensor_numpy.cpp:84.)\n",
            "  device = torch.device(\"cuda\" if torch.cuda.is_available() else \"cpu\")\n"
          ]
        }
      ],
      "source": [
        "# Importing Required Packages\n",
        "import keras\n",
        "from keras import layers\n",
        "import pandas as pd\n",
        "import numpy as np\n",
        "import matplotlib.pyplot as plt\n",
        "from tensorflow.keras.utils import to_categorical\n",
        "import random\n",
        "import torch\n",
        "device = torch.device(\"cuda\" if torch.cuda.is_available() else \"cpu\")\n",
        "import copy\n",
        "import seaborn as sns\n",
        "# pylab import rcParams\n",
        "import matplotlib.pyplot as plt\n",
        "from matplotlib import rc\n",
        "from sklearn.model_selection import train_test_split\n",
        "import tensorflow as tf\n",
        "from sklearn.metrics import precision_score,recall_score,accuracy_score\n",
        "from tensorflow.keras import layers, losses\n",
        "from tensorflow.keras.models import Model\n",
        "import scipy.io\n",
        "from scipy.io import savemat\n",
        "# Random Initialization\n",
        "random.seed(42)\n",
        "import matplotlib.pyplot as plt\n",
        "import numpy as np\n",
        "import pandas as pd\n",
        "import tensorflow as tf\n",
        "from sklearn import preprocessing\n",
        "import torch\n",
        "import torch.nn as nn\n",
        "import torch.nn.functional as F\n",
        "from torch import nn, optim\n",
        "from torch.autograd import Variable\n",
        "\n",
        "from sklearn.metrics import accuracy_score, precision_score, recall_score\n",
        "from sklearn.model_selection import train_test_split\n",
        "from tensorflow.keras import layers, losses\n",
        "from tensorflow.keras.models import Model\n",
        "device = torch.device('cuda' if torch.cuda.is_available() else 'cpu')\n"
      ]
    },
    {
      "cell_type": "code",
      "execution_count": null,
      "metadata": {
        "colab": {
          "base_uri": "https://localhost:8080/"
        },
        "id": "oJ4ghEbgXNDx",
        "outputId": "1cfe928f-67ab-44ac-cf42-f2875251f829"
      },
      "outputs": [
        {
          "name": "stdout",
          "output_type": "stream",
          "text": [
            "Drive already mounted at /content/drive; to attempt to forcibly remount, call drive.mount(\"/content/drive\", force_remount=True).\n"
          ]
        }
      ],
      "source": [
        "from google.colab import drive\n",
        "\n",
        "drive.mount('/content/drive')"
      ]
    },
    {
      "cell_type": "code",
      "execution_count": null,
      "metadata": {
        "colab": {
          "base_uri": "https://localhost:8080/"
        },
        "id": "KQtFOoFpXtIA",
        "outputId": "fc11ab3d-693d-42b8-bd26-38755a123a3b"
      },
      "outputs": [
        {
          "name": "stdout",
          "output_type": "stream",
          "text": [
            "['vae']\n"
          ]
        }
      ],
      "source": [
        "import os\n",
        "print(os.listdir(\"C:/Users/harini/Documents/input\"))"
      ]
    },
    {
      "cell_type": "code",
      "execution_count": null,
      "metadata": {
        "id": "5IjJslFDYXDB"
      },
      "outputs": [],
      "source": [
        "data= 'C:/Users/harini/Documents/input/mit-bih-arrhythmia-database/'\n",
        "# List of Patients\n",
        "patients = ['100','101','102','103','104','105','106','107',\n",
        "           '108','109','111','112','113','114','115','116',\n",
        "           '117','118','119','121','122','123','124','200',\n",
        "           '201','202','203','205','207','208','209','210',\n",
        "           '212','213','214','215','217','219','220','221',\n",
        "           '222','223','228','230','231','232','233','234']\n",
        "# Creating a Empty Dataframe\n",
        "dataframe = pd.DataFrame()"
      ]
    },
    {
      "cell_type": "code",
      "execution_count": null,
      "metadata": {
        "id": "UQpm00c7YkLb"
      },
      "outputs": [],
      "source": [
        "import wfdb\n",
        "# Reading all .atr files \n",
        "for pts in patients:\n",
        "    # Generating filepath for all .atr file names\n",
        "    file = data + pts\n",
        "    # Saving annotation object\n",
        "    annotation = wfdb.rdann(file, 'atr')\n",
        "    # Extracting symbols from the object\n",
        "    sym = annotation.symbol\n",
        "    # Saving value counts\n",
        "    values, counts = np.unique(sym, return_counts=True)\n",
        "    # Writing data points into dataframe\n",
        "    df_sub = pd.DataFrame({'symbol':values, 'Counts':counts, 'Patient Number':[pts]*len(counts)})\n",
        "    # Concatenating all data points  \n",
        "    dataframe = pd.concat([dataframe, df_sub],axis = 0)"
      ]
    },
    {
      "cell_type": "code",
      "execution_count": null,
      "metadata": {
        "colab": {
          "base_uri": "https://localhost:8080/",
          "height": 423
        },
        "id": "FKvmGWCZaY9c",
        "outputId": "2cd37de2-b3bb-417a-a728-4af67de7b4c1"
      },
      "outputs": [
        {
          "data": {
            "text/html": [
              "<div>\n",
              "<style scoped>\n",
              "    .dataframe tbody tr th:only-of-type {\n",
              "        vertical-align: middle;\n",
              "    }\n",
              "\n",
              "    .dataframe tbody tr th {\n",
              "        vertical-align: top;\n",
              "    }\n",
              "\n",
              "    .dataframe thead th {\n",
              "        text-align: right;\n",
              "    }\n",
              "</style>\n",
              "<table border=\"1\" class=\"dataframe\">\n",
              "  <thead>\n",
              "    <tr style=\"text-align: right;\">\n",
              "      <th></th>\n",
              "      <th>symbol</th>\n",
              "      <th>Counts</th>\n",
              "      <th>Patient Number</th>\n",
              "    </tr>\n",
              "  </thead>\n",
              "  <tbody>\n",
              "    <tr>\n",
              "      <th>0</th>\n",
              "      <td>+</td>\n",
              "      <td>1</td>\n",
              "      <td>100</td>\n",
              "    </tr>\n",
              "    <tr>\n",
              "      <th>1</th>\n",
              "      <td>A</td>\n",
              "      <td>33</td>\n",
              "      <td>100</td>\n",
              "    </tr>\n",
              "    <tr>\n",
              "      <th>2</th>\n",
              "      <td>N</td>\n",
              "      <td>2239</td>\n",
              "      <td>100</td>\n",
              "    </tr>\n",
              "    <tr>\n",
              "      <th>3</th>\n",
              "      <td>V</td>\n",
              "      <td>1</td>\n",
              "      <td>100</td>\n",
              "    </tr>\n",
              "    <tr>\n",
              "      <th>0</th>\n",
              "      <td>+</td>\n",
              "      <td>1</td>\n",
              "      <td>101</td>\n",
              "    </tr>\n",
              "    <tr>\n",
              "      <th>...</th>\n",
              "      <td>...</td>\n",
              "      <td>...</td>\n",
              "      <td>...</td>\n",
              "    </tr>\n",
              "    <tr>\n",
              "      <th>0</th>\n",
              "      <td>+</td>\n",
              "      <td>3</td>\n",
              "      <td>234</td>\n",
              "    </tr>\n",
              "    <tr>\n",
              "      <th>1</th>\n",
              "      <td>J</td>\n",
              "      <td>50</td>\n",
              "      <td>234</td>\n",
              "    </tr>\n",
              "    <tr>\n",
              "      <th>2</th>\n",
              "      <td>N</td>\n",
              "      <td>2700</td>\n",
              "      <td>234</td>\n",
              "    </tr>\n",
              "    <tr>\n",
              "      <th>3</th>\n",
              "      <td>V</td>\n",
              "      <td>3</td>\n",
              "      <td>234</td>\n",
              "    </tr>\n",
              "    <tr>\n",
              "      <th>4</th>\n",
              "      <td>~</td>\n",
              "      <td>8</td>\n",
              "      <td>234</td>\n",
              "    </tr>\n",
              "  </tbody>\n",
              "</table>\n",
              "<p>283 rows × 3 columns</p>\n",
              "</div>"
            ],
            "text/plain": [
              "   symbol  Counts Patient Number\n",
              "0       +       1            100\n",
              "1       A      33            100\n",
              "2       N    2239            100\n",
              "3       V       1            100\n",
              "0       +       1            101\n",
              "..    ...     ...            ...\n",
              "0       +       3            234\n",
              "1       J      50            234\n",
              "2       N    2700            234\n",
              "3       V       3            234\n",
              "4       ~       8            234\n",
              "\n",
              "[283 rows x 3 columns]"
            ]
          },
          "execution_count": 7,
          "metadata": {},
          "output_type": "execute_result"
        }
      ],
      "source": [
        "dataframe"
      ]
    },
    {
      "cell_type": "code",
      "execution_count": null,
      "metadata": {
        "id": "GBXTek2Yadq5"
      },
      "outputs": [],
      "source": [
        "# Non Beat Symbols\n",
        "nonbeat = ['[','!',']','x','(',')','p','t','u','`',\n",
        "           '\\'','^','|','~','+','s','T','*','D','=','\"','@','Q','?']\n",
        "\n",
        "# Abnormal Beat Symbols\n",
        "abnormal = ['L','R','V','/','A','f','F','j','a','E','J','e','S']\n",
        "\n",
        "# Normal Beat Symbols\n",
        "normal = ['N'] "
      ]
    },
    {
      "cell_type": "code",
      "execution_count": null,
      "metadata": {
        "colab": {
          "base_uri": "https://localhost:8080/"
        },
        "id": "M49_3aGYagxA",
        "outputId": "ca435e30-1951-4d96-a791-0814117ab954"
      },
      "outputs": [
        {
          "data": {
            "text/plain": [
              "category\n",
              "-1     3186\n",
              " 0    75052\n",
              " 1    34409\n",
              "Name: Counts, dtype: int64"
            ]
          },
          "execution_count": 9,
          "metadata": {},
          "output_type": "execute_result"
        }
      ],
      "source": [
        "# Classifying normal, abnormal or nonbeat\n",
        "dataframe['category'] = -1\n",
        "dataframe.loc[dataframe.symbol == 'N','category'] = 0\n",
        "dataframe.loc[dataframe.symbol.isin(abnormal), 'category'] = 1    \n",
        "      \n",
        "dataframe.groupby('category').Counts.sum()"
      ]
    },
    {
      "cell_type": "code",
      "execution_count": null,
      "metadata": {
        "colab": {
          "base_uri": "https://localhost:8080/"
        },
        "id": "4lkpO32JavCR",
        "outputId": "091b9e67-1237-4c08-86d7-9b1b06eaa6e2"
      },
      "outputs": [
        {
          "data": {
            "text/plain": [
              "category\n",
              "0    75052\n",
              "1    34409\n",
              "Name: Counts, dtype: int64"
            ]
          },
          "execution_count": 10,
          "metadata": {},
          "output_type": "execute_result"
        }
      ],
      "source": [
        "#removing the non-beat from dataframe\n",
        "dataframe = dataframe.loc[~((dataframe['category']==-1))]\n",
        "dataframe.groupby('category').Counts.sum()"
      ]
    },
    {
      "cell_type": "code",
      "execution_count": null,
      "metadata": {
        "id": "J9xJqMBVaype"
      },
      "outputs": [],
      "source": [
        "def load_ecg(file):    \n",
        "    # load the ecg\n",
        "    record = wfdb.rdrecord(file)\n",
        "    # load the annotation\n",
        "    annotation = wfdb.rdann(file, 'atr')\n",
        "    # extracting the signal\n",
        "    p_signal = record.p_signal\n",
        "    # extracting symbols and annotation index\n",
        "    atr_sym = annotation.symbol\n",
        "    atr_sample = annotation.sample\n",
        "    \n",
        "    return p_signal, atr_sym, atr_sample\n",
        "    "
      ]
    },
    {
      "cell_type": "code",
      "execution_count": null,
      "metadata": {
        "id": "E6ppgQs0a25B"
      },
      "outputs": [],
      "source": [
        "def build_XY(p_signal, df_ann, num_cols, normal):\n",
        "    # this function builds the X,Y matrices for each beat\n",
        "    # it also returns the original symbols for Y\n",
        "    \n",
        "    num_rows = len(df_ann)\n",
        "\n",
        "    X = np.zeros((num_rows, num_cols))\n",
        "    Y = np.zeros((num_rows,1))\n",
        "    sym = []\n",
        "    \n",
        "    # keep track of rows\n",
        "    max_row = 0\n",
        "\n",
        "    for atr_sample, atr_sym in zip(df_ann.atr_sample.values,df_ann.atr_sym.values):\n",
        "\n",
        "        left = max([0,(atr_sample - num_sec*fs) ])\n",
        "        right = min([len(p_signal),(atr_sample + num_sec*fs) ])\n",
        "        x = p_signal[left: right]\n",
        "        if len(x) == num_cols:\n",
        "            X[max_row,:] = x\n",
        "            Y[max_row,:] = int(atr_sym in normal)\n",
        "            sym.append(atr_sym)\n",
        "            max_row += 1\n",
        "    X = X[:max_row,:]\n",
        "    Y = Y[:max_row,:]\n",
        "    return X,Y,sym"
      ]
    },
    {
      "cell_type": "code",
      "execution_count": null,
      "metadata": {
        "id": "WDTxfkrVbByt"
      },
      "outputs": [],
      "source": [
        "# creating abnormal beat dataset\n",
        "def make_dataset(pts, num_sec, fs, abnormal):\n",
        "    \n",
        "    num_cols = 2*num_sec * fs\n",
        "    X_all = np.zeros((1,num_cols))\n",
        "    Y_all = np.zeros((1,1))\n",
        "    sym_all = []\n",
        "    \n",
        "    max_rows = []\n",
        "    for pt in pts:\n",
        "        file = data + pt\n",
        "        \n",
        "        p_signal, atr_sym, atr_sample = load_ecg(file)\n",
        "        \n",
        "        \n",
        "        p_signal = p_signal[:,0]\n",
        "        \n",
        "        \n",
        "        df_ann = pd.DataFrame({'atr_sym':atr_sym,\n",
        "                              'atr_sample':atr_sample})\n",
        "        df_ann = df_ann.loc[df_ann.atr_sym.isin(abnormal)]\n",
        "        \n",
        "        X,Y,sym = build_XY(p_signal,df_ann, num_cols, abnormal)\n",
        "        sym_all = sym_all+sym\n",
        "        max_rows.append(X.shape[0])\n",
        "        X_all = np.append(X_all,X,axis = 0)\n",
        "        Y_all = np.append(Y_all,Y,axis = 0)\n",
        "        \n",
        "    \n",
        "    X_all = X_all[1:,:]\n",
        "    Y_all = Y_all[1:,:]\n",
        "\n",
        "    return X_all, Y_all, sym_all"
      ]
    },
    {
      "cell_type": "code",
      "execution_count": null,
      "metadata": {
        "colab": {
          "base_uri": "https://localhost:8080/"
        },
        "id": "pnTEwhP1bJhU",
        "outputId": "b7666b55-28a0-42bf-e407-ac2e6e76a665"
      },
      "outputs": [
        {
          "name": "stdout",
          "output_type": "stream",
          "text": [
            "(34376, 720)\n"
          ]
        }
      ],
      "source": [
        "# Parameter Values\n",
        "num_sec = 1\n",
        "fs = 360\n",
        "\n",
        "X_abnormal, Y_abnormal, sym_abnormal = make_dataset(patients, num_sec, fs, abnormal)\n",
        "print(X_abnormal.shape)"
      ]
    },
    {
      "cell_type": "code",
      "execution_count": null,
      "metadata": {
        "id": "3leUMOeibWHG"
      },
      "outputs": [],
      "source": [
        "data= 'C:/Users/harini/Documents/input/mitbih-normal-sinus-rhythm-database/mit-bih-normal-sinus-rhythm-database-1.0.0/'"
      ]
    },
    {
      "cell_type": "code",
      "execution_count": null,
      "metadata": {
        "id": "bikMkPNTbkrH"
      },
      "outputs": [],
      "source": [
        "patients = [\"16265\",\"16272\",\"16273\",\"16539\",\"16483\"]"
      ]
    },
    {
      "cell_type": "code",
      "execution_count": null,
      "metadata": {
        "id": "xXmkJ5gwbprl"
      },
      "outputs": [],
      "source": [
        "# creating normal beat dataset\n",
        "def make_dataset(pts, num_sec, fs, normal):\n",
        "    # function for making dataset ignoring non-beats\n",
        "    # input:\n",
        "    #   pts - list of patients\n",
        "    #   num_sec = number of seconds to include before and after the beat\n",
        "    #   fs = frequency\n",
        "    # output: \n",
        "    #   X_all = signal (nbeats , num_sec * fs columns)\n",
        "    #   Y_all = binary is abnormal (nbeats, 1)\n",
        "    #   sym_all = beat annotation symbol (nbeats,1)\n",
        "    \n",
        "    # initialize numpy arrays\n",
        "    num_cols = 2*num_sec * fs\n",
        "    X_all = np.zeros((1,num_cols))\n",
        "    Y_all = np.zeros((1,1))\n",
        "    sym_all = []\n",
        "    \n",
        "    # list to keep track of number of beats across patients\n",
        "    max_rows = []\n",
        "    for pt in pts:\n",
        "        file = data + pt\n",
        "        \n",
        "        p_signal, atr_sym, atr_sample = load_ecg(file)\n",
        "        \n",
        "        # grab the first signal\n",
        "        p_signal = p_signal[:,0]\n",
        "        \n",
        "        # make df to exclude the nonbeats\n",
        "        df_ann = pd.DataFrame({'atr_sym':atr_sym,\n",
        "                              'atr_sample':atr_sample})\n",
        "        df_ann = df_ann.loc[df_ann.atr_sym.isin(normal)]\n",
        "        \n",
        "        X,Y,sym = build_XY(p_signal,df_ann, num_cols, normal)\n",
        "        sym_all = sym_all+sym\n",
        "        max_rows.append(X.shape[0])\n",
        "        X_all = np.append(X_all,X,axis = 0)\n",
        "        Y_all = np.append(Y_all,Y,axis = 0)\n",
        "        \n",
        "    # drop the first zero row\n",
        "    X_all = X_all[1:,:]\n",
        "    Y_all = Y_all[1:,:]\n",
        "\n",
        "    return X_all, Y_all, sym_all"
      ]
    },
    {
      "cell_type": "code",
      "execution_count": null,
      "metadata": {
        "id": "VtQ16DSo5_hD"
      },
      "outputs": [],
      "source": [
        "# Parameter Values\n",
        "num_sec = 1\n",
        "fs = 360\n",
        "\n",
        "X_normal, Y_normal, sym_normal = make_dataset(patients, num_sec, fs, normal)"
      ]
    },
    {
      "cell_type": "code",
      "execution_count": null,
      "metadata": {
        "id": "Ecd6Ui6MfSw6"
      },
      "outputs": [
        {
          "name": "stdout",
          "output_type": "stream",
          "text": [
            "(490388, 720)\n"
          ]
        }
      ],
      "source": [
        "#X_normal = X_normal[0:34376,:]\n",
        "print(X_normal.shape)\n",
        "Y_normal = np.zeros((X_normal.shape[0], 1))\n"
      ]
    },
    {
      "cell_type": "code",
      "execution_count": null,
      "metadata": {
        "id": "eGvgWhzdfakw"
      },
      "outputs": [
        {
          "name": "stdout",
          "output_type": "stream",
          "text": [
            "(524764, 140)\n"
          ]
        }
      ],
      "source": [
        "X = np.append(X_normal,X_abnormal,axis=0)\n",
        "Y = np.append(Y_normal,Y_abnormal,axis=0)\n",
        "X = X[:,0:140]\n",
        "print(X.shape)"
      ]
    },
    {
      "cell_type": "code",
      "execution_count": null,
      "metadata": {
        "id": "Fkswvlvafev2"
      },
      "outputs": [
        {
          "name": "stdout",
          "output_type": "stream",
          "text": [
            "490388\n"
          ]
        }
      ],
      "source": [
        "raw_data= np.append(X, Y, axis=1)\n",
        "raw_data = pd.DataFrame(raw_data)\n",
        "\n",
        "\n",
        "labels = raw_data.iloc[: , -1]\n",
        "labels= labels.values\n",
        "print(pd.Series(labels).value_counts()[0])\n",
        "data = raw_data.iloc[:, 0:-1]\n",
        "data= data.values"
      ]
    },
    {
      "cell_type": "code",
      "execution_count": null,
      "metadata": {
        "id": "jsa0Eevlfmam"
      },
      "outputs": [],
      "source": [
        "train_data, test_data, train_labels, test_labels = train_test_split(\n",
        "    data, labels, test_size=0.2, random_state=21)\n",
        "\n",
        "from sklearn.preprocessing import MinMaxScaler\n",
        "scaler = MinMaxScaler()\n",
        "scaler.fit(train_data)\n",
        "test_data = scaler.transform(test_data)\n",
        "train_data = scaler.transform(train_data)\n",
        "\n",
        "\n",
        "train_labels = train_labels.astype(bool)\n",
        "test_labels = test_labels.astype(bool)"
      ]
    },
    {
      "cell_type": "code",
      "execution_count": null,
      "metadata": {
        "id": "9y5va2ICfpgL"
      },
      "outputs": [
        {
          "name": "stdout",
          "output_type": "stream",
          "text": [
            "(392363, 140)\n"
          ]
        }
      ],
      "source": [
        "normal_train_data = train_data[~train_labels]\n",
        "normal_test_data = test_data[~test_labels]\n",
        "print(normal_train_data.shape)\n",
        "\n",
        "anomalous_train_data = train_data[train_labels]\n",
        "anomalous_test_data = test_data[test_labels]\n",
        "\n",
        "\n",
        "val_df, test_df = train_test_split(\n",
        "  test_data,\n",
        "  test_size=0.2, \n",
        "  random_state=42)\n",
        "\n",
        "test_labels =  ~test_labels\n"
      ]
    },
    {
      "cell_type": "code",
      "execution_count": null,
      "metadata": {
        "colab": {
          "base_uri": "https://localhost:8080/",
          "height": 887
        },
        "id": "vcsoAmhS8hED",
        "outputId": "02544d18-006b-4a0d-9c22-79520dfdd3ff"
      },
      "outputs": [
        {
          "data": {
            "image/png": "[encoded data removed]",
            "text/plain": [
              "<Figure size 640x480 with 1 Axes>"
            ]
          },
          "metadata": {},
          "output_type": "display_data"
        },
        {
          "data": {
            "image/png": "[encoded data removed]",
            "text/plain": [
              "<Figure size 640x480 with 1 Axes>"
            ]
          },
          "metadata": {},
          "output_type": "display_data"
        }
      ],
      "source": [
        "plt.grid()\n",
        "plt.plot(np.arange(140), normal_train_data[1])\n",
        "plt.title(\"normal train data\")\n",
        "plt.show()\n",
        "\n",
        "plt.grid()\n",
        "plt.plot(np.arange(140), normal_test_data[0])\n",
        "plt.title(\"normal test data\")\n",
        "plt.show()"
      ]
    },
    {
      "cell_type": "code",
      "execution_count": null,
      "metadata": {
        "colab": {
          "base_uri": "https://localhost:8080/",
          "height": 900
        },
        "id": "uxrn4YLagcus",
        "outputId": "22c7bb2d-7133-46c0-8537-5d3cba55c6c4"
      },
      "outputs": [
        {
          "name": "stdout",
          "output_type": "stream",
          "text": [
            "(6928, 140)\n"
          ]
        },
        {
          "data": {
            "image/png": "[encoded data removed]",
            "text/plain": [
              "<Figure size 640x480 with 1 Axes>"
            ]
          },
          "metadata": {},
          "output_type": "display_data"
        },
        {
          "data": {
            "image/png": "[encoded data removed]",
            "text/plain": [
              "<Figure size 640x480 with 1 Axes>"
            ]
          },
          "metadata": {},
          "output_type": "display_data"
        }
      ],
      "source": [
        "print(anomalous_test_data.shape)\n",
        "\n",
        "plt.grid()\n",
        "plt.plot(np.arange(140), anomalous_train_data[0])\n",
        "plt.title(\"anomalous train data\")\n",
        "plt.show()\n",
        "\n",
        "plt.grid()\n",
        "plt.plot(np.arange(140), anomalous_test_data[1])\n",
        "plt.title(\"anomalous test data\")\n",
        "plt.show()"
      ]
    },
    {
      "cell_type": "code",
      "execution_count": null,
      "metadata": {
        "id": "eNi5y01qhEq3"
      },
      "outputs": [],
      "source": [
        "class Sampling(layers.Layer):\n",
        "\n",
        "    def call(self, inputs):\n",
        "        z_mean, z_log_var = inputs\n",
        "        batch = tf.shape(z_mean)[0]\n",
        "        dim = tf.shape(z_mean)[1]\n",
        "        epsilon = tf.keras.backend.random_normal(shape=(batch, dim))\n",
        "        return z_mean + tf.exp(0.5 * z_log_var) * epsilon"
      ]
    },
    {
      "cell_type": "code",
      "execution_count": null,
      "metadata": {
        "id": "761H46p7hIAX"
      },
      "outputs": [],
      "source": [
        "def encoder_model(normal_train_data):\n",
        "    encoder_inputs = tf.keras.Input(shape=(normal_train_data.shape[1]))\n",
        "    x = layers.Dense(32, activation=\"relu\")(encoder_inputs)\n",
        "    x = layers.Dense(16, activation=\"relu\")(x)\n",
        "    # x = layers.Dense(8, activation=\"relu\")(x)\n",
        "   \n",
        "    z_mean = layers.Dense(16, name=\"z_mean\")(x)\n",
        "    z_log_var = layers.Dense(16, name=\"z_log_var\")(x)\n",
        "    \n",
        "   \n",
        "    z = Sampling()([z_mean, z_log_var])\n",
        "    \n",
        "    encoder = tf.keras.Model(encoder_inputs, [z_mean, z_log_var, z], name=\"encoder\")\n",
        "    return encoder"
      ]
    },
    {
      "cell_type": "code",
      "execution_count": null,
      "metadata": {
        "id": "SPo-LwH5hMSO"
      },
      "outputs": [],
      "source": [
        "def decoder_model(normal_train_data):\n",
        "    \n",
        "    # latent_inputs = tf.keras.Input(shape=(8,))\n",
        "    # x = layers.Dense(16, activation=\"relu\")(latent_inputs)\n",
        "    # x = layers.Dense(32, activation=\"relu\")(x)\n",
        "    latent_inputs = tf.keras.Input(shape=(16,))\n",
        "    x = layers.Dense(32, activation=\"relu\")(latent_inputs)\n",
        "    decoder_outputs = layers.Dense(normal_train_data.shape[1], activation=\"relu\")(x)\n",
        "    decoder = tf.keras.Model(latent_inputs, decoder_outputs, name=\"decoder\")\n",
        "    return decoder"
      ]
    },
    {
      "cell_type": "code",
      "execution_count": null,
      "metadata": {
        "id": "Ls-fAxFpHIPr"
      },
      "outputs": [],
      "source": [
        "from keras.models import Model\n",
        "from keras.layers import Input, Dense, LeakyReLU\n",
        "from keras.optimizers import Adam\n",
        "from keras.losses import binary_crossentropy\n",
        "from keras.losses import mean_squared_error\n",
        "from keras.losses import sparse_categorical_crossentropy\n",
        "from keras.losses import mae\n",
        "\n",
        "def build_discriminator(input_shape):\n",
        "  \n",
        "    inputs = Input(shape=input_shape)\n",
        "    \n",
        "    \n",
        "    x = Dense(128)(inputs)\n",
        "    x = LeakyReLU(alpha=0.2)(x)\n",
        "    x = Dense(64)(x)\n",
        "    x = LeakyReLU(alpha=0.2)(x)\n",
        "    \n",
        "    \n",
        "    outputs = Dense(1, activation='sigmoid')(x)\n",
        "    \n",
        "  \n",
        "    model = Model(inputs=inputs, outputs=outputs)\n",
        "    \n",
        "  \n",
        "    model.compile(loss=binary_crossentropy, optimizer=Adam(lr=0.0002, beta_1=0.5), metrics=['accuracy'])\n",
        "    \n",
        "    return model\n"
      ]
    },
    {
      "cell_type": "code",
      "execution_count": null,
      "metadata": {
        "colab": {
          "base_uri": "https://localhost:8080/"
        },
        "id": "lunFLOFEHSFa",
        "outputId": "a7857980-20be-4d13-da60-d5af6c4b1c35"
      },
      "outputs": [
        {
          "name": "stderr",
          "output_type": "stream",
          "text": [
            "C:\\Users\\harini\\AppData\\Local\\Packages\\PythonSoftwareFoundation.Python.3.10_qbz5n2kfra8p0\\LocalCache\\local-packages\\Python310\\site-packages\\keras\\optimizers\\optimizer_v2\\adam.py:117: UserWarning: The `lr` argument is deprecated, use `learning_rate` instead.\n",
            "  super().__init__(name, **kwargs)\n"
          ]
        }
      ],
      "source": [
        "\n",
        "epochs = 100\n",
        "learning_rate = 0.00001\n",
        "adam = Adam(lr = learning_rate,beta_1 = 0.5)\n",
        "input_shape = (1,normal_train_data.shape[1])  # Shape of the input samples\n",
        "discriminator = build_discriminator(input_shape)\n",
        "#discriminator = Discriminator(input_shape=(normal_train_data.shape[0],normal_train_data.shape[1]))\n",
        "loss_vector = []\n",
        "i=0\n",
        "batch_size=1"
      ]
    },
    {
      "cell_type": "code",
      "execution_count": null,
      "metadata": {
        "id": "YgRF3FiOhRmf"
      },
      "outputs": [],
      "source": [
        "class VAE(tf.keras.Model):\n",
        "    def __init__(self, encoder, decoder, **kwargs):\n",
        "        super(VAE, self).__init__(**kwargs)\n",
        "        self.encoder = encoder\n",
        "        self.decoder = decoder\n",
        "        self.discrimiantor = discriminator\n",
        "\n",
        "    def train_step(self, data):\n",
        "        loss_vector.clear()\n",
        "        if isinstance(data, tuple):\n",
        "            data = data[0]\n",
        "        with tf.GradientTape() as tape:\n",
        "            z_mean, z_log_var, z = self.encoder(data)\n",
        "            reconstruction = self.decoder(z)\n",
        "            data=data.reshape(1,1,140)\n",
        "            reconstruction=reconstruction.reshape(1,1,140)\n",
        "            d_loss_real = discriminator(data, np.ones((batch_size, 1)))\n",
        "            d_loss_fake = discriminator(reconstruction, np.zeros((batch_size, 1)))\n",
        "            d_loss = 0.5 * tf.add(d_loss_real, d_loss_fake)\n",
        "            d_loss = tf.reduce_mean(d_loss)\n",
        "            reconstruction_loss = tf.reduce_mean(\n",
        "                tf.keras.losses.mae(data, reconstruction)\n",
        "            )\n",
        "            kl_loss = 1 + z_log_var - tf.square(z_mean) - tf.exp(z_log_var)\n",
        "            kl_loss = tf.reduce_mean(kl_loss)\n",
        "            kl_loss *= -0.5\n",
        "            total_loss = reconstruction_loss + kl_loss + d_loss\n",
        "            loss_vector.append(total_loss)\n",
        "        grads = tape.gradient(total_loss, self.trainable_weights)\n",
        "        self.optimizer.apply_gradients(zip(grads, self.trainable_weights))\n",
        "        return {\n",
        "            \"loss\": total_loss,\n",
        "            \"reconstruction_loss\": reconstruction_loss,\n",
        "            \"kl_loss\": kl_loss,\n",
        "            \n",
        "        }\n",
        "    def call(self, x):\n",
        "        encoded = self.encoder(x)\n",
        "        decoded = self.decoder(encoded[2])\n",
        "        return decoded"
      ]
    },
    {
      "cell_type": "code",
      "execution_count": null,
      "metadata": {
        "id": "DWwEGUHfgLG6"
      },
      "outputs": [],
      "source": [
        "from tensorflow.python.ops.numpy_ops import np_config\n",
        "np_config.enable_numpy_behavior()"
      ]
    },
    {
      "cell_type": "code",
      "execution_count": null,
      "metadata": {
        "colab": {
          "base_uri": "https://localhost:8080/",
          "height": 397
        },
        "id": "sc8VK5g8hW-r",
        "outputId": "b7503f1a-c378-46b9-e9d6-1f16732d6b3d"
      },
      "outputs": [
        {
          "name": "stdout",
          "output_type": "stream",
          "text": [
            "Epoch 1/4\n",
            "392363/392363 [==============================] - 1081s 3ms/step - loss: 0.0201 - reconstruction_loss: 0.0201 - kl_loss: 4.3333e-06\n",
            "Epoch 2/4\n",
            "392363/392363 [==============================] - 1093s 3ms/step - loss: 0.0195 - reconstruction_loss: 0.0195 - kl_loss: 1.2344e-08\n",
            "Epoch 3/4\n",
            "392363/392363 [==============================] - 1070s 3ms/step - loss: 0.0195 - reconstruction_loss: 0.0195 - kl_loss: 6.5342e-09\n",
            "Epoch 4/4\n",
            "392363/392363 [==============================] - 1120s 3ms/step - loss: 0.0195 - reconstruction_loss: 0.0195 - kl_loss: 1.9163e-09\n"
          ]
        }
      ],
      "source": [
        "\n",
        "encoder = encoder_model(normal_train_data)\n",
        "decoder = decoder_model(normal_train_data)\n",
        "\n",
        "\n",
        "vae = VAE(encoder, decoder)\n",
        "\n",
        "\n",
        "vae.compile(optimizer=tf.keras.optimizers.Adam())\n",
        "\n",
        "\n",
        "history = vae.fit(normal_train_data, normal_train_data, \n",
        "          epochs=4, \n",
        "          batch_size=1\n",
        "          )"
      ]
    },
    {
      "cell_type": "code",
      "execution_count": null,
      "metadata": {
        "id": "tHpFzoDYkYhy"
      },
      "outputs": [],
      "source": [
        "count = np.count_nonzero(test_labels)\n",
        "print(count)"
      ]
    },
    {
      "cell_type": "code",
      "execution_count": null,
      "metadata": {
        "id": "VZamEV47g70-"
      },
      "outputs": [
        {
          "data": {
            "text/plain": [
              "<matplotlib.legend.Legend at 0x1fcad7115a0>"
            ]
          },
          "execution_count": 33,
          "metadata": {},
          "output_type": "execute_result"
        },
        {
          "data": {
            "image/png": "[encoded data removed]",
            "text/plain": [
              "<Figure size 640x480 with 1 Axes>"
            ]
          },
          "metadata": {},
          "output_type": "display_data"
        }
      ],
      "source": [
        "plt.plot(history.history[\"loss\"], label=\"Training Loss\")\n",
        "plt.legend()"
      ]
    },
    {
      "cell_type": "code",
      "execution_count": null,
      "metadata": {
        "id": "WUJ4y2Ozg_Tz"
      },
      "outputs": [
        {
          "data": {
            "image/png": "[encoded data removed]",
            "text/plain": [
              "<Figure size 640x480 with 1 Axes>"
            ]
          },
          "metadata": {},
          "output_type": "display_data"
        }
      ],
      "source": [
        "encoded_imgs = vae.encoder(normal_test_data)\n",
        "decoded_imgs = vae.decoder(encoded_imgs[0]).numpy()\n",
        "plt.plot(normal_test_data[0],'b')\n",
        "plt.plot(decoded_imgs[0],'r')\n",
        "#plt.fill_between(np.arange(140), decoded_imgs[0], normal_test_data[0], color='lightcoral' )\n",
        "plt.legend(labels=[\"Input\", \"Reconstruction\", \"Error\"])\n",
        "plt.show()"
      ]
    },
    {
      "cell_type": "code",
      "execution_count": null,
      "metadata": {
        "id": "HmJDwlp33LWz"
      },
      "outputs": [
        {
          "data": {
            "image/png": "[encoded data removed]",
            "text/plain": [
              "<Figure size 640x480 with 1 Axes>"
            ]
          },
          "metadata": {},
          "output_type": "display_data"
        }
      ],
      "source": [
        "encoded_imgs = vae.encoder(anomalous_test_data)\n",
        "decoded_imgs = vae.decoder(encoded_imgs[0]).numpy()\n",
        "plt.plot(anomalous_test_data[0],'b')\n",
        "plt.plot(decoded_imgs[0],'r')\n",
        "#plt.fill_between(np.arange(140), decoded_imgs[0], anomalous_test_data[0], color='lightcoral' )\n",
        "plt.legend(labels=[\"Input\", \"Reconstruction\", \"Error\"])\n",
        "plt.show()"
      ]
    },
    {
      "cell_type": "code",
      "execution_count": null,
      "metadata": {
        "id": "emHm6X9ohBzJ"
      },
      "outputs": [
        {
          "name": "stdout",
          "output_type": "stream",
          "text": [
            "12262/12262 [==============================] - 32s 3ms/step\n"
          ]
        },
        {
          "data": {
            "image/png": "[encoded data removed]",
            "text/plain": [
              "<Figure size 640x480 with 1 Axes>"
            ]
          },
          "metadata": {},
          "output_type": "display_data"
        }
      ],
      "source": [
        "reconstructions = vae.predict(normal_train_data)\n",
        "train_loss = tf.keras.losses.mae(reconstructions, normal_train_data)\n",
        "\n",
        "plt.hist(train_loss, bins=50)\n",
        "plt.xlabel(\"Train loss\")\n",
        "plt.ylabel(\"No of examples\")\n",
        "plt.show()"
      ]
    },
    {
      "cell_type": "code",
      "execution_count": null,
      "metadata": {
        "id": "oA0gVES6YO56"
      },
      "outputs": [],
      "source": [
        "print(loss_vector[0])"
      ]
    },
    {
      "cell_type": "code",
      "execution_count": null,
      "metadata": {
        "id": "S2PcBRduhEyf"
      },
      "outputs": [
        {
          "name": "stdout",
          "output_type": "stream",
          "text": [
            "Threshold:  tf.Tensor(0.03862259086787628, shape=(), dtype=float64)\n"
          ]
        }
      ],
      "source": [
        "threshold_vae = np.mean(train_loss) + 1 * np.std(train_loss)\n",
        "print(\"Threshold: \", threshold_vae)"
      ]
    },
    {
      "cell_type": "code",
      "execution_count": null,
      "metadata": {
        "id": "lfNvbUrehHbc"
      },
      "outputs": [
        {
          "name": "stdout",
          "output_type": "stream",
          "text": [
            "217/217 [==============================] - 0s 1ms/step\n"
          ]
        },
        {
          "data": {
            "image/png": "[encoded data removed]",
            "text/plain": [
              "<Figure size 640x480 with 1 Axes>"
            ]
          },
          "metadata": {},
          "output_type": "display_data"
        }
      ],
      "source": [
        "reconstructions = vae.predict(anomalous_test_data)\n",
        "test_loss = tf.keras.losses.mae(reconstructions, anomalous_test_data)\n",
        "\n",
        "plt.hist(test_loss, bins=50)\n",
        "plt.axvline(threshold_vae,c='r')\n",
        "plt.xlabel(\"Test loss\")\n",
        "plt.ylabel(\"No of examples\")\n",
        "plt.show()"
      ]
    },
    {
      "cell_type": "code",
      "execution_count": null,
      "metadata": {
        "id": "l0vubItFhMZF"
      },
      "outputs": [],
      "source": [
        "def predict(model, data, threshold):\n",
        "  reconstructions = model.predict(data)\n",
        "  loss = tf.keras.losses.mae(reconstructions, data)\n",
        "  return tf.math.less(loss, threshold)\n",
        "\n",
        "def print_stats(predictions, labels):\n",
        "  print(\"Accuracy = {}\".format(accuracy_score(labels, preds)))\n",
        "  print(\"Precision = {}\".format(precision_score(labels, preds)))\n",
        "  print(\"Recall = {}\".format(recall_score(labels, preds)))"
      ]
    },
    {
      "cell_type": "code",
      "execution_count": null,
      "metadata": {
        "id": "uFjeMCPXhO3H"
      },
      "outputs": [
        {
          "name": "stdout",
          "output_type": "stream",
          "text": [
            "3280/3280 [==============================] - 8s 2ms/step\n",
            "Variational Autoencoder\n",
            "Accuracy = 0.9421455318094766\n",
            "Precision = 0.9527607905698839\n",
            "Recall = 0.9869931140015302\n"
          ]
        }
      ],
      "source": [
        "preds = predict(vae, test_data, threshold_vae)\n",
        "print(\"Variational Autoencoder\")\n",
        "print_stats(preds, test_labels)"
      ]
    },
    {
      "cell_type": "code",
      "execution_count": null,
      "metadata": {},
      "outputs": [],
      "source": [
        "test_data_5k = np.loadtxt('C:/Users/harini/Documents/input/test_data_5k.txt')\n",
        "test_label_5k = np.loadtxt('C:/Users/harini/Documents/input/test_label_5k.txt')"
      ]
    },
    {
      "cell_type": "code",
      "execution_count": null,
      "metadata": {},
      "outputs": [
        {
          "name": "stdout",
          "output_type": "stream",
          "text": [
            "3228/3228 [==============================] - 6s 2ms/step\n",
            "No.of outliers: tf.Tensor(5280, shape=(), dtype=int64)\n"
          ]
        }
      ],
      "source": [
        "\n",
        "preds = predict(vae, test_data_5k, threshold_vae)\n",
        "print(\"No.of outliers:\",tf.math.count_nonzero(~preds))"
      ]
    },
    {
      "cell_type": "code",
      "execution_count": null,
      "metadata": {},
      "outputs": [],
      "source": [
        "test_data_10k = np.loadtxt('C:/Users/harini/Documents/input/test_data_10k.txt')\n",
        "test_label_10k = np.loadtxt('C:/Users/harini/Documents/input/test_label_10k.txt')"
      ]
    },
    {
      "cell_type": "code",
      "execution_count": null,
      "metadata": {},
      "outputs": [
        {
          "name": "stdout",
          "output_type": "stream",
          "text": [
            "3228/3228 [==============================] - 7s 2ms/step\n",
            "No.of outliers: tf.Tensor(10564, shape=(), dtype=int64)\n"
          ]
        }
      ],
      "source": [
        "\n",
        "preds = predict(vae, test_data_10k, threshold_vae)\n",
        "print(\"No.of outliers:\",tf.math.count_nonzero(~preds))"
      ]
    },
    {
      "cell_type": "code",
      "execution_count": null,
      "metadata": {},
      "outputs": [],
      "source": [
        "test_data_15k = np.loadtxt('C:/Users/harini/Documents/input/test_data_15k.txt')\n",
        "test_label_15k = np.loadtxt('C:/Users/harini/Documents/input/test_label_15k.txt')"
      ]
    },
    {
      "cell_type": "code",
      "execution_count": null,
      "metadata": {},
      "outputs": [
        {
          "name": "stdout",
          "output_type": "stream",
          "text": [
            "3228/3228 [==============================] - 7s 2ms/step\n",
            "No.of outliers: tf.Tensor(15814, shape=(), dtype=int64)\n"
          ]
        }
      ],
      "source": [
        "\n",
        "preds = predict(vae, test_data_15k, threshold_vae)\n",
        "print(\"No.of outliers:\",tf.math.count_nonzero(~preds))"
      ]
    },
    {
      "cell_type": "code",
      "execution_count": null,
      "metadata": {},
      "outputs": [],
      "source": [
        "test_data_20k = np.loadtxt('C:/Users/harini/Documents/input/test_data_20k.txt')\n",
        "test_label_20k = np.loadtxt('C:/Users/harini/Documents/input/test_label_20k.txt')"
      ]
    },
    {
      "cell_type": "code",
      "execution_count": null,
      "metadata": {},
      "outputs": [
        {
          "name": "stdout",
          "output_type": "stream",
          "text": [
            "3228/3228 [==============================] - 7s 2ms/step\n",
            "No.of outliers: tf.Tensor(21118, shape=(), dtype=int64)\n"
          ]
        }
      ],
      "source": [
        "\n",
        "preds = predict(vae, test_data_20k, threshold_vae)\n",
        "print(\"No.of outliers:\",tf.math.count_nonzero(~preds))"
      ]
    },
    {
      "cell_type": "code",
      "execution_count": null,
      "metadata": {},
      "outputs": [],
      "source": [
        "test_data_25k = np.loadtxt('C:/Users/harini/Documents/input/test_data_25k.txt')\n",
        "test_label_25k = np.loadtxt('C:/Users/harini/Documents/input/test_label_25k.txt')"
      ]
    },
    {
      "cell_type": "code",
      "execution_count": null,
      "metadata": {},
      "outputs": [
        {
          "name": "stdout",
          "output_type": "stream",
          "text": [
            "3228/3228 [==============================] - 7s 2ms/step\n",
            "No.of outliers: tf.Tensor(26327, shape=(), dtype=int64)\n"
          ]
        }
      ],
      "source": [
        "\n",
        "preds = predict(vae, test_data_25k, threshold_vae)\n",
        "print(\"No.of outliers:\",tf.math.count_nonzero(~preds))"
      ]
    }
  ],
  "metadata": {
    "colab": {
      "provenance": []
    },
    "kernelspec": {
      "display_name": "Python 3",
      "language": "python",
      "name": "python3"
    },
    "language_info": {
      "codemirror_mode": {
        "name": "ipython",
        "version": 3
      },
      "file_extension": ".py",
      "mimetype": "text/x-python",
      "name": "python",
      "nbconvert_exporter": "python",
      "pygments_lexer": "ipython3",
      "version": "3.10.11"
    },
    "vscode": {
      "interpreter": {
        "hash": "ab55d9ed799587079b58e9892bc7d9886cc776218681a3489490942269a67536"
      }
    }
  },
  "nbformat": 4,
  "nbformat_minor": 0
}
